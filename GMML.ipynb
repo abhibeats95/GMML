{
  "cells": [
    {
      "cell_type": "markdown",
      "metadata": {
        "id": "view-in-github",
        "colab_type": "text"
      },
      "source": [
        "<a href=\"https://colab.research.google.com/github/abhibeats95/GMML/blob/main/GMML.ipynb\" target=\"_parent\"><img src=\"https://colab.research.google.com/assets/colab-badge.svg\" alt=\"Open In Colab\"/></a>"
      ]
    },
    {
      "cell_type": "code",
      "execution_count": null,
      "metadata": {
        "colab": {
          "base_uri": "https://localhost:8080/"
        },
        "id": "Y7vov-S2mn4F",
        "outputId": "27a36c1d-7519-42a4-fb9f-96b4520131da"
      },
      "outputs": [
        {
          "name": "stdout",
          "output_type": "stream",
          "text": [
            "Fri Jul 22 02:34:07 2022       \n",
            "+-----------------------------------------------------------------------------+\n",
            "| NVIDIA-SMI 460.32.03    Driver Version: 460.32.03    CUDA Version: 11.2     |\n",
            "|-------------------------------+----------------------+----------------------+\n",
            "| GPU  Name        Persistence-M| Bus-Id        Disp.A | Volatile Uncorr. ECC |\n",
            "| Fan  Temp  Perf  Pwr:Usage/Cap|         Memory-Usage | GPU-Util  Compute M. |\n",
            "|                               |                      |               MIG M. |\n",
            "|===============================+======================+======================|\n",
            "|   0  Tesla P100-PCIE...  Off  | 00000000:00:04.0 Off |                    0 |\n",
            "| N/A   38C    P0    27W / 250W |      0MiB / 16280MiB |      0%      Default |\n",
            "|                               |                      |                  N/A |\n",
            "+-------------------------------+----------------------+----------------------+\n",
            "                                                                               \n",
            "+-----------------------------------------------------------------------------+\n",
            "| Processes:                                                                  |\n",
            "|  GPU   GI   CI        PID   Type   Process name                  GPU Memory |\n",
            "|        ID   ID                                                   Usage      |\n",
            "|=============================================================================|\n",
            "|  No running processes found                                                 |\n",
            "+-----------------------------------------------------------------------------+\n",
            "name, driver_version, memory.total [MiB]\n",
            "Tesla P100-PCIE-16GB, 460.32.03, 16280 MiB\n"
          ]
        }
      ],
      "source": [
        "gpu_info = !nvidia-smi\n",
        "gpu_info = '\\n'.join(gpu_info)\n",
        "if gpu_info.find('failed') >= 0:\n",
        "  print('Not connected to a GPU')\n",
        "else:\n",
        "  print(gpu_info)\n",
        "\n",
        "!nvidia-smi --query-gpu=gpu_name,driver_version,memory.total --format=csv"
      ]
    },
    {
      "cell_type": "code",
      "source": [
        "!pip install pytorch-lightning-bolts==0.3.2\n",
        "!pip install lightning-bolts==0.4.0\n",
        "!pip install ndg-httpsclient==0.5.1\n",
        "!pip install pytorch-lightning==1.4.9\n",
        "!pip install neptune-client==0.14.2\n",
        "!pip install urllib3==1.26.7\n",
        "!pip install neptune-contrib\n",
        "!pip install pytorch-lightning\n",
        "!pip install faiss\n",
        "!pip install timm\n",
        "!pip install faiss-cpu --no-cache\n",
        "!pip install sacred\n",
        "#!pip install faiss-gpu cudatoolkit=10 -c pytorch\n",
        "#! python <executable_file.py> # Link for executing any python file\n",
        "!pip install --upgrade torch==1.9.0\n",
        "!pip install --upgrade torchvision==0.10.0\n",
        "!pip install --upgrade torchmetrics==0.6.0\n",
        "!pip install torchtext==0.10.0\n",
        "!pip install addict\n",
        "!pip install yapf"
      ],
      "metadata": {
        "id": "vXk62Ck-Mmzk"
      },
      "execution_count": null,
      "outputs": []
    },
    {
      "cell_type": "code",
      "execution_count": null,
      "metadata": {
        "colab": {
          "base_uri": "https://localhost:8080/"
        },
        "id": "zpZtzcqbyJST",
        "outputId": "cd0e8b27-0017-4192-cd36-59d7d6d95373"
      },
      "outputs": [
        {
          "name": "stdout",
          "output_type": "stream",
          "text": [
            "Looking in indexes: https://pypi.org/simple, https://us-python.pkg.dev/colab-wheels/public/simple/\n",
            "Looking in links: https://download.pytorch.org/whl/torch_stable.html\n",
            "Requirement already satisfied: torch==1.5.1+cu101 in /usr/local/lib/python3.7/dist-packages (1.5.1+cu101)\n",
            "Requirement already satisfied: torchvision==0.6.1+cu101 in /usr/local/lib/python3.7/dist-packages (0.6.1+cu101)\n",
            "Requirement already satisfied: future in /usr/local/lib/python3.7/dist-packages (from torch==1.5.1+cu101) (0.16.0)\n",
            "Requirement already satisfied: numpy in /usr/local/lib/python3.7/dist-packages (from torch==1.5.1+cu101) (1.21.6)\n",
            "Requirement already satisfied: pillow>=4.1.1 in /usr/local/lib/python3.7/dist-packages (from torchvision==0.6.1+cu101) (7.1.2)\n",
            "1.5.1+cu101\n"
          ]
        }
      ],
      "source": [
        "!pip install torch==1.5.1+cu101 torchvision==0.6.1+cu101 -f https://download.pytorch.org/whl/torch_stable.html\n",
        "import torch \n",
        "print(torch.__version__)"
      ]
    },
    {
      "cell_type": "code",
      "execution_count": null,
      "metadata": {
        "colab": {
          "base_uri": "https://localhost:8080/"
        },
        "id": "Yz4Jwbk1trt5",
        "outputId": "bb96f04a-a1ac-4cc3-e685-4c0f40588a31"
      },
      "outputs": [
        {
          "name": "stdout",
          "output_type": "stream",
          "text": [
            "1.11.0+cu113\n",
            "Training on device cuda.\n"
          ]
        }
      ],
      "source": [
        "import torch.nn.functional as F\n",
        "from torchvision import transforms as tf \n",
        "from torchvision import transforms\n",
        "import torch \n",
        "import torchvision\n",
        "import torch.nn as nn\n",
        "from PIL import ImageFilter, ImageOps, Image\n",
        "import numpy as np \n",
        "import os \n",
        "import sys \n",
        "import random\n",
        "import cv2\n",
        "from numpy.random import randint\n",
        "from google.colab.patches import cv2_imshow\n",
        "import matplotlib.pyplot as plt\n",
        "from matplotlib import image\n",
        "import math\n",
        "from torchvision.datasets import CIFAR10\n",
        "from torchvision.datasets.voc import VOCDetection\n",
        "import xml.etree.ElementTree as ET\n",
        "import json\n",
        "import time\n",
        "from pathlib import Path\n",
        "import datetime\n",
        "import torch.distributed as dist\n",
        "from collections import defaultdict, deque\n",
        "from traitlets.traitlets import Instance\n",
        "import subprocess\n",
        "import torch.backends.cudnn as cudnn\n",
        "print(torch.__version__)\n",
        "\n",
        "device = (torch.device('cuda') if torch.cuda.is_available()\n",
        "          else torch.device('cpu'))\n",
        "print(f\"Training on device {device}.\")"
      ]
    },
    {
      "cell_type": "code",
      "execution_count": null,
      "metadata": {
        "id": "lkyruZ28vhd8"
      },
      "outputs": [],
      "source": [
        "def get_sha():\n",
        "    cwd = os.path.dirname(os.path.abspath(__file__))\n",
        "\n",
        "    def _run(command):\n",
        "        return subprocess.check_output(command, cwd=cwd).decode('ascii').strip()\n",
        "    sha = 'N/A'\n",
        "    diff = \"clean\"\n",
        "    branch = 'N/A'\n",
        "    try:\n",
        "        sha = _run(['git', 'rev-parse', 'HEAD'])\n",
        "        subprocess.check_output(['git', 'diff'], cwd=cwd)\n",
        "        diff = _run(['git', 'diff-index', 'HEAD'])\n",
        "        diff = \"has uncommited changes\" if diff else \"clean\"\n",
        "        branch = _run(['git', 'rev-parse', '--abbrev-ref', 'HEAD'])\n",
        "    except Exception:\n",
        "        pass\n",
        "    message = f\"sha: {sha}, status: {diff}, branch: {branch}\"\n",
        "    return message\n"
      ]
    },
    {
      "cell_type": "code",
      "execution_count": null,
      "metadata": {
        "id": "xgdpAjQYoNK5"
      },
      "outputs": [],
      "source": [
        "dist_url=\"env://\"\n",
        "def setup_for_distributed(is_master):\n",
        "    \"\"\"\n",
        "    This function disables printing when not in master process\n",
        "    \"\"\"\n",
        "    import builtins as __builtin__\n",
        "    builtin_print = __builtin__.print\n",
        "\n",
        "    def print(*args, **kwargs):\n",
        "        force = kwargs.pop('force', False)\n",
        "        if is_master or force:\n",
        "            builtin_print(*args, **kwargs)\n",
        "\n",
        "    __builtin__.print = print\n",
        "\n",
        "def init_distributed_mode():\n",
        "    # launched with torch.distributed.launch\n",
        "    if 'RANK' in os.environ and 'WORLD_SIZE' in os.environ:\n",
        "        rank = int(os.environ[\"RANK\"])\n",
        "        world_size = int(os.environ['WORLD_SIZE'])\n",
        "        gpu = int(os.environ['LOCAL_RANK'])\n",
        "    # launched with submitit on a slurm cluster\n",
        "    elif 'SLURM_PROCID' in os.environ:\n",
        "        rank = int(os.environ['SLURM_PROCID'])\n",
        "        gpu = rank % torch.cuda.device_count()\n",
        "    # launched naively with `python main_dino.py`\n",
        "    # we manually add MASTER_ADDR and MASTER_PORT to env variables\n",
        "    elif torch.cuda.is_available():\n",
        "        print('Will run the code on one GPU.')\n",
        "        rank, gpu,world_size = 0, 0, 1\n",
        "        os.environ['MASTER_ADDR'] = '127.0.0.1'\n",
        "        os.environ['MASTER_PORT'] = '29500'\n",
        "    else:\n",
        "        print('Does not support training without GPU.')\n",
        "        sys.exit(1)\n",
        "\n",
        "    distributed = True\n",
        "    dist.init_process_group(\n",
        "        backend=\"nccl\",\n",
        "        init_method=dist_url,\n",
        "        world_size=world_size,\n",
        "        rank=rank,\n",
        "    )\n",
        "\n",
        "    torch.cuda.set_device(gpu)\n",
        "    print('| distributed init (rank {}): {}'.format(\n",
        "        rank, dist_url), flush=True)\n",
        "    dist.barrier()\n",
        "    setup_for_distributed(rank == 0)\n",
        "\n"
      ]
    },
    {
      "cell_type": "code",
      "execution_count": null,
      "metadata": {
        "id": "iYl2oMcyq7jJ"
      },
      "outputs": [],
      "source": [
        "def fix_random_seeds(seed=31):\n",
        "    \"\"\"\n",
        "    Fix random seeds.\n",
        "    \"\"\"\n",
        "    torch.manual_seed(seed)\n",
        "    torch.cuda.manual_seed_all(seed)\n",
        "    np.random.seed(seed)"
      ]
    },
    {
      "cell_type": "code",
      "execution_count": null,
      "metadata": {
        "id": "Kcyb-BY1fcI2"
      },
      "outputs": [],
      "source": [
        "def clip_gradients(model, clip):\n",
        "    norms = []\n",
        "    for name, p in model.named_parameters():\n",
        "        if p.grad is not None:\n",
        "            param_norm = p.grad.data.norm(2)\n",
        "            norms.append(param_norm.item())\n",
        "            clip_coef = clip / (param_norm + 1e-6)\n",
        "            if clip_coef < 1:\n",
        "                p.grad.data.mul_(clip_coef)\n",
        "    return norms\n",
        "    \n",
        "def is_dist_avail_and_initialized():\n",
        "    if not dist.is_available():\n",
        "        return False\n",
        "    if not dist.is_initialized():\n",
        "        return False\n",
        "    return True\n",
        "\n",
        "def get_rank():\n",
        "    if not is_dist_avail_and_initialized():\n",
        "        return 0\n",
        "    return dist.get_rank()\n",
        "\n",
        "def is_main_process():\n",
        "    return get_rank() == 0\n",
        "\n",
        "\n",
        "class MetricLogger(object):\n",
        "    def __init__(self, delimiter=\"\\t\"):\n",
        "        self.meters = defaultdict(SmoothedValue)\n",
        "        self.delimiter = delimiter\n",
        "\n",
        "    def update(self, **kwargs):\n",
        "        for k, v in kwargs.items():\n",
        "            if isinstance(v, torch.Tensor):\n",
        "                v = v.item()\n",
        "            assert isinstance(v, (float, int))\n",
        "            self.meters[k].update(v)\n",
        "\n",
        "    def __getattr__(self, attr):\n",
        "        if attr in self.meters:\n",
        "            return self.meters[attr]\n",
        "        if attr in self.__dict__:\n",
        "            return self.__dict__[attr]\n",
        "        raise AttributeError(\"'{}' object has no attribute '{}'\".format(\n",
        "            type(self).__name__, attr))\n",
        "\n",
        "    def __str__(self):\n",
        "        loss_str = []\n",
        "        for name, meter in self.meters.items():\n",
        "            loss_str.append(\n",
        "                \"{}: {}\".format(name, str(meter))\n",
        "            )\n",
        "        return self.delimiter.join(loss_str)\n",
        "\n",
        "    def synchronize_between_processes(self):\n",
        "        for meter in self.meters.values():\n",
        "            meter.synchronize_between_processes()\n",
        "\n",
        "    def add_meter(self, name, meter):\n",
        "        self.meters[name] = meter\n",
        "\n",
        "    def log_every(self, iterable, print_freq, header=None):\n",
        "        i = 0\n",
        "        if not header:\n",
        "            header = ''\n",
        "        start_time = time.time()\n",
        "        end = time.time()\n",
        "        iter_time = SmoothedValue(fmt='{avg:.6f}')\n",
        "        data_time = SmoothedValue(fmt='{avg:.6f}')\n",
        "        space_fmt = ':' + str(len(str(len(iterable)))) + 'd'\n",
        "        if torch.cuda.is_available():\n",
        "            log_msg = self.delimiter.join([\n",
        "                header,\n",
        "                '[{0' + space_fmt + '}/{1}]',\n",
        "                'eta: {eta}',\n",
        "                '{meters}',\n",
        "                'time: {time}',\n",
        "                'data: {data}',\n",
        "                'max mem: {memory:.0f}'\n",
        "            ])\n",
        "        else:\n",
        "            log_msg = self.delimiter.join([\n",
        "                header,\n",
        "                '[{0' + space_fmt + '}/{1}]',\n",
        "                'eta: {eta}',\n",
        "                '{meters}',\n",
        "                'time: {time}',\n",
        "                'data: {data}'\n",
        "            ])\n",
        "        MB = 1024.0 * 1024.0\n",
        "        for obj in iterable:\n",
        "            data_time.update(time.time() - end)\n",
        "            yield obj\n",
        "            iter_time.update(time.time() - end)\n",
        "            if i % print_freq == 0 or i == len(iterable) - 1:\n",
        "                eta_seconds = iter_time.global_avg * (len(iterable) - i)\n",
        "                eta_string = str(datetime.timedelta(seconds=int(eta_seconds)))\n",
        "                if torch.cuda.is_available():\n",
        "                    print(log_msg.format(\n",
        "                        i, len(iterable), eta=eta_string,\n",
        "                        meters=str(self),\n",
        "                        time=str(iter_time), data=str(data_time),\n",
        "                        memory=torch.cuda.max_memory_allocated() / MB))\n",
        "                else:\n",
        "                    print(log_msg.format(\n",
        "                        i, len(iterable), eta=eta_string,\n",
        "                        meters=str(self),\n",
        "                        time=str(iter_time), data=str(data_time)))\n",
        "            i += 1\n",
        "            end = time.time()\n",
        "        total_time = time.time() - start_time\n",
        "        total_time_str = str(datetime.timedelta(seconds=int(total_time)))\n",
        "        print('{} Total time: {} ({:.6f} s / it)'.format(\n",
        "            header, total_time_str, total_time / len(iterable)))\n",
        "class SmoothedValue(object):\n",
        "    \"\"\"Track a series of values and provide access to smoothed values over a\n",
        "    window or the global series average.\n",
        "    \"\"\"\n",
        "\n",
        "    def __init__(self, window_size=20, fmt=None):\n",
        "        if fmt is None:\n",
        "            fmt = \"{median:.6f} ({global_avg:.6f})\"\n",
        "        self.deque = deque(maxlen=window_size)\n",
        "        self.total = 0.0\n",
        "        self.count = 0\n",
        "        self.fmt = fmt\n",
        "\n",
        "    def update(self, value, n=1):\n",
        "        self.deque.append(value)\n",
        "        self.count += n\n",
        "        self.total += value * n\n",
        "\n",
        "    def synchronize_between_processes(self):\n",
        "        \"\"\"\n",
        "        Warning: does not synchronize the deque!\n",
        "        \"\"\"\n",
        "        if not is_dist_avail_and_initialized():\n",
        "            return\n",
        "        t = torch.tensor([self.count, self.total], dtype=torch.float64, device='cuda')\n",
        "        dist.barrier()\n",
        "        dist.all_reduce(t)\n",
        "        t = t.tolist()\n",
        "        self.count = int(t[0])\n",
        "        self.total = t[1]\n",
        "\n",
        "    @property\n",
        "    def median(self):\n",
        "        d = torch.tensor(list(self.deque))\n",
        "        return d.median().item()\n",
        "\n",
        "    @property\n",
        "    def avg(self):\n",
        "        d = torch.tensor(list(self.deque), dtype=torch.float32)\n",
        "        return d.mean().item()\n",
        "\n",
        "    @property\n",
        "    def global_avg(self):\n",
        "        return self.total / self.count\n",
        "\n",
        "    @property\n",
        "    def max(self):\n",
        "        return max(self.deque)\n",
        "\n",
        "    @property\n",
        "    def value(self):\n",
        "        return self.deque[-1]\n",
        "\n",
        "    def __str__(self):\n",
        "        return self.fmt.format(\n",
        "            median=self.median,\n",
        "            avg=self.avg,\n",
        "            global_avg=self.global_avg,\n",
        "            max=self.max,\n",
        "            value=self.value)\n",
        "        \n",
        "def save_on_master(*args, **kwargs):\n",
        "    if is_main_process():\n",
        "        torch.save(*args, **kwargs)"
      ]
    },
    {
      "cell_type": "code",
      "execution_count": null,
      "metadata": {
        "colab": {
          "base_uri": "https://localhost:8080/"
        },
        "id": "XyBhIp0K1ZdT",
        "outputId": "a2d3b14e-adaa-450b-aeb8-92fb1b58d262"
      },
      "outputs": [
        {
          "name": "stdout",
          "output_type": "stream",
          "text": [
            "Mounted at /content/gdrive\n"
          ]
        }
      ],
      "source": [
        "from google.colab import drive\n",
        "drive.mount('/content/gdrive')"
      ]
    },
    {
      "cell_type": "code",
      "execution_count": null,
      "metadata": {
        "id": "YaIYBfL7KPPd"
      },
      "outputs": [],
      "source": [
        "#path= '/content/gdrive/MyDrive/Colab Notebooks/Individual_Images /Screenshot (212).png'\n",
        "#img=Image.open(path)\n",
        "#img=cv2.imread(path)\n",
        "\n",
        "#img=torch.from_numpy(img)\n",
        "#per_img=img.permute(2,0,1)\n",
        "#img.shape"
      ]
    },
    {
      "cell_type": "code",
      "execution_count": null,
      "metadata": {
        "id": "eDod38Lv3fkq"
      },
      "outputs": [],
      "source": [
        "class Gaussian_Blur():\n",
        "  def __init__(self,p=0.5, radius_min=0.1, radius_max=2.0):\n",
        "    self.prob=p\n",
        "    self.radius_min= radius_min\n",
        "    self.radius_max= radius_max\n",
        "\n",
        "  def __call__(self,img):\n",
        "    do_it= random.random() <=self.prob\n",
        "\n",
        "    if not do_it:\n",
        "      return img \n",
        "\n",
        "    return img.filter(ImageFilter.GaussianBlur(\n",
        "        radius=random.uniform(self.radius_min, self.radius_max)\n",
        "           )\n",
        "    )\n",
        "\n",
        "class solarization(object):\n",
        "  def __init__(self,p):\n",
        "    self.p=p\n",
        "  \n",
        "  def __call__(self,img):\n",
        "    if random.random()<self.p:\n",
        "      return ImageOps.solarize(img)\n",
        "\n",
        "    else:\n",
        "      return img \n"
      ]
    },
    {
      "cell_type": "code",
      "execution_count": null,
      "metadata": {
        "id": "TtIDT0FBK0fp"
      },
      "outputs": [],
      "source": [
        "def GMML_drop_rand_patches(X, X_rep=None, drop_type='noise', max_replace=0.7, align=16, max_block_sz=0.3):\n",
        "    #######################\n",
        "    # max_replace: percentage of image to be replaced\n",
        "    # align: align corruption with the patch sizes\n",
        "    # max_block_sz: percentage of the maximum block to be dropped\n",
        "    #######################\n",
        "   \n",
        "    np.random.seed()    \n",
        "    C, H, W = X.size()\n",
        "    n_drop_pix = np.random.uniform(min(0.5, max_replace), max_replace)*H*W\n",
        "    mx_blk_height = int(H*max_block_sz)\n",
        "    mx_blk_width = int(W*max_block_sz)\n",
        "    \n",
        "    align = max(1, align)\n",
        "    \n",
        "    mask = torch.zeros_like(X)\n",
        "    drop_t = np.random.choice(drop_type.split('-'))\n",
        "    \n",
        "    while mask[0].sum() < n_drop_pix:\n",
        "        \n",
        "        ####### get a random block to replace \n",
        "        rnd_r = ( randint(0, H-align) // align ) * align\n",
        "        rnd_c = ( randint(0, W-align) // align ) * align\n",
        "\n",
        "        rnd_h = min(randint(align, mx_blk_height), H-rnd_r)\n",
        "        rnd_h = round( rnd_h / align ) * align\n",
        "        rnd_w = min(randint(align, mx_blk_width), W-rnd_c)\n",
        "        rnd_w = round( rnd_w / align ) * align\n",
        "        \n",
        "        if X_rep is not None:\n",
        "            X[:, rnd_r:rnd_r+rnd_h, rnd_c:rnd_c+rnd_w] = X_rep[:, rnd_r:rnd_r+rnd_h, rnd_c:rnd_c+rnd_w].detach().clone()\n",
        "        else:\n",
        "            if drop_t == 'noise':\n",
        "                X[:, rnd_r:rnd_r+rnd_h, rnd_c:rnd_c+rnd_w] = torch.empty((C, rnd_h, rnd_w), dtype=X.dtype, device=X.device).normal_()\n",
        "            elif drop_t == 'zeros':\n",
        "                X[:, rnd_r:rnd_r+rnd_h, rnd_c:rnd_c+rnd_w] = torch.zeros((C, rnd_h, rnd_w), dtype=X.dtype, device=X.device)\n",
        "            else:\n",
        "                ####### get a random block to replace from\n",
        "                rnd_r2 = (randint(0, H-rnd_h) // align ) * align\n",
        "                rnd_c2 = (randint(0, W-rnd_w) // align ) * align\n",
        "            \n",
        "                X[:, rnd_r:rnd_r+rnd_h, rnd_c:rnd_c+rnd_w] = X[:, rnd_r2:rnd_r2+rnd_h, rnd_c2:rnd_c2+rnd_w].detach().clone()\n",
        "            \n",
        "        mask[:, rnd_r:rnd_r+rnd_h, rnd_c:rnd_c+rnd_w] = 1 \n",
        "         \n",
        "    return X, mask"
      ]
    },
    {
      "cell_type": "code",
      "execution_count": null,
      "metadata": {
        "id": "Sh6kqY8f18_B"
      },
      "outputs": [],
      "source": [
        "class DataAugmentationSiT(object):\n",
        "   def __init__(self,drop_per,drop_type,drop_align,img_size, global_crop_scale,local_crop_scale,local_num_crop=0):\n",
        "     # for corruption\n",
        "     self.drop_per=drop_per\n",
        "     self.drop_type= drop_type\n",
        "     self.drop_align= drop_align\n",
        "   \n",
        "\n",
        "     self.global_crop_scale=global_crop_scale\n",
        "     self.local_crop_scale= local_crop_scale\n",
        "     self.local_num_crop=local_num_crop\n",
        "\n",
        "\n",
        "\n",
        "     self.img_size= img_size\n",
        "\n",
        "     self.rand_resize_and_flip=tf.Compose([\n",
        "               tf.RandomResizedCrop(img_size, scale=global_crop_scale, interpolation=Image.BICUBIC),\n",
        "               tf.RandomHorizontalFlip(p=0.5)\n",
        "               ])\n",
        "   \n",
        "     self.rand_resize_and_flip_local=tf.Compose([\n",
        "               tf.RandomResizedCrop(96, scale=local_crop_scale, interpolation=Image.BICUBIC),\n",
        "               tf.RandomHorizontalFlip(p=0.5)\n",
        "               ])\n",
        "   \n",
        "   ##light Color jittering\n",
        "     self.color_jitter1= tf.Compose([\n",
        "                                   tf.RandomApply([tf.ColorJitter(brightness=0.1,contrast=0.1,saturation=0.1,hue=0.1)],p=0.3),\n",
        "   ])\n",
        "\n",
        "   ## harsh color jitter for SiT model\n",
        "     self.color_jitter2= tf.Compose([\n",
        "                                   tf.RandomApply([tf.ColorJitter(brightness=0.4, contrast=0.4,saturation=0.2, hue=0.1)], p=0.8),\n",
        "                                   tf.RandomGrayscale(p=0.2),\n",
        "                                   \n",
        "   ])\n",
        "\n",
        "     normalize= tf.Compose([\n",
        "                          tf.ToTensor(),\n",
        "                          tf.Normalize((0.485, 0.456, 0.406), (0.229, 0.224, 0.225)),\n",
        "   ])\n",
        "\n",
        "\n",
        "     self.clean_trasn=tf.Compose([\n",
        "                                self.color_jitter1,\n",
        "                                Gaussian_Blur(0.1),\n",
        "                                normalize,\n",
        "\n",
        "\n",
        "   ])\n",
        "\n",
        "     self.corpt_trans=tf.Compose([\n",
        "                                self.color_jitter2,\n",
        "                                Gaussian_Blur(1.0),\n",
        "                                solarization(0.2),\n",
        "                                normalize,\n",
        "   ])\n",
        "   \n",
        "   def __call__(self, image):\n",
        "\n",
        "     clean_crop=[]\n",
        "     corpt_crop=[]\n",
        "     mask_crop=[]\n",
        "\n",
        "     ##augmentation 1\n",
        "     im = self.rand_resize_and_flip(image)\n",
        "     im_orig=self.clean_trasn(im)\n",
        "     im_croupt=im_orig.detach().clone()\n",
        "     im_mask=torch.zeros_like(im_croupt)\n",
        "\n",
        "     if self.drop_per>0:\n",
        "       im_croupt,im_mask=GMML_drop_rand_patches(im_croupt,max_replace=self.drop_per,align=self.drop_align, drop_type=self.drop_type)\n",
        "       \n",
        "     clean_crop.append(im_orig)\n",
        "     corpt_crop.append(im_croupt)\n",
        "     mask_crop.append(im_mask)\n",
        "\n",
        "     ##augmentation 2\n",
        "     im =self.rand_resize_and_flip(image)\n",
        "     im_orig=self.clean_trasn(im)\n",
        "     im_croupt=im_orig.detach().clone()\n",
        "     im_mask=torch.zeros_like(im_croupt)\n",
        "\n",
        "     if self.drop_per>0:\n",
        "       im_croupt, im_mask= GMML_drop_rand_patches(im_croupt,max_replace=self.drop_per, align=self.drop_align,drop_type=self.drop_type)\n",
        "\n",
        "     clean_crop.append(im_orig)\n",
        "     corpt_crop.append(im_croupt)\n",
        "     mask_crop.append(im_mask)\n",
        "\n",
        "\n",
        "     ##local crop augmentation\n",
        "\n",
        "     for _ in range(self.local_num_crop):\n",
        "       im= self.rand_resize_and_flip_local(image)\n",
        "\n",
        "       im_orig= self.clean_trasn(im)\n",
        "       im_croupt = im_orig.detach().clone()\n",
        "\n",
        "       if self.drop_per>0:\n",
        "         im_croupt, im_mask= GMML_drop_rand_patches(im_croupt, max_replace=self.drop_per,align=self.drop_align,drop_type=self.drop_type)\n",
        "      \n",
        "       clean_crop.append(im_orig)\n",
        "       corpt_crop.append(im_croupt)\n",
        "       mask_crop.append(im_mask)\n",
        "       \n",
        "     return clean_crop, corpt_crop, mask_crop\n",
        "\n",
        "# Taking the clean , corrupt nad mask images compers by noiseing and droping block augmentations applied by DataAugmentationSIT\n",
        "# and giving new corrpted and mask image clean images is replced by area of another image, this will generate the new corrupt image and mask\n",
        "def GMML_replace_list(samples, corrup_ver, mask_ver,drop_replace,drop_type,drop_align):\n",
        "  if not isinstance(samples, list):\n",
        "    samples=[samples]\n",
        "\n",
        "  rep_drop=1 if drop_type=='' else ( 1 / ( len(drop_type.split('-')) + 1 ) )\n",
        "\n",
        "  n_imgs= samples[0].size()[0]## number of images in batch\n",
        "  masks_all = []\n",
        "  aug_all = []\n",
        "  for si, s in enumerate(samples):\n",
        "        samples_aug = s.detach().clone()\n",
        "        masks = torch.zeros_like(samples_aug)\n",
        "        for i in range(n_imgs):\n",
        "            idx_rnd = randint(0, n_imgs)\n",
        "            if random.random() < rep_drop:\n",
        "              samples_aug[i], masks[i] = GMML_drop_rand_patches(samples_aug[i], samples[si][idx_rnd], max_replace=drop_replace, align=drop_align)\n",
        "            else:\n",
        "              samples_aug[i], masks[i] = corrup_ver[si][i], mask_ver[si][i]\n",
        "        #samples[si] = samples_aug\n",
        "        masks_all.append(masks)\n",
        "        aug_all.append(samples_aug)\n",
        "      \n",
        "  return aug_all, masks_all"
      ]
    },
    {
      "cell_type": "code",
      "execution_count": null,
      "metadata": {
        "id": "XtuEjNZehODN"
      },
      "outputs": [],
      "source": [
        "#!tar -xvf \"/content/drive/MyDrive/Colab Notebooks/Images/Dataset/pascal/VOCtrainval_06-Nov-2007.tar\" -C \"/content/drive/MyDrive/Colab Notebooks/Images/Dataset/pascal\"\n",
        "#sampler = torch.utils.data.DistributedSampler(dataset, shuffle=True)"
      ]
    },
    {
      "cell_type": "code",
      "execution_count": null,
      "metadata": {
        "id": "vxcUgmAMxEIG"
      },
      "outputs": [],
      "source": [
        "def drop_path(x, drop_prob: float = 0., training: bool = False):\n",
        "    if drop_prob == 0. or not training:\n",
        "        return x\n",
        "    keep_prob = 1 - drop_prob\n",
        "    shape = (x.shape[0],) + (1,) * (x.ndim - 1)  # work with diff dim tensors, not just 2D ConvNets\n",
        "    random_tensor = keep_prob + torch.rand(shape, dtype=x.dtype, device=x.device)\n",
        "    random_tensor.floor_()  # binarize\n",
        "    output = x.div(keep_prob) * random_tensor\n",
        "    return output\n",
        "\n",
        "class DropPath(nn.Module):\n",
        "    \"\"\"Drop paths (Stochastic Depth) per sample  (when applied in main path of residual blocks).\n",
        "    \"\"\"\n",
        "    def __init__(self, drop_prob=None):\n",
        "        super(DropPath, self).__init__()\n",
        "        self.drop_prob = drop_prob\n",
        "\n",
        "    def forward(self, x):\n",
        "        return drop_path(x, self.drop_prob, self.training)"
      ]
    },
    {
      "cell_type": "code",
      "execution_count": null,
      "metadata": {
        "id": "08714pOqzbYw"
      },
      "outputs": [],
      "source": [
        "class PatchEmbed(nn.Module):\n",
        "    def __init__(self, img_size, patch_size,in_chan, embed_dim):\n",
        "        super().__init__()\n",
        "\n",
        "        num_patches=(img_size//patch_size)*(img_size//patch_size)\n",
        "\n",
        "        self.img_size=img_size\n",
        "        self.patch_size=patch_size\n",
        "        self.num_patches=num_patches\n",
        "        self.in_chan=in_chan\n",
        "        self.proj=nn.Conv2d(in_chan,embed_dim,kernel_size=patch_size,stride=patch_size)\n",
        "\n",
        "    def forward(self,x):\n",
        "        B,C,H,W=x.shape\n",
        "        x=self.proj(x).flatten(2).transpose(1,2)\n",
        "        return x\n",
        "  \n",
        "class Attention(nn.Module):\n",
        "    def __init__(self,dim, num_heads,qkv_bias=False, qk_scale=None, attn_drop=0.0, proj_drop=0.0):\n",
        "        super().__init__()\n",
        "\n",
        "        self.num_heads=num_heads\n",
        "        head_dim=dim//num_heads\n",
        "\n",
        "        self.scale= qk_scale or head_dim**-0.5\n",
        "\n",
        "        self.qkv=nn.Linear(dim,dim*3,bias=qkv_bias)\n",
        "        self.attn_drop=nn.Dropout(attn_drop)\n",
        "        self.proj=nn.Linear(dim, dim)\n",
        "        self.proj_drop=nn.Dropout(proj_drop)\n",
        "\n",
        "\n",
        "    def forward(self,x):\n",
        "        B,N,C=x.shape\n",
        "\n",
        "        qkv=self.qkv(x).reshape(B,N,3,self.num_heads,C//self.num_heads).permute(2,0,3,1,4)\n",
        "        q,k,v=qkv[0],qkv[1],qkv[2]\n",
        "\n",
        "        attn=(q@k.transpose(-2,-1))*self.scale\n",
        "        attn=attn.softmax(dim=-1)\n",
        "        attn=self.attn_drop(attn)\n",
        "\n",
        "        x=(attn@v).transpose(-3,-2).flatten(2)\n",
        "        x=self.proj(x)\n",
        "        x=self.proj_drop(x)\n",
        "\n",
        "        return x , attn\n",
        "\n",
        "\n",
        "class MLP(nn.Module):\n",
        "    def __init__(self,in_features,hidden_features=None,out_features=None ,act_layer=nn.GELU,drop=0):\n",
        "        super().__init__()\n",
        "\n",
        "        out_features = out_features or in_features\n",
        "        hidden_features = hidden_features or in_features\n",
        "        self.fc1  = nn.Linear(in_features, hidden_features)\n",
        "        self.act  = act_layer()\n",
        "        self.fc2  = nn.Linear(hidden_features, out_features)\n",
        "        self.drop = nn.Dropout(drop)\n",
        "\n",
        "\n",
        "    def forward(self,x):\n",
        "        x=self.fc1(x)\n",
        "        x=self.act(x)\n",
        "        x=self.drop(x)\n",
        "        x=self.fc2(x)\n",
        "        x=self.drop(x)\n",
        "        return x\n",
        "\n",
        "\n",
        "class Block(nn.Module):\n",
        "    def __init__ (self,dim, num_heads, mlp_ratio=4.0, qkv_bias=False, qk_scale=None, drop=0., attn_drop=0.,\n",
        "                 drop_path=0., act_layer=nn.GELU, norm_layer=nn.LayerNorm):\n",
        "    \n",
        "        super().__init__()\n",
        "\n",
        "        self.norm1 = norm_layer(dim)\n",
        "        self.attn=Attention(dim,num_heads,qkv_bias,qk_scale,attn_drop,proj_drop=drop)\n",
        "        self.drop_path = DropPath(drop_path) if drop_path > 0. else nn.Identity()\n",
        "        self.norm2 = norm_layer(dim)\n",
        "\n",
        "        mlp_hidden_dim = int(dim * mlp_ratio)\n",
        "        self.mlp = MLP(in_features=dim, hidden_features=mlp_hidden_dim, act_layer=act_layer, drop=drop)\n",
        "\n",
        "    def forward(self, x, return_attention=False):\n",
        "        y, attn = self.attn(self.norm1(x))\n",
        "        \n",
        "        x = x + self.drop_path(y)\n",
        "        #droped = x + self.drop_path(y)\n",
        "        x = x + self.drop_path(self.mlp(self.norm2(x)))\n",
        "        \n",
        "        #x=y+x\n",
        "        #x=x+self.mlp(self.norm2(x))\n",
        "        \n",
        "        \n",
        "        if return_attention:\n",
        "            return x, attn\n",
        "        \n",
        "        return x#,droped"
      ]
    },
    {
      "cell_type": "code",
      "execution_count": null,
      "metadata": {
        "id": "i4Q4ZReYCs_L"
      },
      "outputs": [],
      "source": [
        "class vit(nn.Module):\n",
        "    def __init__(self, num_classes=0,\n",
        "                 img_size=224, \n",
        "                 patch_size=16,\n",
        "                 in_channels=3 ,\n",
        "                 embed_dim=384,\n",
        "                 depth=12, \n",
        "                 num_heads=6,\n",
        "                 mlp_ratio=4,\n",
        "                 qkv_bias=True, \n",
        "                 qk_scale=None, \n",
        "                 drop_rate=0.0,\n",
        "                 attn_drop_rate=0.0,\n",
        "                 drop_path_rate=0.1,\n",
        "                 norm_layer=nn.LayerNorm,\n",
        "                 head_data=True,\n",
        "                 head_class=True,**kwargs):\n",
        "    \n",
        "        super(vit,self).__init__()\n",
        "\n",
        "        self.patch_size=patch_size\n",
        "        self.img_size=img_size\n",
        "        self.embed_dim=embed_dim\n",
        "        self.in_channels=in_channels\n",
        "    \n",
        "\n",
        "        self.num_features=self.embed_dim=embed_dim\n",
        "\n",
        "        self.patch_embed=PatchEmbed(img_size,patch_size=patch_size, in_chan=in_channels,embed_dim=embed_dim)\n",
        "    \n",
        "        num_patches=self.patch_embed.num_patches\n",
        "\n",
        "        self.cls_token =nn.Parameter(torch.zeros(1,1,embed_dim))\n",
        "\n",
        "        self.pos_embed= nn.Parameter(torch.zeros(1,num_patches+1,embed_dim))\n",
        "\n",
        "        self.pos_drop=nn.Dropout(drop_rate)\n",
        "\n",
        "        dpr = [x.item() for x in torch.linspace(0, drop_path_rate, depth)]\n",
        "        self.norm = norm_layer(embed_dim)\n",
        "\n",
        "        self.blocks = nn.ModuleList([\n",
        "            Block(\n",
        "                dim=embed_dim, num_heads=num_heads, mlp_ratio=mlp_ratio, qkv_bias=qkv_bias, qk_scale=qk_scale,\n",
        "                drop=drop_rate, attn_drop=attn_drop_rate, norm_layer=norm_layer,drop_path=dpr[i])\n",
        "            for i in range(depth)])\n",
        "    \n",
        "        \n",
        "\n",
        "        self.head_class = nn.Linear(embed_dim, num_classes) if (num_classes > 0 and head_class==True) else nn.Identity()\n",
        "\n",
        "        self.head_data  = nn.Sequential(nn.Linear(embed_dim, mlp_ratio*embed_dim), nn.GELU(),\n",
        "                                        nn.Linear(embed_dim*mlp_ratio, num_classes)) if (num_classes > 0 and head_data==True) else nn.Identity()\n",
        "        \n",
        "                            \n",
        "     #trunc_normal_(self.pos_embed, std=.02)\n",
        "     #trunc_normal_(self.cls_token, std=.02)\n",
        "     #def _init_weights(self, m):\n",
        "     #   if isinstance(m, nn.Linear):\n",
        "     #      trunc_normal_(m.weight, std=.02)\n",
        "     #     if isinstance(m, nn.Linear) and m.bias is not None:\n",
        "     #           nn.init.constant_(m.bias, 0)\n",
        "     #  elif isinstance(m, nn.LayerNorm):\n",
        "     #     nn.init.constant_(m.bias, 0)\n",
        "     #    nn.init.constant_(m.weight, 1.0)\n",
        "\n",
        "    def interpolate_pos_encoding(self, x, w, h):\n",
        "\n",
        "        npatch = x.shape[1] - 1\n",
        "\n",
        "        N = self.pos_embed.shape[1] - 1\n",
        "\n",
        "        if npatch == N and w == h:\n",
        "            return self.pos_embed\n",
        "\n",
        "        class_pos_embed = self.pos_embed[:, 0]\n",
        "        patch_pos_embed = self.pos_embed[:, 1:]\n",
        "        \n",
        "        dim = x.shape[-1]\n",
        "        w0 = w // self.patch_embed.patch_size\n",
        "        h0 = h // self.patch_embed.patch_size\n",
        "        w0, h0 = w0 + 0.1, h0 + 0.1\n",
        "        \n",
        "        patch_pos_embed = nn.functional.interpolate(\n",
        "            patch_pos_embed.reshape(1, int(math.sqrt(N)), int(math.sqrt(N)), dim).permute(0, 3, 1, 2),\n",
        "            scale_factor=(w0 / math.sqrt(N), h0 / math.sqrt(N)),\n",
        "            mode='bicubic',\n",
        "        )\n",
        "        \n",
        "        assert int(w0) == patch_pos_embed.shape[-2] and int(h0) == patch_pos_embed.shape[-1]\n",
        "        patch_pos_embed = patch_pos_embed.permute(0, 2, 3, 1).view(1, -1, dim)\n",
        "        \n",
        "        return torch.cat((class_pos_embed.unsqueeze(0), patch_pos_embed), dim=1)\n",
        "        \n",
        "    def prepare_tokens(self, x):\n",
        "\n",
        "        B, nc, w, h = x.shape\n",
        "        x = self.patch_embed(x)  # patch linear embedding\n",
        "\n",
        "        # add the [CLS] token to the embed patch tokens\n",
        "        cls_tokens = self.cls_token.expand(B, -1, -1)\n",
        "        x = torch.cat((cls_tokens, x), dim=1)\n",
        "\n",
        "        # add positional encoding to each token\n",
        "        x = x + self.interpolate_pos_encoding(x, w, h)\n",
        "\n",
        "        return self.pos_drop(x)\n",
        "\n",
        "    def forward(self, x, recons_blocks='', classify=False):\n",
        "\n",
        "        r_blocks=[-1] if recons_blocks=='' else list(map(int, recons_blocks.split('-')))\n",
        "\n",
        "        x=self.prepare_tokens(x)#Tokens with positional information\n",
        "\n",
        "        recons,cnt=0,0\n",
        "        \n",
        "        for i, blk in enumerate(self.blocks):\n",
        "\n",
        "          x=blk(x)\n",
        "\n",
        "          if(i+1) in r_blocks:\n",
        "            recons=recons+x\n",
        "            cnt+=1\n",
        "          \n",
        "          \n",
        "        if classify==True:\n",
        "           x=self.norm(x)\n",
        "           return self.head_class(x[:,0]), self.head_data(torch.mean(x[:,1:],dim=1))\n",
        "\n",
        "        if cnt!=0:\n",
        "          recons/=cnt\n",
        "          recons=self.norm(recons)\n",
        "          return recons[:,1:]\n",
        "\n",
        "        return x[:,1:]\n",
        "\n",
        "\n",
        "    def get_last_features_attn(self,x):##patches are directly feed to all the trans layers and attn map is only taken from last block only.\n",
        "\n",
        "        x=self.prepare_tokens(x)\n",
        "    \n",
        "\n",
        "        for i, blk in enumerate(self.blocks):\n",
        "          \n",
        "          if i==(len(self.blocks)-1):\n",
        "            x,attention=blk(x, return_attention=True)\n",
        "            return self.norm(x), attention\n",
        "\n",
        "          else:\n",
        "            x=blk(x)\n",
        "            \n",
        "    def get_all_feature_attention(self,x):\n",
        "        x=self.prepare_tokens(x)\n",
        "\n",
        "        attn_list=[]\n",
        "        for i, blk in enumerate(self.blocks):\n",
        "          x,attention=blk(x, return_attention=True)\n",
        "\n",
        "          attn_list.append(attention)\n",
        "\n",
        "        return attn_list"
      ]
    },
    {
      "cell_type": "code",
      "execution_count": null,
      "metadata": {
        "colab": {
          "base_uri": "https://localhost:8080/"
        },
        "id": "re62002xU5N3",
        "outputId": "aed91430-b09c-4cb9-b96b-80da46e20ba8"
      },
      "outputs": [
        {
          "data": {
            "text/plain": [
              "torch.Size([1, 196, 384])"
            ]
          },
          "execution_count": 13,
          "metadata": {},
          "output_type": "execute_result"
        }
      ],
      "source": [
        "ten=torch.rand([1,3,224,224])\n",
        "m=vit()\n",
        "m(ten).shape"
      ]
    },
    {
      "cell_type": "code",
      "execution_count": null,
      "metadata": {
        "id": "Hz0Du-6RSh94"
      },
      "outputs": [],
      "source": [
        "class recons_decoder(nn.Module):\n",
        "  \n",
        "    def __init__(self,in_dim, in_channels,patch_size):\n",
        "        super().__init__()\n",
        "\n",
        "        self.mlp1 = nn.Linear(in_dim,in_dim)\n",
        "        self.mlp2 = nn.Linear(in_dim,in_dim)\n",
        "        self.mlp3 = nn.Linear(in_dim,in_dim)\n",
        "        self.act=nn.GELU()\n",
        "\n",
        "        self.convtrans = nn.ConvTranspose2d(in_channels=in_dim, out_channels=in_channels,kernel_size=(patch_size,patch_size), stride=(patch_size,patch_size))\n",
        "\n",
        "    def forward(self,encodings):\n",
        "        x=self.mlp1(encodings)\n",
        "        x=self.act(x)\n",
        "        x=self.mlp2(x)\n",
        "        x=self.act(x)\n",
        "        x=self.mlp3(x)\n",
        "        x=self.act(x)#[10,196,768]\n",
        "\n",
        "        x_rec=x.transpose(1,2)#[10,768,196]\n",
        "        \n",
        "        w,h=int(math.sqrt(x_rec.size()[2])),int(math.sqrt(x_rec.size()[2]))#[14,14]\n",
        "\n",
        "        x_rec=x_rec.reshape(x_rec.size()[0],x_rec.size()[1],w,h)#[10,768,14,14]\n",
        "\n",
        "        x_rec=self.convtrans(x_rec)#[10,3,224,224]\n",
        "\n",
        "        return x_rec\n",
        "\n",
        "        "
      ]
    },
    {
      "cell_type": "code",
      "execution_count": null,
      "metadata": {
        "id": "z83eXIMgChh3"
      },
      "outputs": [],
      "source": [
        "class encoder_decoder(nn.Module):\n",
        "    def __init__(self,encoder, decoder):\n",
        "        super().__init__()\n",
        "\n",
        "        self.encoder = encoder\n",
        "        self.decoder = decoder\n",
        "        \n",
        "        \n",
        "\n",
        "    def forward(self,x,recons_blocks,global_crop=2):\n",
        "        reconstructed_img=self.decoder(self.encoder(torch.cat(x[0:global_crop]), recons_blocks))\n",
        "\n",
        "        return reconstructed_img"
      ]
    },
    {
      "cell_type": "code",
      "execution_count": null,
      "metadata": {
        "colab": {
          "base_uri": "https://localhost:8080/"
        },
        "id": "Ug_O9U4oE3ZC",
        "outputId": "8902c519-f8cb-48cd-b478-8df2ccfa652d"
      },
      "outputs": [
        {
          "data": {
            "text/plain": [
              "torch.Size([20, 3, 224, 224])"
            ]
          },
          "execution_count": 16,
          "metadata": {},
          "output_type": "execute_result"
        }
      ],
      "source": [
        "f=[torch.rand([10,3,224,224]),torch.rand([10,3,224,224])]\n",
        "encoder=vit()\n",
        "\n",
        "embed_dim,in_channels,patch_size= encoder.embed_dim,encoder.in_channels,encoder.patch_size\n",
        "  \n",
        "decoder=recons_decoder(embed_dim, in_channels, patch_size)\n",
        "\n",
        "model=encoder_decoder(encoder,decoder)##if no reconstruction block then last block output will come without class info i.e x[:,1:] \n",
        "model(f, recons_blocks='5-6-7').shape"
      ]
    },
    {
      "cell_type": "code",
      "execution_count": null,
      "metadata": {
        "id": "oifoyputbwJk"
      },
      "outputs": [],
      "source": [
        ""
      ]
    },
    {
      "cell_type": "code",
      "execution_count": null,
      "metadata": {
        "id": "rtt0njU6I3nY"
      },
      "outputs": [],
      "source": [
        "#!pip install --upgrade torchvision"
      ]
    },
    {
      "cell_type": "code",
      "execution_count": null,
      "metadata": {
        "id": "V1rBI8Hrp8QX"
      },
      "outputs": [],
      "source": [
        "raw_data=VOCDetection(root='/content/gdrive/MyDrive/voc/Pascal_2007',\n",
        "                     year='2007',\n",
        "                     image_set='trainval',\n",
        "                    download=True,\n",
        "                     transform=None)"
      ]
    },
    {
      "cell_type": "code",
      "execution_count": null,
      "metadata": {
        "id": "LDFIVCk-4_-N"
      },
      "outputs": [],
      "source": [
        "from torch.utils.data.dataset import Dataset\n",
        "class Custom_Voc(Dataset):\n",
        "    def __init__(self, json_file, transform):\n",
        "        with open(json_file) as f:\n",
        "            self.data = json.load(f)\n",
        "        self.transform = transform\n",
        "\n",
        "\n",
        "    def __len__(self):\n",
        "        return len(self.data)\n",
        "\n",
        "    def __getitem__(self, idx):\n",
        "        d = self.data[idx]\n",
        "        image_path = d['image']\n",
        "        #boxes = d['boxes']\n",
        "        classes = d['classes']\n",
        "        #difficulties = d['difficulties']\n",
        "        #seg_map = d['Seg_map']\n",
        "\n",
        "        #if len(boxes) == 0:\n",
        "         #   boxes = [[0, 0, 0, 0]]\n",
        "          #  classes = [BACKGROUND_INDEX]\n",
        "           # difficulties = [0]\n",
        "\n",
        "        image = Image.open(image_path).convert('RGB')\n",
        "        #boxes = torch.FloatTensor(boxes)\n",
        "        #difficulties = torch.LongTensor(difficulties)\n",
        "        #image = Image.open(seg_map)\n",
        "        classes = torch.LongTensor(classes)\n",
        "        image = self.transform(image)\n",
        "        return image#,classes\n",
        "\n",
        "def get_params_groups(model):\n",
        "    regularized = []\n",
        "    not_regularized = []\n",
        "    for name, param in model.named_parameters():\n",
        "        if not param.requires_grad:\n",
        "            continue\n",
        "        # we do not regularize biases nor Norm parameters\n",
        "        if name.endswith(\".bias\") or len(param.shape) == 1:\n",
        "            not_regularized.append(param)\n",
        "        else:\n",
        "            regularized.append(param)\n",
        "    return [{'params': regularized}, {'params': not_regularized, 'weight_decay': 0.}]\n",
        "    \n",
        "\n",
        "def cosine_scheduler(base_value, final_value, epochs, niter_per_ep, warmup_epochs=0, start_warmup_value=0):\n",
        "    warmup_schedule = np.array([])\n",
        "    warmup_iters = warmup_epochs * niter_per_ep\n",
        "    if warmup_epochs > 0:\n",
        "        warmup_schedule = np.linspace(start_warmup_value, base_value, warmup_iters)\n",
        "\n",
        "    iters = np.arange(epochs * niter_per_ep - warmup_iters)\n",
        "    schedule = final_value + 0.5 * (base_value - final_value) * (1 + np.cos(np.pi * iters / len(iters)))\n",
        "\n",
        "    schedule = np.concatenate((warmup_schedule, schedule))\n",
        "    assert len(schedule) == epochs * niter_per_ep\n",
        "    return schedule\n",
        "    "
      ]
    },
    {
      "cell_type": "code",
      "execution_count": null,
      "metadata": {
        "id": "FEVP9d44zlcf"
      },
      "outputs": [],
      "source": [
        "def parse_annotation(annotation_path):\n",
        "    tree = ET.parse(annotation_path)\n",
        "    root = tree.getroot()\n",
        "\n",
        "    image_width = int(root.find('size').find('width').text)\n",
        "    image_height = int(root.find('size').find('height').text)\n",
        "    boxes, classes, difficulties = [], [], []\n",
        "    for object in root.iter('object'):\n",
        "     #--#   bndbox = object.find('bndbox')\n",
        "      #--#  xmin = int(bndbox.find('xmin').text) - 1\n",
        "       #--# ymin = int(bndbox.find('ymin').text) - 1\n",
        "        #--#xmax = int(bndbox.find('xmax').text) - 1\n",
        "        #--#ymax = int(bndbox.find('ymax').text) - 1\n",
        "        #--#boxes.append([xmin, ymin, xmax, ymax])\n",
        "\n",
        "        label = object.find('name').text.lower().strip()\n",
        "        classes.append(label)\n",
        "\n",
        "        #--#difficulty = int(object.find('difficult').text == '1')\n",
        "        #--#difficulties.append(difficulty)\n",
        "    #--#return boxes, classes, difficulties\n",
        "    return classes\n",
        "\n",
        "file_root='/content/gdrive/MyDrive/voc/VOCdevkit/VOC2012'\n",
        "class_names = [\n",
        "        'aeroplane', 'bicycle', 'bird', 'boat', 'bottle', 'bus', 'car', 'cat', 'chair', 'cow',\n",
        "        'diningtable', 'dog', 'horse', 'motorbike', 'person', 'pottedplant', 'sheep', 'sofa',\n",
        "        'train', 'tvmonitor']\n",
        "\n",
        "\n",
        "nb_classes=20\n",
        "\n",
        "def save_as_json(basename, dataset):\n",
        "    filename = os.path.join(os.path.dirname(file_root), basename)\n",
        "    print(\"Saving %s ...\" % filename)\n",
        "    with open(filename, 'w') as f:\n",
        "        json.dump(dataset, f, indent=2)\n",
        "\n",
        "\n",
        "def prepare_dataset(file_root,class_names,Img_set_to_text,json_name):\n",
        "    \n",
        "    text_file=os.path.join(file_root,Img_set_to_text)\n",
        "    train_dataset=[]\n",
        "    with open(text_file) as f:\n",
        "      ids = [line.strip() for line in f.readlines()]\n",
        "    for id in ids:\n",
        "      \n",
        "      image_path=os.path.join(file_root,'JPEGImages',id+'.jpg')\n",
        "      annotations_path=os.path.join(file_root,'Annotations',id+'.xml')\n",
        "      #seg_path= os.path.join(file_root,'SegmentationClass',id+'.png')\n",
        "      #boxes,classes , difficulties=parse_annotation(annotation_path=annotations_path)\n",
        "      classes=parse_annotation(annotation_path=annotations_path)\n",
        "      \n",
        "      classes = [class_names.index(c) for c in classes]\n",
        "      train_dataset.append(\n",
        "                {\n",
        "                     'image':   os.path.abspath(image_path),\n",
        "                     #'Seg_map': os.path.abspath(seg_path),\n",
        "                     #'boxes': boxes,\n",
        "                     'classes': classes\n",
        "                     #'difficulties': difficulties\n",
        "                }\n",
        "            )\n",
        "    save_as_json(json_name,train_dataset)\n",
        "\n",
        "    return train_dataset"
      ]
    },
    {
      "cell_type": "code",
      "execution_count": null,
      "metadata": {
        "id": "hM06foTDML_J"
      },
      "outputs": [],
      "source": [
        "a=os.listdir('/content/gdrive/MyDrive/Colab/Pascal_2007/VOCdevkit/VOC2007/SegmentationObject')"
      ]
    },
    {
      "cell_type": "code",
      "execution_count": null,
      "metadata": {
        "id": "ExY7XL7MUId8"
      },
      "outputs": [],
      "source": [
        "#file_root='/content/gdrive/MyDrive/voc/VOCdevkit/VOC2012';\n",
        "#Img_set_to_text='ImageSets/Main/trainval.txt'\n",
        "#prepare_dataset(file_root,class_names,Img_set_to_text,'2012_train_val.json')"
      ]
    },
    {
      "cell_type": "code",
      "execution_count": null,
      "metadata": {
        "id": "eJ-Ysb7V7HsV"
      },
      "outputs": [],
      "source": [
        "file_root='/content/gdrive/MyDrive/voc/VOCdevkit/VOC2012'\n",
        "#prepare_dataset(file_root,class_names)\n",
        "json_file='/content/gdrive/MyDrive/voc/VOCdevkit/2012_train_val (1).json'\n",
        "#json_file_mini_5='/content/gdrive/MyDrive/Colab/Pascal_2007/VOCdevkit/mini_5.json'\n",
        "\n",
        "custom_transform=DataAugmentationSiT(drop_per=0.7,drop_type='noise', drop_align=16, img_size=224, global_crop_scale=(0.25,1.0),local_crop_scale=(0.05,0.4))\n",
        "custom_dataset=Custom_Voc(json_file,transform=custom_transform)"
      ]
    },
    {
      "cell_type": "code",
      "execution_count": null,
      "metadata": {
        "id": "ueKZ0R0m53kt"
      },
      "outputs": [],
      "source": [
        "#init_distributed_mode()\n",
        "sampler = torch.utils.data.DistributedSampler(custom_dataset, shuffle=True)"
      ]
    },
    {
      "cell_type": "code",
      "execution_count": null,
      "metadata": {
        "colab": {
          "base_uri": "https://localhost:8080/"
        },
        "id": "AxtL8D2A7URH",
        "outputId": "44c50478-886d-468f-dc89-8d7cedef23e4"
      },
      "outputs": [
        {
          "data": {
            "text/plain": [
              "11540"
            ]
          },
          "execution_count": 51,
          "metadata": {},
          "output_type": "execute_result"
        }
      ],
      "source": [
        "data_loader = torch.utils.data.DataLoader(custom_dataset,batch_size=1,num_workers=2, pin_memory=True)#, drop_last=True\n",
        "len(data_loader)##look in datasaet length it should be more than 646 ----------------------------------------------------------------"
      ]
    },
    {
      "cell_type": "code",
      "execution_count": null,
      "metadata": {
        "id": "HT2EjIZFMl91"
      },
      "outputs": [],
      "source": [
        "model=encoder_decoder(encoder,decoder).to(device=device)\n",
        "#model=model.cuda()\n",
        "#next(model.parameters()).is_cuda #boolean check \n",
        "num_iter_pe= len(data_loader)\n",
        "parms=get_params_groups(model)\n",
        "optimizer =torch.optim.AdamW(parms)\n",
        "lr_schedule=cosine_scheduler(base_lr,final_lr, epochs,num_iter_pe,warmup_epochs,start_warmup_value=0)\n",
        "wd_schedule=cosine_scheduler(weight_decay_base, weight_decay_end,epochs,num_iter_pe)\n"
      ]
    },
    {
      "cell_type": "code",
      "execution_count": null,
      "metadata": {
        "id": "rQRzz2PQHy8S"
      },
      "outputs": [],
      "source": [
        "def get_params_groups(model):\n",
        "    regularized = []\n",
        "    not_regularized = []\n",
        "    for name, param in model.named_parameters():\n",
        "        if not param.requires_grad:\n",
        "            continue\n",
        "        # we do not regularize biases nor Norm parameters\n",
        "        if name.endswith(\".bias\") or len(param.shape) == 1:\n",
        "            not_regularized.append(param)\n",
        "        else:\n",
        "            regularized.append(param)\n",
        "    return [{'params': regularized}, {'params': not_regularized, 'weight_decay': 0.}]\n",
        "    "
      ]
    },
    {
      "cell_type": "code",
      "execution_count": null,
      "metadata": {
        "id": "oK0dQ8C8sU2F"
      },
      "outputs": [],
      "source": [
        "from collections import OrderedDict\n",
        "def get_updated_dic(dic):\n",
        "  new_dic= OrderedDict()\n",
        "  #for k,v in dic['SiT_model'].items():\n",
        "  for k,v in dic['student'].items():\n",
        "      #name=k.replace('module.backbone.','encoder.')\n",
        "      name=k.replace('module.backbone','module.encoder')\n",
        "      #name=k\n",
        "      new_dic[name]=v\n",
        "      #new_dic[k]=v\n",
        "  return new_dic\n",
        "\n",
        "def restore_model(check_path,model,run_variables,epoch_load=False):\n",
        "  check_point=torch.load(check_path,map_location='cpu')\n",
        "  updated_dic=get_updated_dic(check_point)\n",
        "  model.load_state_dict(updated_dic,strict=False)\n",
        "  if epoch_load==True:\n",
        "     run_variables['epoch'] = check_point['epoch']\n",
        "\n",
        "#ck='/content/gdrive/MyDrive/Colab/Pascal_2007/VOCdevkit/VOC2007/checkpoint.pth'\n",
        "#to_restore={'epoch':0}\n",
        "#run_variables=to_restore\n",
        "#restore_model(ck,model,run_variables=to_restore,epoch_load=False)\n"
      ]
    },
    {
      "cell_type": "code",
      "execution_count": null,
      "metadata": {
        "id": "t1ifBx1YLKZy"
      },
      "outputs": [],
      "source": [
        "check_point=torch.load(mc_ssl,map_location='cpu')\n",
        "#model.load_state_dict(check_point['student'],strict=False)\n",
        "#restore_model(mc_ssl,model,run_variables={'epoch':0}, epoch_load=False)\n",
        "#for x, y in check_point['student'].items():\n",
        " # print(x)"
      ]
    },
    {
      "cell_type": "code",
      "execution_count": null,
      "metadata": {
        "id": "nMEk134GV5DH"
      },
      "outputs": [],
      "source": [
        "model.cuda()  \n",
        "model = nn.parallel.DistributedDataParallel(model, device_ids=[0],find_unused_parameters=True)# distributing the entire model to single gpu\n"
      ]
    },
    {
      "cell_type": "code",
      "execution_count": null,
      "metadata": {
        "colab": {
          "base_uri": "https://localhost:8080/"
        },
        "id": "yiLTi9WBTj0M",
        "outputId": "e296d222-f95d-4a74-e3b2-e6591f792415"
      },
      "outputs": [
        {
          "name": "stdout",
          "output_type": "stream",
          "text": [
            "module.module.encoder.blocks.1.attn.proj.weight\n"
          ]
        }
      ],
      "source": [
        "for name, child in model.named_parameters():\n",
        "  if name =='module.module.encoder.blocks.1.attn.proj.weight':\n",
        "    print(name)"
      ]
    },
    {
      "cell_type": "code",
      "execution_count": null,
      "metadata": {
        "id": "Q-tetQoFeA3f"
      },
      "outputs": [],
      "source": [
        "def train(epochs,\n",
        "          recons_blocks,\n",
        "          drop_per,\n",
        "          drop_type,\n",
        "          drop_align,\n",
        "          drop_replace,\n",
        "          img_size,\n",
        "          batch_size,\n",
        "          json_file_path,\n",
        "          check_path,\n",
        "          epoch_load=False,\n",
        "          use_fp16=False,\n",
        "          global_crop_scale=(0.25,1.0),\n",
        "          local_crop_scale=(0.05,0.4)):\n",
        "  #init_distributed_mode()\n",
        "  fix_random_seeds(seed)#\n",
        "  cudnn.benchmark=True\n",
        "  epochs+=1\n",
        "\n",
        "  custom_transform=DataAugmentationSiT(drop_per,drop_type, drop_align,img_size=img_size, global_crop_scale=global_crop_scale,local_crop_scale=(0.05,0.4),)\n",
        "  \n",
        "  custom_dataset=Custom_Voc(json_file_path,transform=custom_transform)\n",
        "  \n",
        "  sampler = torch.utils.data.DistributedSampler(custom_dataset, shuffle=True)\n",
        "  \n",
        "  data_loader = torch.utils.data.DataLoader(custom_dataset,sampler=sampler, batch_size=batch_size,num_workers=1, pin_memory=True)#, drop_last=True\n",
        "\n",
        "  num_iter_pe=len(data_loader)\n",
        "\n",
        "  print(f\"--------The dataset consists of {len(custom_dataset)} images\")\n",
        "\n",
        "  encoder=vit()\n",
        "  \n",
        "  \n",
        "      \n",
        "  encoder_before_parameter = sum(p.numel() for p in encoder.parameters() if p.requires_grad)\n",
        "  print(f'Number of encoder parameter before freeze{encoder_before_parameter}')\n",
        "  \n",
        "  \n",
        "\n",
        "\n",
        "  embed_dim,in_channels,patch_size= encoder.embed_dim,encoder.in_channels,encoder.patch_size\n",
        "\n",
        "  decoder=recons_decoder(embed_dim, in_channels, patch_size)\n",
        "  decoder_before_parameter=sum(p.numel() for p in decoder.parameters() if p.requires_grad)\n",
        "  print(f'Number of decoder parameter before freeze{decoder_before_parameter}')\n",
        "\n",
        "\n",
        "  model=encoder_decoder(encoder,decoder)##if no reconstruction block then last block output will come without class info i.e x[:,1:] \n",
        "\n",
        "  model_before_parameter=sum(p.numel() for p in model.parameters() if p.requires_grad)\n",
        "  print(f'Number of model parameter before freeze{model_before_parameter}')\n",
        "   \n",
        "  model=model.cuda()### sending the model to gpu\n",
        "\n",
        "  ## Restarting Process\n",
        "  model = nn.parallel.DistributedDataParallel(model, device_ids=[0],find_unused_parameters=True)# distributing the entire model to single gpu\n",
        "\n",
        "  to_restore={'epoch':0}\n",
        "  restore_model(check_path,model,run_variables=to_restore,epoch_load=epoch_load)\n",
        "  \n",
        "  #for idx,(name, child) in enumerate(model.named_parameters()):\n",
        "   # if idx<78:#freeze till block 5:\n",
        "    #  child.requires_grad=False\n",
        "\n",
        "  model_before_parameter=sum(p.numel() for p in model.parameters() if p.requires_grad)\n",
        "  print(f'Number of model parameter before freeze{model_before_parameter}')\n",
        "  \n",
        "  #for name, child in model.named_children():\n",
        "  #       if name =='encoder':\n",
        "  #         for param in child.parameters():\n",
        "  #           param.requires_grad=False\n",
        "  #       if name =='decoder':\n",
        "   #        for param in child.parameters():\n",
        "    #         param.required_grade=True\n",
        "             \n",
        "  \n",
        "  \n",
        "  \n",
        "\n",
        "  \n",
        "\n",
        "  print(f'Total epochs {epochs}')\n",
        "\n",
        "  params_groups=get_params_groups(model)\n",
        "  optimizer = torch.optim.AdamW(params_groups)\n",
        "  #optimizer = torch.optim.SGD(filter(lambda p: p.requires_grad, model.parameters()), lr=0.0006, momentum=0.9)\n",
        "  fp16_scaler = torch.cuda.amp.GradScaler() if use_fp16 else None\n",
        "  fp16_scaler.load_state_dict(torch.load(check_path,map_location='cpu')['fp16_scaler'])\n",
        "  #optimizer.load_state_dict(torch.load(check_path,map_location='cpu')['optimizer'])\n",
        "\n",
        "\n",
        "  lr_schedule=cosine_scheduler(base_lr,final_lr, epochs,num_iter_pe,warmup_epochs,start_warmup_value=0)\n",
        "  wd_schedule=cosine_scheduler(weight_decay_base, weight_decay_end,epochs,num_iter_pe)\n",
        "\n",
        "  start_epoch= to_restore['epoch']\n",
        "\n",
        "  start_time= time.time()\n",
        "  print(f\"==> Start training from epoch {start_epoch}\")\n",
        "  n_params_after = sum(p.numel() for p in encoder.parameters() if p.requires_grad)\n",
        "\n",
        "  print(f\"-------> The encoder has {n_params_after} parameters after freeze.\")  \n",
        "  \n",
        "  for epoch in range(start_epoch, epochs):\n",
        "    data_loader.sampler.set_epoch(epoch)\n",
        "    train_stats=train_one_epoch(model,data_loader,optimizer,lr_schedule,wd_schedule,epoch,fp16_scaler,drop_replace,recons_blocks)\n",
        "    save_dict = {'SiT_model': model.state_dict(), 'optimizer': optimizer.state_dict(),'epoch': epoch + 1}\n",
        "    print(f'current epoch is {epoch}')\n",
        "\n",
        "\n",
        "    if fp16_scaler is not None:\n",
        "            save_dict['fp16_scaler'] = fp16_scaler.state_dict()\n",
        "\n",
        "    save_on_master(save_dict, os.path.join(output_dir, '/checkpoint.pth'))\n",
        "    if saveckp_freq and epoch % saveckp_freq == 0:\n",
        "      save_on_master(save_dict, os.path.join(output_dir, f'checkpoints/checkpoint{epoch:04}.pth'))\n",
        "    log_stats = {**{f'train_{k}': v for k, v in train_stats.items()}, 'epoch': epoch}\n",
        "    if is_main_process():\n",
        "       with (Path(output_dir) / \"log.txt\").open(\"a\") as f:\n",
        "         f.write(json.dumps(log_stats) + \"\\n\")\n",
        "                \n",
        "    total_time = time.time() - start_time\n",
        "    total_time_str = str(datetime.timedelta(seconds=int(total_time)))\n",
        "    print('Training time {}'.format(total_time_str))\n",
        " \n",
        "    "
      ]
    },
    {
      "cell_type": "code",
      "execution_count": null,
      "metadata": {
        "id": "GjmOZefRe00q"
      },
      "outputs": [],
      "source": [
        "def train_one_epoch(Model,data_loader,optimizer,lr_schedule,wd_schedule,epoch,fp16_scaler,drop_replace, recons_blocks):\n",
        "\n",
        "  save_recon = os.path.join(output_dir, 'reconstruction_samples')\n",
        "  Path(save_recon).mkdir(parents=True, exist_ok=True)\n",
        "\n",
        "  plot=True\n",
        "  metric_logger=MetricLogger(delimiter=' ')\n",
        "  header ='Epoch: [{}/{}]'.format(epoch,epochs)\n",
        "  for it, ccm in enumerate(metric_logger.log_every(data_loader,100,header)):\n",
        "    cleans , corrupteds, masks=ccm[0],ccm[1],ccm[2]\n",
        "\n",
        "    it= len(data_loader)*epoch + it# get index for the parameter which will be updates in each step(after evey batch)41*0+0 means 0rth parmeter update, then it=1,2,3,4 will give index for param 1,2,3,4 same hapen when epoch increases to 1.\n",
        "    for i , param_group in enumerate(optimizer.param_groups):\n",
        "      param_group['lr']=lr_schedule[it]\n",
        "      if i==0:\n",
        "        param_group['weight_decay']=wd_schedule[it]\n",
        "    \n",
        "    ##Moving images to GPU\n",
        "    cleans = [im.cuda(non_blocking=True) for im in cleans]## Non_blocking increase  the speed when next operation doesnt depend on previous step and asy data transfer is possible, where as pin_memory= True is used when data need to move form CPU to GPU, data loader DataLoader allocate the samples in page-locked memory, which speeds-up the transfer.\n",
        "    corrupteds = [im.cuda(non_blocking=True) for im in corrupteds]\n",
        "    masks = [im.cuda(non_blocking=True) for im in masks]\n",
        "\n",
        "    if drop_replace>0:\n",
        "      corrupteds,masks=GMML_replace_list(cleans,corrupteds,masks,drop_replace=drop_replace,drop_type=drop_type,drop_align=drop_align)\n",
        "      #print('replace applied')\n",
        "      \n",
        "    ##torch.cuda.amp.initialize(model,optimizer,opt_level)\n",
        "    with torch.cuda.amp.autocast(fp16_scaler is not None):\n",
        "      global_recon=Model(corrupteds,recons_blocks=recons_blocks)\n",
        "      recloss=F.l1_loss(global_recon,torch.cat(cleans[0:2]),reduction='none')\n",
        "      loss = recloss[torch.cat(masks[0:2])==1].mean() if (drop_only == 1) else recloss.mean()\n",
        "      if plot==True and is_main_process and epoch%10 ==0:\n",
        "        plot_=False\n",
        "        print_out = save_recon + '/epoch_' + str(epoch).zfill(5)  + '.jpg'\n",
        "        imagesToPrint = torch.cat([cleans[0][0: min(15, batch_size)].cpu(),  corrupteds[0][0: min(15, batch_size)].cpu(),\n",
        "                                       global_recon[0: min(15, batch_size)].cpu(), masks[0][0: min(15, batch_size)].cpu()], dim=0)\n",
        "        torchvision.utils.save_image(imagesToPrint, print_out, nrow=min(15, batch_size), normalize=True, range=(-1, 1))\n",
        "\n",
        "    #if not math.isfinite(loss.item()):\n",
        "     # print(\"Loss is {}, stopping training\".format(loss.item()), force=True)\n",
        "      #sys.exit(1)\n",
        "\n",
        "    optimizer.zero_grad()\n",
        "    param_norms = None\n",
        "    if fp16_scaler is None:\n",
        "      loss.backward()\n",
        "      if clip_grad:\n",
        "        param_norms = clip_gradients(Model,clip_grad)\n",
        "      optimizer.step()\n",
        "    \n",
        "    else:\n",
        "      fp16_scaler.scale(loss).backward()\n",
        "      if clip_grad:\n",
        "        fp16_scaler.unscale_(optimizer) \n",
        "        param_norms = clip_gradients(Model,clip_grad)\n",
        "      fp16_scaler.step(optimizer)\n",
        "      fp16_scaler.update()\n",
        "\n",
        "    torch.cuda.synchronize()\n",
        "\n",
        "    metric_logger.update(loss=loss.item())\n",
        "    metric_logger.update(lr=optimizer.param_groups[0][\"lr\"])\n",
        "    metric_logger.update(wd=optimizer.param_groups[0][\"weight_decay\"])\n",
        "        \n",
        "        \n",
        "        \n",
        "  # gather the stats from all processes\n",
        "  metric_logger.synchronize_between_processes()\n",
        "  print(\"Averaged stats:\", metric_logger)\n",
        "  return {k: meter.global_avg for k, meter in metric_logger.meters.items()}#, model#,corrupteds,masks,corrupt,cleans,data_loader\n",
        "\n",
        "\n",
        "\n"
      ]
    },
    {
      "cell_type": "code",
      "execution_count": null,
      "metadata": {
        "id": "2vjRgTcBn18W"
      },
      "outputs": [],
      "source": [
        "drop_per=0.7\n",
        "drop_replace=0.3\n",
        "drop_type='noise' \n",
        "drop_align=16\n",
        "batch_size=16\n",
        "#parameters for schedular\n",
        "base_lr=0.0001#0.0005 orignal\n",
        "final_lr=1e-6\n",
        "epochs=800\n",
        "warmup_epochs=0\n",
        "weight_decay_base=0.04\n",
        "weight_decay_end=0.4\n",
        "drop_only=1\n",
        "clip_grad=0\n",
        "seed=0\n",
        "use_fp16=True\n",
        "saveckp_freq=5\n",
        "output_dir='/content/gdrive/MyDrive/voc/VOCdevkit/model_outputs'\n",
        "recons_blocks='6-8-10-12'\n",
        "img_size=224\n",
        "json_file_path='/content/gdrive/MyDrive/voc/VOCdevkit/2012_train_val (1).json'\n",
        "json_file_mini_5='/content/gdrive/MyDrive/Colab/Pascal_2007/VOCdevkit/mini_5.json'\n",
        "json_file_mini_1='/content/gdrive/MyDrive/Colab/Pascal_2007/VOCdevkit/mini_1.json'\n",
        "mc_ssl='/content/gdrive/MyDrive/voc/VOCdevkit/model_outputs/checkpoint.pth'\n",
        "epoch_250='/content/gdrive/MyDrive/voc/VOCdevkit/model_outputs/checkpoint0250.pth'\n",
        "epoch_load=False\n"
      ]
    },
    {
      "cell_type": "code",
      "execution_count": null,
      "metadata": {
        "colab": {
          "base_uri": "https://localhost:8080/"
        },
        "id": "dCL1-NbCn4L0",
        "outputId": "3f68f1f8-e787-4f7b-ad50-e46523fc0b6a"
      },
      "outputs": [
        {
          "name": "stderr",
          "output_type": "stream",
          "text": [
            "/usr/local/lib/python3.7/dist-packages/torchvision/transforms/transforms.py:891: UserWarning: Argument interpolation should be of type InterpolationMode instead of int. Please, use InterpolationMode enum.\n",
            "  \"Argument interpolation should be of type InterpolationMode instead of int. \"\n"
          ]
        },
        {
          "name": "stdout",
          "output_type": "stream",
          "text": [
            "--------The dataset consists of 11540 images\n",
            "Number of encoder parameter before freeze21665664\n",
            "Number of decoder parameter before freeze738435\n",
            "Number of model parameter before freeze22404099\n",
            "Number of model parameter before freeze22404099\n",
            "Total epochs 801\n",
            "==> Start training from epoch 0\n",
            "-------> The encoder has 21665664 parameters after freeze.\n"
          ]
        },
        {
          "name": "stderr",
          "output_type": "stream",
          "text": [
            "/usr/local/lib/python3.7/dist-packages/torchvision/utils.py:64: UserWarning: The parameter 'range' is deprecated since 0.12 and will be removed in 0.14. Please use 'value_range' instead.\n",
            "  \"The parameter 'range' is deprecated since 0.12 and will be removed in 0.14. \"\n"
          ]
        },
        {
          "name": "stdout",
          "output_type": "stream",
          "text": [
            "Epoch: [0/800] [  0/722] eta: 0:13:58 loss: 0.966440 (0.966440) lr: 0.000010 (0.000010) wd: 0.040000 (0.040000) time: 1.160898 data: 0.505491 max mem: 3327\n",
            "Epoch: [0/800] [100/722] eta: 0:05:01 loss: 0.978467 (0.997969) lr: 0.000010 (0.000010) wd: 0.040000 (0.040000) time: 0.501517 data: 0.000131 max mem: 3600\n",
            "Epoch: [0/800] [200/722] eta: 0:04:11 loss: 0.761996 (0.942140) lr: 0.000010 (0.000010) wd: 0.040000 (0.040000) time: 0.482721 data: 0.000106 max mem: 3600\n",
            "Epoch: [0/800] [300/722] eta: 0:03:23 loss: 0.642393 (0.858175) lr: 0.000010 (0.000010) wd: 0.040000 (0.040000) time: 0.480661 data: 0.000110 max mem: 3601\n",
            "Epoch: [0/800] [400/722] eta: 0:02:34 loss: 0.596668 (0.796240) lr: 0.000010 (0.000010) wd: 0.040000 (0.040000) time: 0.480215 data: 0.000473 max mem: 3601\n",
            "Epoch: [0/800] [500/722] eta: 0:01:46 loss: 0.558246 (0.754132) lr: 0.000010 (0.000010) wd: 0.040001 (0.040000) time: 0.471261 data: 0.000107 max mem: 3606\n",
            "Epoch: [0/800] [600/722] eta: 0:00:58 loss: 0.577341 (0.725643) lr: 0.000010 (0.000010) wd: 0.040001 (0.040000) time: 0.483380 data: 0.000112 max mem: 3606\n",
            "Epoch: [0/800] [700/722] eta: 0:00:10 loss: 0.567361 (0.703378) lr: 0.000010 (0.000010) wd: 0.040001 (0.040000) time: 0.474363 data: 0.000106 max mem: 3606\n",
            "Epoch: [0/800] [721/722] eta: 0:00:00 loss: 0.570856 (0.699477) lr: 0.000010 (0.000010) wd: 0.040001 (0.040000) time: 0.463378 data: 0.000110 max mem: 3606\n",
            "Epoch: [0/800] Total time: 0:05:45 (0.478596 s / it)\n",
            "Averaged stats: loss: 0.570856 (0.699477) lr: 0.000010 (0.000010) wd: 0.040001 (0.040000)\n",
            "current epoch is 0\n",
            "Training time 0:05:46\n",
            "Epoch: [1/800] [  0/722] eta: 0:08:58 loss: 0.592546 (0.592546) lr: 0.000010 (0.000010) wd: 0.040001 (0.040001) time: 0.745517 data: 0.479721 max mem: 3606\n",
            "Epoch: [1/800] [100/722] eta: 0:04:12 loss: 0.564976 (0.570335) lr: 0.000010 (0.000010) wd: 0.040002 (0.040002) time: 0.396955 data: 0.148104 max mem: 3606\n",
            "Epoch: [1/800] [200/722] eta: 0:03:29 loss: 0.572364 (0.569156) lr: 0.000010 (0.000010) wd: 0.040002 (0.040002) time: 0.390692 data: 0.139165 max mem: 3606\n",
            "Epoch: [1/800] [300/722] eta: 0:02:49 loss: 0.561261 (0.567192) lr: 0.000010 (0.000010) wd: 0.040003 (0.040002) time: 0.404547 data: 0.151425 max mem: 3606\n",
            "Epoch: [1/800] [400/722] eta: 0:02:08 loss: 0.558259 (0.563765) lr: 0.000010 (0.000010) wd: 0.040003 (0.040002) time: 0.395421 data: 0.144449 max mem: 3606\n",
            "Epoch: [1/800] [500/722] eta: 0:01:28 loss: 0.542678 (0.563053) lr: 0.000010 (0.000010) wd: 0.040004 (0.040003) time: 0.400177 data: 0.147856 max mem: 3606\n",
            "Epoch: [1/800] [600/722] eta: 0:00:48 loss: 0.535052 (0.561044) lr: 0.000010 (0.000010) wd: 0.040005 (0.040003) time: 0.412629 data: 0.157919 max mem: 3606\n",
            "Epoch: [1/800] [700/722] eta: 0:00:08 loss: 0.549647 (0.559920) lr: 0.000010 (0.000010) wd: 0.040005 (0.040003) time: 0.389646 data: 0.135245 max mem: 3606\n",
            "Epoch: [1/800] [721/722] eta: 0:00:00 loss: 0.539182 (0.559422) lr: 0.000010 (0.000010) wd: 0.040005 (0.040003) time: 0.382416 data: 0.140395 max mem: 3606\n",
            "Epoch: [1/800] Total time: 0:04:49 (0.401129 s / it)\n",
            "Averaged stats: loss: 0.539182 (0.559422) lr: 0.000010 (0.000010) wd: 0.040005 (0.040003)\n",
            "current epoch is 1\n",
            "Training time 0:10:37\n",
            "Epoch: [2/800] [  0/722] eta: 0:08:56 loss: 0.583353 (0.583353) lr: 0.000010 (0.000010) wd: 0.040006 (0.040006) time: 0.743672 data: 0.493050 max mem: 3606\n",
            "Epoch: [2/800] [100/722] eta: 0:04:11 loss: 0.559121 (nan) lr: 0.000010 (0.000010) wd: 0.040006 (0.040006) time: 0.406755 data: 0.155004 max mem: 3606\n",
            "Epoch: [2/800] [200/722] eta: 0:03:29 loss: 0.543240 (nan) lr: 0.000010 (0.000010) wd: 0.040007 (0.040006) time: 0.393782 data: 0.140629 max mem: 3606\n",
            "Epoch: [2/800] [300/722] eta: 0:02:49 loss: 0.511971 (nan) lr: 0.000010 (0.000010) wd: 0.040008 (0.040007) time: 0.395309 data: 0.144168 max mem: 3606\n",
            "Epoch: [2/800] [400/722] eta: 0:02:08 loss: 0.494554 (nan) lr: 0.000010 (0.000010) wd: 0.040009 (0.040007) time: 0.404371 data: 0.151710 max mem: 3606\n",
            "Epoch: [2/800] [500/722] eta: 0:01:28 loss: nan (nan) lr: 0.000010 (0.000010) wd: 0.040010 (0.040008) time: 0.396706 data: 0.153175 max mem: 3606\n",
            "Epoch: [2/800] [600/722] eta: 0:00:48 loss: nan (nan) lr: 0.000010 (0.000010) wd: 0.040011 (0.040008) time: 0.399145 data: 0.157838 max mem: 3606\n",
            "Epoch: [2/800] [700/722] eta: 0:00:08 loss: nan (nan) lr: 0.000010 (0.000010) wd: 0.040012 (0.040009) time: 0.404102 data: 0.163730 max mem: 3606\n",
            "Epoch: [2/800] [721/722] eta: 0:00:00 loss: nan (nan) lr: 0.000010 (0.000010) wd: 0.040012 (0.040009) time: 0.382919 data: 0.149550 max mem: 3606\n",
            "Epoch: [2/800] Total time: 0:04:48 (0.399306 s / it)\n",
            "Averaged stats: loss: nan (nan) lr: 0.000010 (0.000010) wd: 0.040012 (0.040009)\n",
            "current epoch is 2\n",
            "Training time 0:15:25\n",
            "Epoch: [3/800] [  0/722] eta: 0:09:16 loss: nan (nan) lr: 0.000010 (0.000010) wd: 0.040012 (0.040012) time: 0.771395 data: 0.530440 max mem: 3606\n",
            "Epoch: [3/800] [100/722] eta: 0:04:10 loss: nan (nan) lr: 0.000010 (0.000010) wd: 0.040014 (0.040013) time: 0.397319 data: 0.154790 max mem: 3606\n",
            "Epoch: [3/800] [200/722] eta: 0:03:30 loss: nan (nan) lr: 0.000010 (0.000010) wd: 0.040015 (0.040014) time: 0.401948 data: 0.159065 max mem: 3606\n",
            "Epoch: [3/800] [300/722] eta: 0:02:49 loss: nan (nan) lr: 0.000010 (0.000010) wd: 0.040016 (0.040014) time: 0.399926 data: 0.160547 max mem: 3606\n",
            "Epoch: [3/800] [400/722] eta: 0:02:09 loss: nan (nan) lr: 0.000010 (0.000010) wd: 0.040017 (0.040015) time: 0.393934 data: 0.154132 max mem: 3606\n",
            "Epoch: [3/800] [500/722] eta: 0:01:28 loss: nan (nan) lr: 0.000010 (0.000010) wd: 0.040019 (0.040016) time: 0.399085 data: 0.159615 max mem: 3606\n",
            "Epoch: [3/800] [600/722] eta: 0:00:48 loss: nan (nan) lr: 0.000010 (0.000010) wd: 0.040020 (0.040016) time: 0.403505 data: 0.164081 max mem: 3606\n",
            "Epoch: [3/800] [700/722] eta: 0:00:08 loss: nan (nan) lr: 0.000010 (0.000010) wd: 0.040022 (0.040017) time: 0.401659 data: 0.161882 max mem: 3606\n",
            "Epoch: [3/800] [721/722] eta: 0:00:00 loss: nan (nan) lr: 0.000010 (0.000010) wd: 0.040022 (0.040017) time: 0.376913 data: 0.146683 max mem: 3606\n",
            "Epoch: [3/800] Total time: 0:04:48 (0.399874 s / it)\n",
            "Averaged stats: loss: nan (nan) lr: 0.000010 (0.000010) wd: 0.040022 (0.040017)\n",
            "current epoch is 3\n",
            "Training time 0:20:15\n",
            "Epoch: [4/800] [  0/722] eta: 0:09:11 loss: nan (nan) lr: 0.000010 (0.000010) wd: 0.040022 (0.040022) time: 0.763995 data: 0.528906 max mem: 3606\n",
            "Epoch: [4/800] [100/722] eta: 0:04:12 loss: nan (nan) lr: 0.000010 (0.000010) wd: 0.040024 (0.040023) time: 0.412059 data: 0.171301 max mem: 3606\n",
            "Epoch: [4/800] [200/722] eta: 0:03:29 loss: nan (nan) lr: 0.000010 (0.000010) wd: 0.040025 (0.040024) time: 0.400980 data: 0.161214 max mem: 3606\n",
            "Epoch: [4/800] [300/722] eta: 0:02:49 loss: nan (nan) lr: 0.000010 (0.000010) wd: 0.040027 (0.040025) time: 0.400911 data: 0.161310 max mem: 3606\n",
            "Epoch: [4/800] [400/722] eta: 0:02:08 loss: nan (nan) lr: 0.000010 (0.000010) wd: 0.040029 (0.040025) time: 0.398646 data: 0.159105 max mem: 3606\n",
            "Epoch: [4/800] [500/722] eta: 0:01:28 loss: nan (nan) lr: 0.000010 (0.000010) wd: 0.040030 (0.040026) time: 0.400038 data: 0.157072 max mem: 3606\n",
            "Epoch: [4/800] [600/722] eta: 0:00:48 loss: nan (nan) lr: 0.000010 (0.000010) wd: 0.040032 (0.040027) time: 0.392782 data: 0.151265 max mem: 3606\n",
            "Epoch: [4/800] [700/722] eta: 0:00:08 loss: nan (nan) lr: 0.000010 (0.000010) wd: 0.040034 (0.040028) time: 0.399576 data: 0.160145 max mem: 3606\n",
            "Epoch: [4/800] [721/722] eta: 0:00:00 loss: nan (nan) lr: 0.000010 (0.000010) wd: 0.040034 (0.040028) time: 0.385826 data: 0.156038 max mem: 3606\n",
            "Epoch: [4/800] Total time: 0:04:48 (0.399134 s / it)\n",
            "Averaged stats: loss: nan (nan) lr: 0.000010 (0.000010) wd: 0.040034 (0.040028)\n",
            "current epoch is 4\n",
            "Training time 0:25:04\n",
            "Epoch: [5/800] [  0/722] eta: 0:09:25 loss: nan (nan) lr: 0.000010 (0.000010) wd: 0.040035 (0.040035) time: 0.782601 data: 0.540861 max mem: 3606\n",
            "Epoch: [5/800] [100/722] eta: 0:04:12 loss: nan (nan) lr: 0.000010 (0.000010) wd: 0.040036 (0.040036) time: 0.395782 data: 0.155307 max mem: 3606\n",
            "Epoch: [5/800] [200/722] eta: 0:03:30 loss: nan (nan) lr: 0.000010 (0.000010) wd: 0.040038 (0.040037) time: 0.399413 data: 0.159836 max mem: 3606\n",
            "Epoch: [5/800] [300/722] eta: 0:02:49 loss: nan (nan) lr: 0.000010 (0.000010) wd: 0.040040 (0.040038) time: 0.401029 data: 0.163098 max mem: 3606\n",
            "Epoch: [5/800] [400/722] eta: 0:02:09 loss: nan (nan) lr: 0.000010 (0.000010) wd: 0.040042 (0.040039) time: 0.403215 data: 0.162883 max mem: 3606\n",
            "Epoch: [5/800] [500/722] eta: 0:01:28 loss: nan (nan) lr: 0.000010 (0.000010) wd: 0.040045 (0.040040) time: 0.399479 data: 0.157279 max mem: 3606\n",
            "Epoch: [5/800] [600/722] eta: 0:00:48 loss: nan (nan) lr: 0.000010 (0.000010) wd: 0.040047 (0.040041) time: 0.408637 data: 0.167700 max mem: 3606\n",
            "Epoch: [5/800] [700/722] eta: 0:00:08 loss: nan (nan) lr: 0.000010 (0.000010) wd: 0.040049 (0.040042) time: 0.401742 data: 0.160438 max mem: 3606\n",
            "Epoch: [5/800] [721/722] eta: 0:00:00 loss: nan (nan) lr: 0.000010 (0.000010) wd: 0.040050 (0.040042) time: 0.376690 data: 0.145669 max mem: 3606\n",
            "Epoch: [5/800] Total time: 0:04:48 (0.399609 s / it)\n",
            "Averaged stats: loss: nan (nan) lr: 0.000010 (0.000010) wd: 0.040050 (0.040042)\n",
            "current epoch is 5\n",
            "Training time 0:29:54\n",
            "Epoch: [6/800] [  0/722] eta: 0:08:55 loss: nan (nan) lr: 0.000010 (0.000010) wd: 0.040050 (0.040050) time: 0.742099 data: 0.483834 max mem: 3606\n",
            "Epoch: [6/800] [100/722] eta: 0:04:13 loss: nan (nan) lr: 0.000010 (0.000010) wd: 0.040052 (0.040051) time: 0.386434 data: 0.146447 max mem: 3606\n",
            "Epoch: [6/800] [200/722] eta: 0:03:29 loss: nan (nan) lr: 0.000010 (0.000010) wd: 0.040054 (0.040052) time: 0.394441 data: 0.152979 max mem: 3606\n",
            "Epoch: [6/800] [300/722] eta: 0:02:48 loss: nan (nan) lr: 0.000010 (0.000010) wd: 0.040057 (0.040053) time: 0.397525 data: 0.156051 max mem: 3606\n",
            "Epoch: [6/800] [400/722] eta: 0:02:08 loss: nan (nan) lr: 0.000010 (0.000010) wd: 0.040059 (0.040055) time: 0.392613 data: 0.150669 max mem: 3608\n",
            "Epoch: [6/800] [500/722] eta: 0:01:28 loss: nan (nan) lr: 0.000010 (0.000010) wd: 0.040062 (0.040056) time: 0.400343 data: 0.160906 max mem: 3608\n",
            "Epoch: [6/800] [600/722] eta: 0:00:48 loss: nan (nan) lr: 0.000010 (0.000010) wd: 0.040064 (0.040057) time: 0.402139 data: 0.164656 max mem: 3608\n",
            "Epoch: [6/800] [700/722] eta: 0:00:08 loss: nan (nan) lr: 0.000010 (0.000010) wd: 0.040067 (0.040058) time: 0.393048 data: 0.152943 max mem: 3608\n",
            "Epoch: [6/800] [721/722] eta: 0:00:00 loss: nan (nan) lr: 0.000010 (0.000010) wd: 0.040068 (0.040059) time: 0.394856 data: 0.161598 max mem: 3608\n",
            "Epoch: [6/800] Total time: 0:04:46 (0.397246 s / it)\n",
            "Averaged stats: loss: nan (nan) lr: 0.000010 (0.000010) wd: 0.040068 (0.040059)\n",
            "current epoch is 6\n",
            "Training time 0:34:42\n",
            "Epoch: [7/800] [  0/722] eta: 0:08:48 loss: nan (nan) lr: 0.000010 (0.000010) wd: 0.040068 (0.040068) time: 0.732540 data: 0.487439 max mem: 3608\n",
            "Epoch: [7/800] [100/722] eta: 0:04:07 loss: nan (nan) lr: 0.000010 (0.000010) wd: 0.040070 (0.040069) time: 0.392964 data: 0.154327 max mem: 3608\n",
            "Epoch: [7/800] [200/722] eta: 0:03:26 loss: nan (nan) lr: 0.000010 (0.000010) wd: 0.040073 (0.040071) time: 0.389933 data: 0.149204 max mem: 3608\n",
            "Epoch: [7/800] [300/722] eta: 0:02:46 loss: nan (nan) lr: 0.000010 (0.000010) wd: 0.040076 (0.040072) time: 0.389934 data: 0.151048 max mem: 3608\n",
            "Epoch: [7/800] [400/722] eta: 0:02:07 loss: nan (nan) lr: 0.000010 (0.000010) wd: 0.040079 (0.040073) time: 0.393404 data: 0.153786 max mem: 3608\n",
            "Epoch: [7/800] [500/722] eta: 0:01:27 loss: nan (nan) lr: 0.000010 (0.000010) wd: 0.040082 (0.040075) time: 0.394546 data: 0.153026 max mem: 3608\n",
            "Epoch: [7/800] [600/722] eta: 0:00:48 loss: nan (nan) lr: 0.000010 (0.000010) wd: 0.040085 (0.040076) time: 0.391511 data: 0.152519 max mem: 3608\n",
            "Epoch: [7/800] [700/722] eta: 0:00:08 loss: nan (nan) lr: 0.000010 (0.000010) wd: 0.040088 (0.040078) time: 0.402183 data: 0.163429 max mem: 3608\n",
            "Epoch: [7/800] [721/722] eta: 0:00:00 loss: nan (nan) lr: 0.000010 (0.000010) wd: 0.040088 (0.040078) time: 0.396426 data: 0.162472 max mem: 3608\n",
            "Epoch: [7/800] Total time: 0:04:45 (0.396103 s / it)\n",
            "Averaged stats: loss: nan (nan) lr: 0.000010 (0.000010) wd: 0.040088 (0.040078)\n",
            "current epoch is 7\n",
            "Training time 0:39:28\n",
            "Epoch: [8/800] [  0/722] eta: 0:08:31 loss: nan (nan) lr: 0.000010 (0.000010) wd: 0.040089 (0.040089) time: 0.708006 data: 0.469196 max mem: 3608\n",
            "Epoch: [8/800] [100/722] eta: 0:04:06 loss: nan (nan) lr: 0.000010 (0.000010) wd: 0.040091 (0.040090) time: 0.384275 data: 0.146732 max mem: 3608\n",
            "Epoch: [8/800] [200/722] eta: 0:03:25 loss: nan (nan) lr: 0.000010 (0.000010) wd: 0.040095 (0.040092) time: 0.393991 data: 0.155344 max mem: 3608\n",
            "Epoch: [8/800] [300/722] eta: 0:02:46 loss: nan (nan) lr: 0.000010 (0.000010) wd: 0.040098 (0.040093) time: 0.391849 data: 0.152867 max mem: 3608\n",
            "Epoch: [8/800] [400/722] eta: 0:02:06 loss: nan (nan) lr: 0.000010 (0.000010) wd: 0.040101 (0.040095) time: 0.397954 data: 0.160828 max mem: 3608\n",
            "Epoch: [8/800] [500/722] eta: 0:01:27 loss: nan (nan) lr: 0.000010 (0.000010) wd: 0.040104 (0.040096) time: 0.394922 data: 0.157227 max mem: 3608\n",
            "Epoch: [8/800] [600/722] eta: 0:00:48 loss: nan (nan) lr: 0.000010 (0.000010) wd: 0.040108 (0.040098) time: 0.393354 data: 0.153802 max mem: 3608\n",
            "Epoch: [8/800] [700/722] eta: 0:00:08 loss: nan (nan) lr: 0.000010 (0.000010) wd: 0.040111 (0.040100) time: 0.405146 data: 0.163164 max mem: 3608\n",
            "Epoch: [8/800] [721/722] eta: 0:00:00 loss: nan (nan) lr: 0.000010 (0.000010) wd: 0.040112 (0.040100) time: 0.379956 data: 0.148547 max mem: 3608\n",
            "Epoch: [8/800] Total time: 0:04:44 (0.394628 s / it)\n",
            "Averaged stats: loss: nan (nan) lr: 0.000010 (0.000010) wd: 0.040112 (0.040100)\n",
            "current epoch is 8\n",
            "Training time 0:44:14\n",
            "Epoch: [9/800] [  0/722] eta: 0:09:04 loss: nan (nan) lr: 0.000010 (0.000010) wd: 0.040112 (0.040112) time: 0.754036 data: 0.492534 max mem: 3608\n",
            "Epoch: [9/800] [100/722] eta: 0:04:09 loss: nan (nan) lr: 0.000010 (0.000010) wd: 0.040115 (0.040114) time: 0.393813 data: 0.155255 max mem: 3608\n",
            "Epoch: [9/800] [200/722] eta: 0:03:27 loss: nan (nan) lr: 0.000010 (0.000010) wd: 0.040119 (0.040116) time: 0.396815 data: 0.158797 max mem: 3608\n",
            "Epoch: [9/800] [300/722] eta: 0:02:46 loss: nan (nan) lr: 0.000010 (0.000010) wd: 0.040122 (0.040117) time: 0.392189 data: 0.152385 max mem: 3608\n",
            "Epoch: [9/800] [400/722] eta: 0:02:07 loss: nan (nan) lr: 0.000010 (0.000010) wd: 0.040126 (0.040119) time: 0.393805 data: 0.154800 max mem: 3608\n",
            "Epoch: [9/800] [500/722] eta: 0:01:27 loss: nan (nan) lr: 0.000010 (0.000010) wd: 0.040130 (0.040121) time: 0.399066 data: 0.160065 max mem: 3608\n",
            "Epoch: [9/800] [600/722] eta: 0:00:48 loss: nan (nan) lr: 0.000010 (0.000010) wd: 0.040133 (0.040123) time: 0.396056 data: 0.154613 max mem: 3608\n",
            "Epoch: [9/800] [700/722] eta: 0:00:08 loss: nan (nan) lr: 0.000010 (0.000010) wd: 0.040137 (0.040125) time: 0.406582 data: 0.162714 max mem: 3608\n",
            "Epoch: [9/800] [721/722] eta: 0:00:00 loss: nan (nan) lr: 0.000010 (0.000010) wd: 0.040138 (0.040125) time: 0.374571 data: 0.143849 max mem: 3608\n",
            "Epoch: [9/800] Total time: 0:04:45 (0.395266 s / it)\n",
            "Averaged stats: loss: nan (nan) lr: 0.000010 (0.000010) wd: 0.040138 (0.040125)\n",
            "current epoch is 9\n",
            "Training time 0:49:00\n",
            "Epoch: [10/800] [  0/722] eta: 0:12:36 loss: nan (nan) lr: 0.000010 (0.000010) wd: 0.040138 (0.040138) time: 1.048316 data: 0.481820 max mem: 3608\n",
            "Epoch: [10/800] [100/722] eta: 0:04:50 loss: nan (nan) lr: 0.000010 (0.000010) wd: 0.040142 (0.040140) time: 0.456673 data: 0.000141 max mem: 3608\n",
            "Epoch: [10/800] [200/722] eta: 0:04:00 loss: nan (nan) lr: 0.000010 (0.000010) wd: 0.040146 (0.040142) time: 0.454114 data: 0.000148 max mem: 3608\n",
            "Epoch: [10/800] [300/722] eta: 0:03:13 loss: nan (nan) lr: 0.000010 (0.000010) wd: 0.040150 (0.040144) time: 0.457543 data: 0.000143 max mem: 3608\n",
            "Epoch: [10/800] [400/722] eta: 0:02:27 loss: nan (nan) lr: 0.000010 (0.000010) wd: 0.040154 (0.040146) time: 0.455719 data: 0.000153 max mem: 3608\n",
            "Epoch: [10/800] [500/722] eta: 0:01:41 loss: nan (nan) lr: 0.000010 (0.000010) wd: 0.040158 (0.040148) time: 0.450101 data: 0.000146 max mem: 3608\n",
            "Epoch: [10/800] [600/722] eta: 0:00:55 loss: nan (nan) lr: 0.000010 (0.000010) wd: 0.040162 (0.040150) time: 0.470361 data: 0.000145 max mem: 3608\n",
            "Epoch: [10/800] [700/722] eta: 0:00:10 loss: nan (nan) lr: 0.000010 (0.000010) wd: 0.040166 (0.040152) time: 0.454167 data: 0.000143 max mem: 3608\n",
            "Epoch: [10/800] [721/722] eta: 0:00:00 loss: nan (nan) lr: 0.000010 (0.000010) wd: 0.040167 (0.040153) time: 0.440626 data: 0.000148 max mem: 3608\n",
            "Epoch: [10/800] Total time: 0:05:29 (0.456876 s / it)\n",
            "Averaged stats: loss: nan (nan) lr: 0.000010 (0.000010) wd: 0.040167 (0.040153)\n",
            "current epoch is 10\n",
            "Training time 0:54:31\n",
            "Epoch: [11/800] [  0/722] eta: 0:09:34 loss: nan (nan) lr: 0.000010 (0.000010) wd: 0.040167 (0.040167) time: 0.795104 data: 0.552610 max mem: 3608\n",
            "Epoch: [11/800] [100/722] eta: 0:04:11 loss: nan (nan) lr: 0.000010 (0.000010) wd: 0.040171 (0.040170) time: 0.395411 data: 0.155462 max mem: 3608\n",
            "Epoch: [11/800] [200/722] eta: 0:03:28 loss: nan (nan) lr: 0.000010 (0.000010) wd: 0.040176 (0.040172) time: 0.391331 data: 0.151792 max mem: 3608\n",
            "Epoch: [11/800] [300/722] eta: 0:02:47 loss: nan (nan) lr: 0.000010 (0.000010) wd: 0.040180 (0.040174) time: 0.387385 data: 0.148146 max mem: 3608\n",
            "Epoch: [11/800] [400/722] eta: 0:02:07 loss: nan (nan) lr: 0.000010 (0.000010) wd: 0.040184 (0.040176) time: 0.395368 data: 0.157886 max mem: 3608\n",
            "Epoch: [11/800] [500/722] eta: 0:01:27 loss: nan (nan) lr: 0.000010 (0.000010) wd: 0.040189 (0.040178) time: 0.392387 data: 0.152988 max mem: 3608\n",
            "Epoch: [11/800] [600/722] eta: 0:00:48 loss: nan (nan) lr: 0.000010 (0.000010) wd: 0.040193 (0.040180) time: 0.399347 data: 0.159113 max mem: 3608\n",
            "Epoch: [11/800] [700/722] eta: 0:00:08 loss: nan (nan) lr: 0.000010 (0.000010) wd: 0.040198 (0.040183) time: 0.391039 data: 0.151756 max mem: 3608\n",
            "Epoch: [11/800] [721/722] eta: 0:00:00 loss: nan (nan) lr: 0.000010 (0.000010) wd: 0.040199 (0.040183) time: 0.380768 data: 0.150834 max mem: 3608\n",
            "Epoch: [11/800] Total time: 0:04:45 (0.395567 s / it)\n",
            "Averaged stats: loss: nan (nan) lr: 0.000010 (0.000010) wd: 0.040199 (0.040183)\n",
            "current epoch is 11\n",
            "Training time 0:59:17\n",
            "Epoch: [12/800] [  0/722] eta: 0:08:42 loss: nan (nan) lr: 0.000010 (0.000010) wd: 0.040199 (0.040199) time: 0.723727 data: 0.490304 max mem: 3608\n",
            "Epoch: [12/800] [100/722] eta: 0:04:08 loss: nan (nan) lr: 0.000010 (0.000010) wd: 0.040203 (0.040202) time: 0.404221 data: 0.165538 max mem: 3608\n",
            "Epoch: [12/800] [200/722] eta: 0:03:27 loss: nan (nan) lr: 0.000010 (0.000010) wd: 0.040208 (0.040204) time: 0.389705 data: 0.150283 max mem: 3608\n",
            "Epoch: [12/800] [300/722] eta: 0:02:47 loss: nan (nan) lr: 0.000010 (0.000010) wd: 0.040213 (0.040206) time: 0.393673 data: 0.154036 max mem: 3608\n",
            "Epoch: [12/800] [400/722] eta: 0:02:07 loss: nan (nan) lr: 0.000010 (0.000010) wd: 0.040218 (0.040209) time: 0.392758 data: 0.153058 max mem: 3608\n",
            "Epoch: [12/800] [500/722] eta: 0:01:27 loss: nan (nan) lr: 0.000010 (0.000010) wd: 0.040223 (0.040211) time: 0.395470 data: 0.156199 max mem: 3608\n",
            "Epoch: [12/800] [600/722] eta: 0:00:48 loss: nan (nan) lr: 0.000010 (0.000010) wd: 0.040227 (0.040213) time: 0.411071 data: 0.170488 max mem: 3608\n",
            "Epoch: [12/800] [700/722] eta: 0:00:08 loss: nan (nan) lr: 0.000010 (0.000010) wd: 0.040232 (0.040216) time: 0.399816 data: 0.157202 max mem: 3608\n",
            "Epoch: [12/800] [721/722] eta: 0:00:00 loss: nan (nan) lr: 0.000010 (0.000010) wd: 0.040233 (0.040216) time: 0.376523 data: 0.146630 max mem: 3608\n",
            "Epoch: [12/800] Total time: 0:04:46 (0.396286 s / it)\n",
            "Averaged stats: loss: nan (nan) lr: 0.000010 (0.000010) wd: 0.040233 (0.040216)\n",
            "current epoch is 12\n",
            "Training time 1:04:05\n",
            "Epoch: [13/800] [  0/722] eta: 0:08:43 loss: nan (nan) lr: 0.000010 (0.000010) wd: 0.040234 (0.040234) time: 0.724913 data: 0.488026 max mem: 3608\n",
            "Epoch: [13/800] [100/722] eta: 0:04:05 loss: nan (nan) lr: 0.000010 (0.000010) wd: 0.040238 (0.040236) time: 0.388880 data: 0.150832 max mem: 3608\n",
            "Epoch: [13/800] [200/722] eta: 0:03:26 loss: nan (nan) lr: 0.000010 (0.000010) wd: 0.040243 (0.040239) time: 0.400539 data: 0.159531 max mem: 3608\n",
            "Epoch: [13/800] [300/722] eta: 0:02:46 loss: nan (nan) lr: 0.000010 (0.000010) wd: 0.040249 (0.040241) time: 0.387597 data: 0.146355 max mem: 3608\n",
            "Epoch: [13/800] [400/722] eta: 0:02:07 loss: nan (nan) lr: 0.000010 (0.000010) wd: 0.040254 (0.040244) time: 0.392067 data: 0.153513 max mem: 3608\n",
            "Epoch: [13/800] [500/722] eta: 0:01:27 loss: nan (nan) lr: 0.000010 (0.000010) wd: 0.040259 (0.040247) time: 0.396560 data: 0.157035 max mem: 3608\n",
            "Epoch: [13/800] [600/722] eta: 0:00:48 loss: nan (nan) lr: 0.000010 (0.000010) wd: 0.040264 (0.040249) time: 0.397255 data: 0.157323 max mem: 3608\n",
            "Epoch: [13/800] [700/722] eta: 0:00:08 loss: nan (nan) lr: 0.000010 (0.000010) wd: 0.040270 (0.040252) time: 0.390328 data: 0.150621 max mem: 3608\n",
            "Epoch: [13/800] [721/722] eta: 0:00:00 loss: nan (nan) lr: 0.000010 (0.000010) wd: 0.040271 (0.040252) time: 0.384016 data: 0.152049 max mem: 3608\n",
            "Epoch: [13/800] Total time: 0:04:45 (0.395239 s / it)\n",
            "Averaged stats: loss: nan (nan) lr: 0.000010 (0.000010) wd: 0.040271 (0.040252)\n",
            "current epoch is 13\n",
            "Training time 1:08:51\n",
            "Epoch: [14/800] [  0/722] eta: 0:08:53 loss: nan (nan) lr: 0.000010 (0.000010) wd: 0.040271 (0.040271) time: 0.738981 data: 0.503012 max mem: 3608\n",
            "Epoch: [14/800] [100/722] eta: 0:04:06 loss: nan (nan) lr: 0.000010 (0.000010) wd: 0.040276 (0.040274) time: 0.391729 data: 0.149918 max mem: 3608\n",
            "Epoch: [14/800] [200/722] eta: 0:03:26 loss: nan (nan) lr: 0.000010 (0.000010) wd: 0.040282 (0.040277) time: 0.398273 data: 0.157946 max mem: 3608\n",
            "Epoch: [14/800] [300/722] eta: 0:02:47 loss: nan (nan) lr: 0.000010 (0.000010) wd: 0.040287 (0.040279) time: 0.400462 data: 0.160548 max mem: 3608\n",
            "Epoch: [14/800] [400/722] eta: 0:02:07 loss: nan (nan) lr: 0.000010 (0.000010) wd: 0.040293 (0.040282) time: 0.390432 data: 0.149410 max mem: 3608\n",
            "Epoch: [14/800] [500/722] eta: 0:01:27 loss: nan (nan) lr: 0.000010 (0.000010) wd: 0.040298 (0.040285) time: 0.395999 data: 0.156874 max mem: 3608\n",
            "Epoch: [14/800] [600/722] eta: 0:00:48 loss: nan (nan) lr: 0.000010 (0.000010) wd: 0.040304 (0.040288) time: 0.389307 data: 0.148465 max mem: 3608\n",
            "Epoch: [14/800] [700/722] eta: 0:00:08 loss: nan (nan) lr: 0.000010 (0.000010) wd: 0.040310 (0.040290) time: 0.400361 data: 0.161188 max mem: 3608\n",
            "Epoch: [14/800] [721/722] eta: 0:00:00 loss: nan (nan) lr: 0.000010 (0.000010) wd: 0.040311 (0.040291) time: 0.379382 data: 0.149112 max mem: 3608\n",
            "Epoch: [14/800] Total time: 0:04:45 (0.395645 s / it)\n",
            "Averaged stats: loss: nan (nan) lr: 0.000010 (0.000010) wd: 0.040311 (0.040291)\n",
            "current epoch is 14\n",
            "Training time 1:13:37\n",
            "Epoch: [15/800] [  0/722] eta: 0:08:47 loss: nan (nan) lr: 0.000010 (0.000010) wd: 0.040311 (0.040311) time: 0.731087 data: 0.486707 max mem: 3608\n",
            "Epoch: [15/800] [100/722] eta: 0:04:05 loss: nan (nan) lr: 0.000010 (0.000010) wd: 0.040317 (0.040314) time: 0.390273 data: 0.153423 max mem: 3608\n",
            "Epoch: [15/800] [200/722] eta: 0:03:25 loss: nan (nan) lr: 0.000010 (0.000010) wd: 0.040322 (0.040317) time: 0.391786 data: 0.154823 max mem: 3608\n",
            "Epoch: [15/800] [300/722] eta: 0:02:46 loss: nan (nan) lr: 0.000010 (0.000010) wd: 0.040328 (0.040320) time: 0.392847 data: 0.154611 max mem: 3608\n",
            "Epoch: [15/800] [400/722] eta: 0:02:06 loss: nan (nan) lr: 0.000010 (0.000010) wd: 0.040334 (0.040323) time: 0.391949 data: 0.152540 max mem: 3608\n",
            "Epoch: [15/800] [500/722] eta: 0:01:27 loss: nan (nan) lr: 0.000010 (0.000010) wd: 0.040340 (0.040326) time: 0.386141 data: 0.146794 max mem: 3608\n",
            "Epoch: [15/800] [600/722] eta: 0:00:48 loss: nan (nan) lr: 0.000010 (0.000010) wd: 0.040346 (0.040329) time: 0.395346 data: 0.154633 max mem: 3608\n",
            "Epoch: [15/800] [700/722] eta: 0:00:08 loss: nan (nan) lr: 0.000010 (0.000010) wd: 0.040352 (0.040332) time: 0.394339 data: 0.153866 max mem: 3608\n",
            "Epoch: [15/800] [721/722] eta: 0:00:00 loss: nan (nan) lr: 0.000010 (0.000010) wd: 0.040354 (0.040333) time: 0.378594 data: 0.148977 max mem: 3608\n",
            "Epoch: [15/800] Total time: 0:04:44 (0.394023 s / it)\n",
            "Averaged stats: loss: nan (nan) lr: 0.000010 (0.000010) wd: 0.040354 (0.040333)\n",
            "current epoch is 15\n",
            "Training time 1:18:25\n",
            "Epoch: [16/800] [  0/722] eta: 0:09:18 loss: nan (nan) lr: 0.000010 (0.000010) wd: 0.040354 (0.040354) time: 0.773511 data: 0.524396 max mem: 3608\n",
            "Epoch: [16/800] [100/722] eta: 0:04:11 loss: nan (nan) lr: 0.000010 (0.000010) wd: 0.040360 (0.040357) time: 0.393605 data: 0.154876 max mem: 3608\n",
            "Epoch: [16/800] [200/722] eta: 0:03:28 loss: nan (nan) lr: 0.000010 (0.000010) wd: 0.040366 (0.040360) time: 0.393184 data: 0.152997 max mem: 3608\n",
            "Epoch: [16/800] [300/722] eta: 0:02:48 loss: nan (nan) lr: 0.000010 (0.000010) wd: 0.040372 (0.040364) time: 0.393889 data: 0.153788 max mem: 3608\n",
            "Epoch: [16/800] [400/722] eta: 0:02:08 loss: nan (nan) lr: 0.000010 (0.000010) wd: 0.040379 (0.040367) time: 0.397556 data: 0.159268 max mem: 3608\n",
            "Epoch: [16/800] [500/722] eta: 0:01:28 loss: nan (nan) lr: 0.000010 (0.000010) wd: 0.040385 (0.040370) time: 0.392872 data: 0.153955 max mem: 3608\n",
            "Epoch: [16/800] [600/722] eta: 0:00:48 loss: nan (nan) lr: 0.000010 (0.000010) wd: 0.040391 (0.040373) time: 0.390670 data: 0.153619 max mem: 3608\n",
            "Epoch: [16/800] [700/722] eta: 0:00:08 loss: nan (nan) lr: 0.000010 (0.000010) wd: 0.040398 (0.040376) time: 0.390126 data: 0.149824 max mem: 3608\n",
            "Epoch: [16/800] [721/722] eta: 0:00:00 loss: nan (nan) lr: 0.000010 (0.000010) wd: 0.040399 (0.040377) time: 0.382396 data: 0.149363 max mem: 3608\n",
            "Epoch: [16/800] Total time: 0:04:45 (0.395671 s / it)\n",
            "Averaged stats: loss: nan (nan) lr: 0.000010 (0.000010) wd: 0.040399 (0.040377)\n",
            "current epoch is 16\n",
            "Training time 1:23:12\n",
            "Epoch: [17/800] [  0/722] eta: 0:09:14 loss: nan (nan) lr: 0.000010 (0.000010) wd: 0.040400 (0.040400) time: 0.767471 data: 0.514526 max mem: 3608\n",
            "Epoch: [17/800] [100/722] eta: 0:04:08 loss: nan (nan) lr: 0.000010 (0.000010) wd: 0.040406 (0.040403) time: 0.390329 data: 0.151511 max mem: 3608\n",
            "Epoch: [17/800] [200/722] eta: 0:03:27 loss: nan (nan) lr: 0.000010 (0.000010) wd: 0.040412 (0.040407) time: 0.398730 data: 0.158515 max mem: 3608\n",
            "Epoch: [17/800] [300/722] eta: 0:02:47 loss: nan (nan) lr: 0.000010 (0.000010) wd: 0.040419 (0.040410) time: 0.392618 data: 0.153889 max mem: 3608\n",
            "Epoch: [17/800] [400/722] eta: 0:02:07 loss: nan (nan) lr: 0.000010 (0.000010) wd: 0.040426 (0.040413) time: 0.390682 data: 0.151437 max mem: 3608\n",
            "Epoch: [17/800] [500/722] eta: 0:01:27 loss: nan (nan) lr: 0.000010 (0.000010) wd: 0.040433 (0.040416) time: 0.392831 data: 0.152829 max mem: 3608\n",
            "Epoch: [17/800] [600/722] eta: 0:00:48 loss: nan (nan) lr: 0.000010 (0.000010) wd: 0.040439 (0.040420) time: 0.397513 data: 0.156384 max mem: 3608\n",
            "Epoch: [17/800] [700/722] eta: 0:00:08 loss: nan (nan) lr: 0.000010 (0.000010) wd: 0.040446 (0.040423) time: 0.395643 data: 0.158052 max mem: 3608\n",
            "Epoch: [17/800] [721/722] eta: 0:00:00 loss: nan (nan) lr: 0.000010 (0.000010) wd: 0.040448 (0.040424) time: 0.384019 data: 0.154358 max mem: 3608\n",
            "Epoch: [17/800] Total time: 0:04:45 (0.395400 s / it)\n",
            "Averaged stats: loss: nan (nan) lr: 0.000010 (0.000010) wd: 0.040448 (0.040424)\n",
            "current epoch is 17\n",
            "Training time 1:27:58\n",
            "Epoch: [18/800] [  0/722] eta: 0:08:45 loss: nan (nan) lr: 0.000010 (0.000010) wd: 0.040448 (0.040448) time: 0.728478 data: 0.483769 max mem: 3608\n",
            "Epoch: [18/800] [100/722] eta: 0:04:07 loss: nan (nan) lr: 0.000010 (0.000010) wd: 0.040455 (0.040452) time: 0.393736 data: 0.153669 max mem: 3608\n",
            "Epoch: [18/800] [200/722] eta: 0:03:28 loss: nan (nan) lr: 0.000010 (0.000010) wd: 0.040462 (0.040455) time: 0.400814 data: 0.159918 max mem: 3608\n",
            "Epoch: [18/800] [300/722] eta: 0:02:48 loss: nan (nan) lr: 0.000010 (0.000010) wd: 0.040469 (0.040459) time: 0.400059 data: 0.160498 max mem: 3608\n",
            "Epoch: [18/800] [400/722] eta: 0:02:08 loss: nan (nan) lr: 0.000010 (0.000010) wd: 0.040476 (0.040462) time: 0.396677 data: 0.158251 max mem: 3608\n",
            "Epoch: [18/800] [500/722] eta: 0:01:28 loss: nan (nan) lr: 0.000010 (0.000010) wd: 0.040483 (0.040466) time: 0.389339 data: 0.150412 max mem: 3608\n",
            "Epoch: [18/800] [600/722] eta: 0:00:48 loss: nan (nan) lr: 0.000010 (0.000010) wd: 0.040490 (0.040469) time: 0.394670 data: 0.153365 max mem: 3608\n",
            "Epoch: [18/800] [700/722] eta: 0:00:08 loss: nan (nan) lr: 0.000010 (0.000010) wd: 0.040497 (0.040473) time: 0.393845 data: 0.152914 max mem: 3608\n",
            "Epoch: [18/800] [721/722] eta: 0:00:00 loss: nan (nan) lr: 0.000010 (0.000010) wd: 0.040499 (0.040474) time: 0.378108 data: 0.146044 max mem: 3608\n",
            "Epoch: [18/800] Total time: 0:04:47 (0.397623 s / it)\n",
            "Averaged stats: loss: nan (nan) lr: 0.000010 (0.000010) wd: 0.040499 (0.040474)\n",
            "current epoch is 18\n",
            "Training time 1:32:45\n",
            "Epoch: [19/800] [  0/722] eta: 0:08:57 loss: nan (nan) lr: 0.000010 (0.000010) wd: 0.040500 (0.040500) time: 0.744099 data: 0.497236 max mem: 3608\n",
            "Epoch: [19/800] [100/722] eta: 0:04:09 loss: nan (nan) lr: 0.000010 (0.000010) wd: 0.040506 (0.040503) time: 0.393197 data: 0.151160 max mem: 3608\n",
            "Epoch: [19/800] [200/722] eta: 0:03:28 loss: nan (nan) lr: 0.000010 (0.000010) wd: 0.040513 (0.040507) time: 0.400610 data: 0.158945 max mem: 3608\n",
            "Epoch: [19/800] [300/722] eta: 0:02:48 loss: nan (nan) lr: 0.000010 (0.000010) wd: 0.040521 (0.040511) time: 0.399866 data: 0.159927 max mem: 3608\n",
            "Epoch: [19/800] [400/722] eta: 0:02:08 loss: nan (nan) lr: 0.000010 (0.000010) wd: 0.040528 (0.040514) time: 0.391362 data: 0.153441 max mem: 3608\n",
            "Epoch: [19/800] [500/722] eta: 0:01:28 loss: nan (nan) lr: 0.000010 (0.000010) wd: 0.040536 (0.040518) time: 0.403521 data: 0.164580 max mem: 3608\n",
            "Epoch: [19/800] [600/722] eta: 0:00:48 loss: nan (nan) lr: 0.000010 (0.000010) wd: 0.040543 (0.040522) time: 0.399704 data: 0.161776 max mem: 3608\n",
            "Epoch: [19/800] [700/722] eta: 0:00:08 loss: nan (nan) lr: 0.000010 (0.000010) wd: 0.040551 (0.040525) time: 0.401749 data: 0.161889 max mem: 3608\n",
            "Epoch: [19/800] [721/722] eta: 0:00:00 loss: nan (nan) lr: 0.000010 (0.000010) wd: 0.040553 (0.040526) time: 0.388776 data: 0.156254 max mem: 3608\n",
            "Epoch: [19/800] Total time: 0:04:47 (0.398547 s / it)\n",
            "Averaged stats: loss: nan (nan) lr: 0.000010 (0.000010) wd: 0.040553 (0.040526)\n",
            "current epoch is 19\n",
            "Training time 1:37:34\n",
            "Epoch: [20/800] [  0/722] eta: 0:12:36 loss: nan (nan) lr: 0.000010 (0.000010) wd: 0.040553 (0.040553) time: 1.047347 data: 0.481248 max mem: 3608\n",
            "Epoch: [20/800] [100/722] eta: 0:04:53 loss: nan (nan) lr: 0.000010 (0.000010) wd: 0.040560 (0.040557) time: 0.458381 data: 0.000142 max mem: 3608\n",
            "Epoch: [20/800] [200/722] eta: 0:04:02 loss: nan (nan) lr: 0.000010 (0.000010) wd: 0.040568 (0.040561) time: 0.457324 data: 0.000145 max mem: 3608\n",
            "Epoch: [20/800] [300/722] eta: 0:03:15 loss: nan (nan) lr: 0.000010 (0.000010) wd: 0.040576 (0.040565) time: 0.459913 data: 0.000149 max mem: 3608\n",
            "Epoch: [20/800] [400/722] eta: 0:02:28 loss: nan (nan) lr: 0.000010 (0.000010) wd: 0.040584 (0.040569) time: 0.453453 data: 0.000143 max mem: 3608\n",
            "Epoch: [20/800] [500/722] eta: 0:01:42 loss: nan (nan) lr: 0.000010 (0.000010) wd: 0.040592 (0.040573) time: 0.459527 data: 0.000171 max mem: 3608\n",
            "Epoch: [20/800] [600/722] eta: 0:00:56 loss: nan (nan) lr: 0.000010 (0.000010) wd: 0.040600 (0.040577) time: 0.452305 data: 0.000145 max mem: 3608\n",
            "Epoch: [20/800] [700/722] eta: 0:00:10 loss: nan (nan) lr: 0.000010 (0.000010) wd: 0.040608 (0.040581) time: 0.457024 data: 0.000150 max mem: 3608\n",
            "Epoch: [20/800] [721/722] eta: 0:00:00 loss: nan (nan) lr: 0.000010 (0.000010) wd: 0.040609 (0.040582) time: 0.443224 data: 0.000151 max mem: 3608\n",
            "Epoch: [20/800] Total time: 0:05:31 (0.459505 s / it)\n",
            "Averaged stats: loss: nan (nan) lr: 0.000010 (0.000010) wd: 0.040609 (0.040582)\n",
            "current epoch is 20\n",
            "Training time 1:43:08\n",
            "Epoch: [21/800] [  0/722] eta: 0:09:08 loss: nan (nan) lr: 0.000010 (0.000010) wd: 0.040610 (0.040610) time: 0.759935 data: 0.504678 max mem: 3608\n",
            "Epoch: [21/800] [100/722] eta: 0:04:10 loss: nan (nan) lr: 0.000010 (0.000010) wd: 0.040617 (0.040614) time: 0.396835 data: 0.158053 max mem: 3608\n",
            "Epoch: [21/800] [200/722] eta: 0:03:27 loss: nan (nan) lr: 0.000010 (0.000010) wd: 0.040626 (0.040618) time: 0.387503 data: 0.145791 max mem: 3608\n",
            "Epoch: [21/800] [300/722] eta: 0:02:47 loss: nan (nan) lr: 0.000010 (0.000010) wd: 0.040634 (0.040622) time: 0.396192 data: 0.157296 max mem: 3608\n",
            "Epoch: [21/800] [400/722] eta: 0:02:07 loss: nan (nan) lr: 0.000010 (0.000010) wd: 0.040642 (0.040626) time: 0.401591 data: 0.159884 max mem: 3608\n",
            "Epoch: [21/800] [500/722] eta: 0:01:27 loss: nan (nan) lr: 0.000010 (0.000010) wd: 0.040650 (0.040631) time: 0.394992 data: 0.154650 max mem: 3608\n",
            "Epoch: [21/800] [600/722] eta: 0:00:48 loss: nan (nan) lr: 0.000010 (0.000010) wd: 0.040659 (0.040635) time: 0.399495 data: 0.159888 max mem: 3608\n",
            "Epoch: [21/800] [700/722] eta: 0:00:08 loss: nan (nan) lr: 0.000010 (0.000010) wd: 0.040667 (0.040639) time: 0.393883 data: 0.154904 max mem: 3608\n",
            "Epoch: [21/800] [721/722] eta: 0:00:00 loss: nan (nan) lr: 0.000010 (0.000010) wd: 0.040669 (0.040640) time: 0.380307 data: 0.147547 max mem: 3608\n",
            "Epoch: [21/800] Total time: 0:04:45 (0.395916 s / it)\n",
            "Averaged stats: loss: nan (nan) lr: 0.000010 (0.000010) wd: 0.040669 (0.040640)\n",
            "current epoch is 21\n",
            "Training time 1:47:54\n",
            "Epoch: [22/800] [  0/722] eta: 0:09:20 loss: nan (nan) lr: 0.000010 (0.000010) wd: 0.040670 (0.040670) time: 0.776790 data: 0.538904 max mem: 3608\n",
            "Epoch: [22/800] [100/722] eta: 0:04:10 loss: nan (nan) lr: 0.000010 (0.000010) wd: 0.040677 (0.040674) time: 0.396296 data: 0.156476 max mem: 3608\n",
            "Epoch: [22/800] [200/722] eta: 0:03:28 loss: nan (nan) lr: 0.000010 (0.000010) wd: 0.040686 (0.040678) time: 0.395736 data: 0.156919 max mem: 3608\n",
            "Epoch: [22/800] [300/722] eta: 0:02:48 loss: nan (nan) lr: 0.000010 (0.000010) wd: 0.040694 (0.040682) time: 0.392608 data: 0.154179 max mem: 3608\n",
            "Epoch: [22/800] [400/722] eta: 0:02:08 loss: nan (nan) lr: 0.000010 (0.000010) wd: 0.040703 (0.040687) time: 0.401425 data: 0.163703 max mem: 3608\n",
            "Epoch: [22/800] [500/722] eta: 0:01:28 loss: nan (nan) lr: 0.000010 (0.000010) wd: 0.040712 (0.040691) time: 0.400166 data: 0.159112 max mem: 3608\n",
            "Epoch: [22/800] [600/722] eta: 0:00:48 loss: nan (nan) lr: 0.000010 (0.000010) wd: 0.040720 (0.040695) time: 0.399042 data: 0.157135 max mem: 3608\n",
            "Epoch: [22/800] [700/722] eta: 0:00:08 loss: nan (nan) lr: 0.000010 (0.000010) wd: 0.040729 (0.040700) time: 0.395906 data: 0.156640 max mem: 3608\n",
            "Epoch: [22/800] [721/722] eta: 0:00:00 loss: nan (nan) lr: 0.000010 (0.000010) wd: 0.040731 (0.040700) time: 0.385414 data: 0.154234 max mem: 3608\n",
            "Epoch: [22/800] Total time: 0:04:47 (0.398102 s / it)\n",
            "Averaged stats: loss: nan (nan) lr: 0.000010 (0.000010) wd: 0.040731 (0.040700)\n",
            "current epoch is 22\n",
            "Training time 1:52:42\n",
            "Epoch: [23/800] [  0/722] eta: 0:08:45 loss: nan (nan) lr: 0.000010 (0.000010) wd: 0.040732 (0.040732) time: 0.727464 data: 0.483976 max mem: 3608\n",
            "Epoch: [23/800] [100/722] eta: 0:04:07 loss: nan (nan) lr: 0.000010 (0.000010) wd: 0.040740 (0.040736) time: 0.400179 data: 0.160805 max mem: 3608\n",
            "Epoch: [23/800] [200/722] eta: 0:03:27 loss: nan (nan) lr: 0.000010 (0.000010) wd: 0.040749 (0.040741) time: 0.391440 data: 0.152442 max mem: 3608\n",
            "Epoch: [23/800] [300/722] eta: 0:02:47 loss: nan (nan) lr: 0.000010 (0.000010) wd: 0.040758 (0.040745) time: 0.393732 data: 0.151206 max mem: 3608\n",
            "Epoch: [23/800] [400/722] eta: 0:02:07 loss: nan (nan) lr: 0.000010 (0.000010) wd: 0.040767 (0.040750) time: 0.393708 data: 0.155120 max mem: 3608\n",
            "Epoch: [23/800] [500/722] eta: 0:01:28 loss: nan (nan) lr: 0.000010 (0.000010) wd: 0.040776 (0.040754) time: 0.394615 data: 0.154608 max mem: 3608\n",
            "Epoch: [23/800] [600/722] eta: 0:00:48 loss: nan (nan) lr: 0.000010 (0.000010) wd: 0.040785 (0.040759) time: 0.401977 data: 0.162866 max mem: 3608\n",
            "Epoch: [23/800] [700/722] eta: 0:00:08 loss: nan (nan) lr: 0.000010 (0.000010) wd: 0.040794 (0.040763) time: 0.392634 data: 0.149749 max mem: 3608\n",
            "Epoch: [23/800] [721/722] eta: 0:00:00 loss: nan (nan) lr: 0.000010 (0.000010) wd: 0.040796 (0.040764) time: 0.378387 data: 0.147864 max mem: 3608\n",
            "Epoch: [23/800] Total time: 0:04:47 (0.397893 s / it)\n",
            "Averaged stats: loss: nan (nan) lr: 0.000010 (0.000010) wd: 0.040796 (0.040764)\n",
            "current epoch is 23\n",
            "Training time 1:57:30\n",
            "Epoch: [24/800] [  0/722] eta: 0:08:54 loss: nan (nan) lr: 0.000010 (0.000010) wd: 0.040797 (0.040797) time: 0.740101 data: 0.502750 max mem: 3608\n",
            "Epoch: [24/800] [100/722] eta: 0:04:12 loss: nan (nan) lr: 0.000010 (0.000010) wd: 0.040805 (0.040801) time: 0.401306 data: 0.162106 max mem: 3608\n",
            "Epoch: [24/800] [200/722] eta: 0:03:29 loss: nan (nan) lr: 0.000010 (0.000010) wd: 0.040814 (0.040806) time: 0.389736 data: 0.151142 max mem: 3608\n",
            "Epoch: [24/800] [300/722] eta: 0:02:49 loss: nan (nan) lr: 0.000010 (0.000010) wd: 0.040824 (0.040811) time: 0.396009 data: 0.155276 max mem: 3608\n",
            "Epoch: [24/800] [400/722] eta: 0:02:08 loss: nan (nan) lr: 0.000010 (0.000010) wd: 0.040833 (0.040815) time: 0.392004 data: 0.150695 max mem: 3608\n",
            "Epoch: [24/800] [500/722] eta: 0:01:28 loss: nan (nan) lr: 0.000010 (0.000010) wd: 0.040843 (0.040820) time: 0.395018 data: 0.155649 max mem: 3608\n",
            "Epoch: [24/800] [600/722] eta: 0:00:48 loss: nan (nan) lr: 0.000010 (0.000010) wd: 0.040852 (0.040825) time: 0.394170 data: 0.154809 max mem: 3608\n",
            "Epoch: [24/800] [700/722] eta: 0:00:08 loss: nan (nan) lr: 0.000010 (0.000010) wd: 0.040862 (0.040829) time: 0.402729 data: 0.166148 max mem: 3608\n",
            "Epoch: [24/800] [721/722] eta: 0:00:00 loss: nan (nan) lr: 0.000010 (0.000010) wd: 0.040864 (0.040830) time: 0.380767 data: 0.150462 max mem: 3608\n",
            "Epoch: [24/800] Total time: 0:04:47 (0.398219 s / it)\n",
            "Averaged stats: loss: nan (nan) lr: 0.000010 (0.000010) wd: 0.040864 (0.040830)\n",
            "current epoch is 24\n",
            "Training time 2:02:18\n",
            "Epoch: [25/800] [  0/722] eta: 0:08:53 loss: nan (nan) lr: 0.000010 (0.000010) wd: 0.040865 (0.040865) time: 0.739441 data: 0.502131 max mem: 3608\n",
            "Epoch: [25/800] [100/722] eta: 0:04:14 loss: nan (nan) lr: 0.000010 (0.000010) wd: 0.040873 (0.040869) time: 0.404431 data: 0.163824 max mem: 3608\n",
            "Epoch: [25/800] [200/722] eta: 0:03:30 loss: nan (nan) lr: 0.000010 (0.000010) wd: 0.040883 (0.040874) time: 0.399710 data: 0.158579 max mem: 3608\n",
            "Epoch: [25/800] [300/722] eta: 0:02:50 loss: nan (nan) lr: 0.000010 (0.000010) wd: 0.040893 (0.040879) time: 0.400963 data: 0.159153 max mem: 3608\n",
            "Epoch: [25/800] [400/722] eta: 0:02:09 loss: nan (nan) lr: 0.000010 (0.000010) wd: 0.040902 (0.040884) time: 0.391138 data: 0.151436 max mem: 3608\n",
            "Epoch: [25/800] [500/722] eta: 0:01:28 loss: nan (nan) lr: 0.000010 (0.000010) wd: 0.040912 (0.040889) time: 0.399997 data: 0.161100 max mem: 3608\n",
            "Epoch: [25/800] [600/722] eta: 0:00:48 loss: nan (nan) lr: 0.000010 (0.000010) wd: 0.040922 (0.040894) time: 0.397022 data: 0.158183 max mem: 3608\n",
            "Epoch: [25/800] [700/722] eta: 0:00:08 loss: nan (nan) lr: 0.000010 (0.000010) wd: 0.040932 (0.040899) time: 0.398798 data: 0.161065 max mem: 3608\n",
            "Epoch: [25/800] [721/722] eta: 0:00:00 loss: nan (nan) lr: 0.000010 (0.000010) wd: 0.040934 (0.040900) time: 0.386984 data: 0.154292 max mem: 3608\n",
            "Epoch: [25/800] Total time: 0:04:48 (0.399813 s / it)\n",
            "Averaged stats: loss: nan (nan) lr: 0.000010 (0.000010) wd: 0.040934 (0.040900)\n",
            "current epoch is 25\n",
            "Training time 2:07:08\n",
            "Epoch: [26/800] [  0/722] eta: 0:09:19 loss: nan (nan) lr: 0.000010 (0.000010) wd: 0.040935 (0.040935) time: 0.774812 data: 0.532803 max mem: 3608\n",
            "Epoch: [26/800] [100/722] eta: 0:04:12 loss: nan (nan) lr: 0.000010 (0.000010) wd: 0.040944 (0.040940) time: 0.399081 data: 0.159536 max mem: 3608\n",
            "Epoch: [26/800] [200/722] eta: 0:03:29 loss: nan (nan) lr: 0.000010 (0.000010) wd: 0.040954 (0.040945) time: 0.405137 data: 0.167258 max mem: 3608\n",
            "Epoch: [26/800] [300/722] eta: 0:02:49 loss: nan (nan) lr: 0.000010 (0.000010) wd: 0.040964 (0.040950) time: 0.392114 data: 0.154207 max mem: 3608\n",
            "Epoch: [26/800] [400/722] eta: 0:02:08 loss: nan (nan) lr: 0.000010 (0.000010) wd: 0.040974 (0.040955) time: 0.397127 data: 0.157297 max mem: 3608\n",
            "Epoch: [26/800] [500/722] eta: 0:01:28 loss: nan (nan) lr: 0.000010 (0.000010) wd: 0.040984 (0.040960) time: 0.394905 data: 0.157520 max mem: 3608\n",
            "Epoch: [26/800] [600/722] eta: 0:00:48 loss: nan (nan) lr: 0.000010 (0.000010) wd: 0.040995 (0.040965) time: 0.399301 data: 0.158716 max mem: 3608\n",
            "Epoch: [26/800] [700/722] eta: 0:00:08 loss: nan (nan) lr: 0.000010 (0.000010) wd: 0.041005 (0.040970) time: 0.394092 data: 0.153077 max mem: 3609\n",
            "Epoch: [26/800] [721/722] eta: 0:00:00 loss: nan (nan) lr: 0.000010 (0.000010) wd: 0.041007 (0.040971) time: 0.372374 data: 0.140974 max mem: 3609\n",
            "Epoch: [26/800] Total time: 0:04:47 (0.398123 s / it)\n",
            "Averaged stats: loss: nan (nan) lr: 0.000010 (0.000010) wd: 0.041007 (0.040971)\n",
            "current epoch is 26\n",
            "Training time 2:11:56\n",
            "Epoch: [27/800] [  0/722] eta: 0:08:45 loss: nan (nan) lr: 0.000010 (0.000010) wd: 0.041008 (0.041008) time: 0.727195 data: 0.490602 max mem: 3609\n",
            "Epoch: [27/800] [100/722] eta: 0:04:10 loss: nan (nan) lr: 0.000010 (0.000010) wd: 0.041018 (0.041013) time: 0.401341 data: 0.162924 max mem: 3609\n",
            "Epoch: [27/800] [200/722] eta: 0:03:29 loss: nan (nan) lr: 0.000010 (0.000010) wd: 0.041028 (0.041019) time: 0.398885 data: 0.156188 max mem: 3609\n",
            "Epoch: [27/800] [300/722] eta: 0:02:48 loss: nan (nan) lr: 0.000010 (0.000010) wd: 0.041039 (0.041024) time: 0.396377 data: 0.156537 max mem: 3609\n",
            "Epoch: [27/800] [400/722] eta: 0:02:08 loss: nan (nan) lr: 0.000010 (0.000010) wd: 0.041049 (0.041029) time: 0.395754 data: 0.156960 max mem: 3609\n",
            "Epoch: [27/800] [500/722] eta: 0:01:28 loss: nan (nan) lr: 0.000010 (0.000010) wd: 0.041060 (0.041034) time: 0.394159 data: 0.151559 max mem: 3609\n",
            "Epoch: [27/800] [600/722] eta: 0:00:48 loss: nan (nan) lr: 0.000010 (0.000010) wd: 0.041070 (0.041040) time: 0.391449 data: 0.149285 max mem: 3609\n",
            "Epoch: [27/800] [700/722] eta: 0:00:08 loss: nan (nan) lr: 0.000010 (0.000010) wd: 0.041081 (0.041045) time: 0.402578 data: 0.162535 max mem: 3609\n",
            "Epoch: [27/800] [721/722] eta: 0:00:00 loss: nan (nan) lr: 0.000010 (0.000010) wd: 0.041083 (0.041046) time: 0.385098 data: 0.154316 max mem: 3609\n",
            "Epoch: [27/800] Total time: 0:04:47 (0.398545 s / it)\n",
            "Averaged stats: loss: nan (nan) lr: 0.000010 (0.000010) wd: 0.041083 (0.041046)\n",
            "current epoch is 27\n",
            "Training time 2:16:44\n",
            "Epoch: [28/800] [  0/722] eta: 0:08:49 loss: nan (nan) lr: 0.000010 (0.000010) wd: 0.041084 (0.041084) time: 0.733375 data: 0.492174 max mem: 3609\n",
            "Epoch: [28/800] [100/722] eta: 0:04:07 loss: nan (nan) lr: 0.000010 (0.000010) wd: 0.041094 (0.041090) time: 0.397381 data: 0.157329 max mem: 3609\n",
            "Epoch: [28/800] [200/722] eta: 0:03:28 loss: nan (nan) lr: 0.000010 (0.000010) wd: 0.041105 (0.041095) time: 0.402515 data: 0.163588 max mem: 3609\n",
            "Epoch: [28/800] [300/722] eta: 0:02:48 loss: nan (nan) lr: 0.000010 (0.000010) wd: 0.041116 (0.041100) time: 0.397879 data: 0.157024 max mem: 3609\n",
            "Epoch: [28/800] [400/722] eta: 0:02:08 loss: nan (nan) lr: 0.000010 (0.000010) wd: 0.041127 (0.041106) time: 0.402264 data: 0.160062 max mem: 3609\n",
            "Epoch: [28/800] [500/722] eta: 0:01:28 loss: nan (nan) lr: 0.000010 (0.000010) wd: 0.041137 (0.041111) time: 0.413793 data: 0.170277 max mem: 3609\n",
            "Epoch: [28/800] [600/722] eta: 0:00:48 loss: nan (nan) lr: 0.000010 (0.000010) wd: 0.041148 (0.041117) time: 0.402920 data: 0.160261 max mem: 3609\n",
            "Epoch: [28/800] [700/722] eta: 0:00:08 loss: nan (nan) lr: 0.000010 (0.000010) wd: 0.041160 (0.041122) time: 0.394013 data: 0.152010 max mem: 3609\n",
            "Epoch: [28/800] [721/722] eta: 0:00:00 loss: nan (nan) lr: 0.000010 (0.000010) wd: 0.041162 (0.041123) time: 0.383165 data: 0.154309 max mem: 3609\n",
            "Epoch: [28/800] Total time: 0:04:47 (0.398848 s / it)\n",
            "Averaged stats: loss: nan (nan) lr: 0.000010 (0.000010) wd: 0.041162 (0.041123)\n",
            "current epoch is 28\n",
            "Training time 2:21:33\n",
            "Epoch: [29/800] [  0/722] eta: 0:09:05 loss: nan (nan) lr: 0.000010 (0.000010) wd: 0.041163 (0.041163) time: 0.755000 data: 0.502749 max mem: 3609\n",
            "Epoch: [29/800] [100/722] eta: 0:04:09 loss: nan (nan) lr: 0.000010 (0.000010) wd: 0.041173 (0.041169) time: 0.406101 data: 0.165153 max mem: 3609\n",
            "Epoch: [29/800] [200/722] eta: 0:03:29 loss: nan (nan) lr: 0.000010 (0.000010) wd: 0.041184 (0.041174) time: 0.397762 data: 0.157412 max mem: 3609\n",
            "Epoch: [29/800] [300/722] eta: 0:02:48 loss: nan (nan) lr: 0.000010 (0.000010) wd: 0.041195 (0.041180) time: 0.398446 data: 0.159269 max mem: 3609\n",
            "Epoch: [29/800] [400/722] eta: 0:02:08 loss: nan (nan) lr: 0.000010 (0.000010) wd: 0.041207 (0.041185) time: 0.397491 data: 0.156596 max mem: 3609\n",
            "Epoch: [29/800] [500/722] eta: 0:01:28 loss: nan (nan) lr: 0.000010 (0.000010) wd: 0.041218 (0.041191) time: 0.399667 data: 0.157477 max mem: 3609\n",
            "Epoch: [29/800] [600/722] eta: 0:00:48 loss: nan (nan) lr: 0.000010 (0.000010) wd: 0.041229 (0.041197) time: 0.398085 data: 0.159575 max mem: 3609\n",
            "Epoch: [29/800] [700/722] eta: 0:00:08 loss: nan (nan) lr: 0.000010 (0.000010) wd: 0.041241 (0.041202) time: 0.396419 data: 0.157414 max mem: 3609\n",
            "Epoch: [29/800] [721/722] eta: 0:00:00 loss: nan (nan) lr: 0.000010 (0.000010) wd: 0.041243 (0.041204) time: 0.379555 data: 0.149911 max mem: 3609\n",
            "Epoch: [29/800] Total time: 0:04:47 (0.398391 s / it)\n",
            "Averaged stats: loss: nan (nan) lr: 0.000010 (0.000010) wd: 0.041243 (0.041204)\n",
            "current epoch is 29\n",
            "Training time 2:26:21\n",
            "Epoch: [30/800] [  0/722] eta: 0:12:40 loss: nan (nan) lr: 0.000010 (0.000010) wd: 0.041245 (0.041245) time: 1.053385 data: 0.492258 max mem: 3609\n",
            "Epoch: [30/800] [100/722] eta: 0:04:51 loss: nan (nan) lr: 0.000010 (0.000010) wd: 0.041255 (0.041250) time: 0.452171 data: 0.000144 max mem: 3609\n",
            "Epoch: [30/800] [200/722] eta: 0:04:02 loss: nan (nan) lr: 0.000010 (0.000010) wd: 0.041266 (0.041256) time: 0.461554 data: 0.000151 max mem: 3609\n",
            "Epoch: [30/800] [300/722] eta: 0:03:15 loss: nan (nan) lr: 0.000010 (0.000010) wd: 0.041278 (0.041262) time: 0.459113 data: 0.000145 max mem: 3609\n",
            "Epoch: [30/800] [400/722] eta: 0:02:28 loss: nan (nan) lr: 0.000010 (0.000010) wd: 0.041290 (0.041268) time: 0.458715 data: 0.000160 max mem: 3609\n",
            "Epoch: [30/800] [500/722] eta: 0:01:42 loss: nan (nan) lr: 0.000010 (0.000010) wd: 0.041301 (0.041273) time: 0.454904 data: 0.000143 max mem: 3609\n",
            "Epoch: [30/800] [600/722] eta: 0:00:56 loss: nan (nan) lr: 0.000010 (0.000010) wd: 0.041313 (0.041279) time: 0.455929 data: 0.000134 max mem: 3609\n",
            "Epoch: [30/800] [700/722] eta: 0:00:10 loss: nan (nan) lr: 0.000010 (0.000010) wd: 0.041325 (0.041285) time: 0.456946 data: 0.000155 max mem: 3609\n",
            "Epoch: [30/800] [721/722] eta: 0:00:00 loss: nan (nan) lr: 0.000010 (0.000010) wd: 0.041328 (0.041286) time: 0.437798 data: 0.000143 max mem: 3609\n",
            "Epoch: [30/800] Total time: 0:05:31 (0.459268 s / it)\n",
            "Averaged stats: loss: nan (nan) lr: 0.000010 (0.000010) wd: 0.041328 (0.041286)\n",
            "current epoch is 30\n",
            "Training time 2:31:54\n",
            "Epoch: [31/800] [  0/722] eta: 0:09:16 loss: nan (nan) lr: 0.000010 (0.000010) wd: 0.041329 (0.041329) time: 0.770123 data: 0.530907 max mem: 3609\n",
            "Epoch: [31/800] [100/722] eta: 0:04:12 loss: nan (nan) lr: 0.000010 (0.000010) wd: 0.041340 (0.041335) time: 0.392778 data: 0.152529 max mem: 3609\n",
            "Epoch: [31/800] [200/722] eta: 0:03:30 loss: nan (nan) lr: 0.000010 (0.000010) wd: 0.041351 (0.041341) time: 0.403591 data: 0.163475 max mem: 3609\n",
            "Epoch: [31/800] [300/722] eta: 0:02:49 loss: nan (nan) lr: 0.000010 (0.000010) wd: 0.041363 (0.041347) time: 0.405141 data: 0.168070 max mem: 3609\n",
            "Epoch: [31/800] [400/722] eta: 0:02:09 loss: nan (nan) lr: 0.000010 (0.000010) wd: 0.041375 (0.041353) time: 0.399155 data: 0.157109 max mem: 3609\n",
            "Epoch: [31/800] [500/722] eta: 0:01:28 loss: nan (nan) lr: 0.000010 (0.000010) wd: 0.041388 (0.041359) time: 0.392664 data: 0.151294 max mem: 3609\n",
            "Epoch: [31/800] [600/722] eta: 0:00:48 loss: nan (nan) lr: 0.000010 (0.000010) wd: 0.041400 (0.041365) time: 0.396791 data: 0.154846 max mem: 3609\n",
            "Epoch: [31/800] [700/722] eta: 0:00:08 loss: nan (nan) lr: 0.000010 (0.000010) wd: 0.041412 (0.041371) time: 0.400307 data: 0.159088 max mem: 3609\n",
            "Epoch: [31/800] [721/722] eta: 0:00:00 loss: nan (nan) lr: 0.000010 (0.000010) wd: 0.041414 (0.041372) time: 0.384345 data: 0.151166 max mem: 3609\n",
            "Epoch: [31/800] Total time: 0:04:48 (0.399252 s / it)\n",
            "Averaged stats: loss: nan (nan) lr: 0.000010 (0.000010) wd: 0.041414 (0.041372)\n",
            "current epoch is 31\n",
            "Training time 2:36:43\n",
            "Epoch: [32/800] [  0/722] eta: 0:08:58 loss: nan (nan) lr: 0.000010 (0.000010) wd: 0.041416 (0.041416) time: 0.746462 data: 0.514781 max mem: 3609\n",
            "Epoch: [32/800] [100/722] eta: 0:04:10 loss: nan (nan) lr: 0.000010 (0.000010) wd: 0.041427 (0.041422) time: 0.393167 data: 0.154337 max mem: 3609\n",
            "Epoch: [32/800] [200/722] eta: 0:03:29 loss: nan (nan) lr: 0.000010 (0.000010) wd: 0.041439 (0.041428) time: 0.402976 data: 0.162594 max mem: 3609\n",
            "Epoch: [32/800] [300/722] eta: 0:02:49 loss: nan (nan) lr: 0.000010 (0.000010) wd: 0.041452 (0.041434) time: 0.396233 data: 0.157803 max mem: 3609\n",
            "Epoch: [32/800] [400/722] eta: 0:02:08 loss: nan (nan) lr: 0.000010 (0.000010) wd: 0.041464 (0.041440) time: 0.403200 data: 0.161620 max mem: 3609\n",
            "Epoch: [32/800] [500/722] eta: 0:01:28 loss: nan (nan) lr: 0.000010 (0.000010) wd: 0.041476 (0.041447) time: 0.401313 data: 0.162834 max mem: 3609\n",
            "Epoch: [32/800] [600/722] eta: 0:00:48 loss: nan (nan) lr: 0.000010 (0.000010) wd: 0.041489 (0.041453) time: 0.408621 data: 0.168541 max mem: 3609\n",
            "Epoch: [32/800] [700/722] eta: 0:00:08 loss: nan (nan) lr: 0.000010 (0.000010) wd: 0.041502 (0.041459) time: 0.404465 data: 0.164621 max mem: 3609\n",
            "Epoch: [32/800] [721/722] eta: 0:00:00 loss: nan (nan) lr: 0.000010 (0.000010) wd: 0.041504 (0.041460) time: 0.383977 data: 0.152233 max mem: 3609\n",
            "Epoch: [32/800] Total time: 0:04:48 (0.400178 s / it)\n",
            "Averaged stats: loss: nan (nan) lr: 0.000010 (0.000010) wd: 0.041504 (0.041460)\n",
            "current epoch is 32\n",
            "Training time 2:41:32\n",
            "Epoch: [33/800] [  0/722] eta: 0:08:45 loss: nan (nan) lr: 0.000010 (0.000010) wd: 0.041506 (0.041506) time: 0.728241 data: 0.489061 max mem: 3609\n",
            "Epoch: [33/800] [100/722] eta: 0:04:10 loss: nan (nan) lr: 0.000010 (0.000010) wd: 0.041517 (0.041512) time: 0.388451 data: 0.149039 max mem: 3609\n",
            "Epoch: [33/800] [200/722] eta: 0:03:28 loss: nan (nan) lr: 0.000010 (0.000010) wd: 0.041530 (0.041518) time: 0.399592 data: 0.159909 max mem: 3609\n",
            "Epoch: [33/800] [300/722] eta: 0:02:49 loss: nan (nan) lr: 0.000010 (0.000010) wd: 0.041542 (0.041525) time: 0.400000 data: 0.158726 max mem: 3609\n",
            "Epoch: [33/800] [400/722] eta: 0:02:09 loss: nan (nan) lr: 0.000010 (0.000010) wd: 0.041555 (0.041531) time: 0.403445 data: 0.163190 max mem: 3609\n",
            "Epoch: [33/800] [500/722] eta: 0:01:29 loss: nan (nan) lr: 0.000010 (0.000010) wd: 0.041568 (0.041537) time: 0.405077 data: 0.168320 max mem: 3610\n",
            "Epoch: [33/800] [600/722] eta: 0:00:48 loss: nan (nan) lr: 0.000010 (0.000010) wd: 0.041581 (0.041544) time: 0.395652 data: 0.156799 max mem: 3610\n",
            "Epoch: [33/800] [700/722] eta: 0:00:08 loss: nan (nan) lr: 0.000010 (0.000010) wd: 0.041594 (0.041550) time: 0.401627 data: 0.162469 max mem: 3610\n",
            "Epoch: [33/800] [721/722] eta: 0:00:00 loss: nan (nan) lr: 0.000010 (0.000010) wd: 0.041597 (0.041552) time: 0.386229 data: 0.154809 max mem: 3610\n",
            "Epoch: [33/800] Total time: 0:04:49 (0.400614 s / it)\n",
            "Averaged stats: loss: nan (nan) lr: 0.000010 (0.000010) wd: 0.041597 (0.041552)\n",
            "current epoch is 33\n",
            "Training time 2:46:22\n",
            "Epoch: [34/800] [  0/722] eta: 0:09:04 loss: nan (nan) lr: 0.000010 (0.000010) wd: 0.041598 (0.041598) time: 0.754075 data: 0.513970 max mem: 3610\n",
            "Epoch: [34/800] [100/722] eta: 0:04:11 loss: nan (nan) lr: 0.000010 (0.000010) wd: 0.041610 (0.041605) time: 0.400216 data: 0.160098 max mem: 3610\n",
            "Epoch: [34/800] [200/722] eta: 0:03:30 loss: nan (nan) lr: 0.000010 (0.000010) wd: 0.041623 (0.041611) time: 0.403917 data: 0.163881 max mem: 3610\n",
            "Epoch: [34/800] [300/722] eta: 0:02:50 loss: nan (nan) lr: 0.000010 (0.000010) wd: 0.041636 (0.041618) time: 0.402775 data: 0.164605 max mem: 3610\n",
            "Epoch: [34/800] [400/722] eta: 0:02:09 loss: nan (nan) lr: 0.000010 (0.000010) wd: 0.041649 (0.041624) time: 0.402107 data: 0.162071 max mem: 3610\n",
            "Epoch: [34/800] [500/722] eta: 0:01:29 loss: nan (nan) lr: 0.000010 (0.000010) wd: 0.041662 (0.041631) time: 0.404380 data: 0.165254 max mem: 3610\n",
            "Epoch: [34/800] [600/722] eta: 0:00:49 loss: nan (nan) lr: 0.000010 (0.000010) wd: 0.041676 (0.041637) time: 0.405021 data: 0.163477 max mem: 3610\n",
            "Epoch: [34/800] [700/722] eta: 0:00:08 loss: nan (nan) lr: 0.000010 (0.000010) wd: 0.041689 (0.041644) time: 0.396468 data: 0.157716 max mem: 3610\n",
            "Epoch: [34/800] [721/722] eta: 0:00:00 loss: nan (nan) lr: 0.000010 (0.000010) wd: 0.041692 (0.041645) time: 0.386902 data: 0.153542 max mem: 3610\n",
            "Epoch: [34/800] Total time: 0:04:50 (0.402392 s / it)\n",
            "Averaged stats: loss: nan (nan) lr: 0.000010 (0.000010) wd: 0.041692 (0.041645)\n",
            "current epoch is 34\n",
            "Training time 2:51:13\n",
            "Epoch: [35/800] [  0/722] eta: 0:08:57 loss: nan (nan) lr: 0.000010 (0.000010) wd: 0.041693 (0.041693) time: 0.745130 data: 0.513106 max mem: 3610\n",
            "Epoch: [35/800] [100/722] eta: 0:04:14 loss: nan (nan) lr: 0.000010 (0.000010) wd: 0.041705 (0.041700) time: 0.404938 data: 0.164825 max mem: 3610\n",
            "Epoch: [35/800] [200/722] eta: 0:03:31 loss: nan (nan) lr: 0.000010 (0.000010) wd: 0.041719 (0.041707) time: 0.402091 data: 0.159896 max mem: 3610\n",
            "Epoch: [35/800] [300/722] eta: 0:02:50 loss: nan (nan) lr: 0.000010 (0.000010) wd: 0.041732 (0.041713) time: 0.406114 data: 0.164139 max mem: 3610\n",
            "Epoch: [35/800] [400/722] eta: 0:02:10 loss: nan (nan) lr: 0.000010 (0.000010) wd: 0.041746 (0.041720) time: 0.404461 data: 0.166677 max mem: 3610\n",
            "Epoch: [35/800] [500/722] eta: 0:01:29 loss: nan (nan) lr: 0.000010 (0.000010) wd: 0.041759 (0.041727) time: 0.393319 data: 0.155611 max mem: 3610\n",
            "Epoch: [35/800] [600/722] eta: 0:00:49 loss: nan (nan) lr: 0.000010 (0.000010) wd: 0.041773 (0.041734) time: 0.399304 data: 0.160872 max mem: 3610\n",
            "Epoch: [35/800] [700/722] eta: 0:00:08 loss: nan (nan) lr: 0.000010 (0.000010) wd: 0.041787 (0.041741) time: 0.418138 data: 0.180819 max mem: 3610\n",
            "Epoch: [35/800] [721/722] eta: 0:00:00 loss: nan (nan) lr: 0.000010 (0.000010) wd: 0.041790 (0.041742) time: 0.385963 data: 0.154978 max mem: 3610\n",
            "Epoch: [35/800] Total time: 0:04:50 (0.402162 s / it)\n",
            "Averaged stats: loss: nan (nan) lr: 0.000010 (0.000010) wd: 0.041790 (0.041742)\n",
            "current epoch is 35\n",
            "Training time 2:56:05\n",
            "Epoch: [36/800] [  0/722] eta: 0:09:17 loss: nan (nan) lr: 0.000010 (0.000010) wd: 0.041791 (0.041791) time: 0.772816 data: 0.534694 max mem: 3610\n",
            "Epoch: [36/800] [100/722] eta: 0:04:12 loss: nan (nan) lr: 0.000010 (0.000010) wd: 0.041804 (0.041798) time: 0.397717 data: 0.158026 max mem: 3610\n",
            "Epoch: [36/800] [200/722] eta: 0:03:28 loss: nan (nan) lr: 0.000010 (0.000010) wd: 0.041818 (0.041805) time: 0.395207 data: 0.154978 max mem: 3610\n",
            "Epoch: [36/800] [300/722] eta: 0:02:47 loss: nan (nan) lr: 0.000010 (0.000010) wd: 0.041831 (0.041812) time: 0.391620 data: 0.152706 max mem: 3610\n",
            "Epoch: [36/800] [400/722] eta: 0:02:07 loss: nan (nan) lr: 0.000010 (0.000010) wd: 0.041845 (0.041819) time: 0.396407 data: 0.154893 max mem: 3610\n",
            "Epoch: [36/800] [500/722] eta: 0:01:28 loss: nan (nan) lr: 0.000010 (0.000010) wd: 0.041859 (0.041826) time: 0.394188 data: 0.155862 max mem: 3610\n",
            "Epoch: [36/800] [600/722] eta: 0:00:48 loss: nan (nan) lr: 0.000010 (0.000010) wd: 0.041873 (0.041833) time: 0.399619 data: 0.161553 max mem: 3610\n",
            "Epoch: [36/800] [700/722] eta: 0:00:08 loss: nan (nan) lr: 0.000010 (0.000010) wd: 0.041887 (0.041840) time: 0.394492 data: 0.154558 max mem: 3610\n",
            "Epoch: [36/800] [721/722] eta: 0:00:00 loss: nan (nan) lr: 0.000010 (0.000010) wd: 0.041890 (0.041841) time: 0.379554 data: 0.148964 max mem: 3610\n",
            "Epoch: [36/800] Total time: 0:04:46 (0.396350 s / it)\n",
            "Averaged stats: loss: nan (nan) lr: 0.000010 (0.000010) wd: 0.041890 (0.041841)\n",
            "current epoch is 36\n",
            "Training time 3:00:52\n",
            "Epoch: [37/800] [  0/722] eta: 0:08:52 loss: nan (nan) lr: 0.000010 (0.000010) wd: 0.041892 (0.041892) time: 0.737879 data: 0.494524 max mem: 3610\n",
            "Epoch: [37/800] [100/722] eta: 0:04:09 loss: nan (nan) lr: 0.000010 (0.000010) wd: 0.041905 (0.041899) time: 0.394134 data: 0.152425 max mem: 3610\n",
            "Epoch: [37/800] [200/722] eta: 0:03:28 loss: nan (nan) lr: 0.000010 (0.000010) wd: 0.041919 (0.041906) time: 0.392279 data: 0.150444 max mem: 3610\n",
            "Epoch: [37/800] [300/722] eta: 0:02:48 loss: nan (nan) lr: 0.000010 (0.000010) wd: 0.041933 (0.041913) time: 0.400597 data: 0.158287 max mem: 3610\n",
            "Epoch: [37/800] [400/722] eta: 0:02:08 loss: nan (nan) lr: 0.000010 (0.000010) wd: 0.041948 (0.041920) time: 0.387215 data: 0.144916 max mem: 3610\n",
            "Epoch: [37/800] [500/722] eta: 0:01:28 loss: nan (nan) lr: 0.000010 (0.000010) wd: 0.041962 (0.041928) time: 0.405028 data: 0.166147 max mem: 3610\n",
            "Epoch: [37/800] [600/722] eta: 0:00:48 loss: nan (nan) lr: 0.000010 (0.000010) wd: 0.041976 (0.041935) time: 0.392388 data: 0.154000 max mem: 3610\n",
            "Epoch: [37/800] [700/722] eta: 0:00:08 loss: nan (nan) lr: 0.000010 (0.000010) wd: 0.041991 (0.041942) time: 0.399694 data: 0.157562 max mem: 3610\n",
            "Epoch: [37/800] [721/722] eta: 0:00:00 loss: nan (nan) lr: 0.000010 (0.000010) wd: 0.041994 (0.041943) time: 0.380802 data: 0.149966 max mem: 3610\n",
            "Epoch: [37/800] Total time: 0:04:47 (0.398526 s / it)\n",
            "Averaged stats: loss: nan (nan) lr: 0.000010 (0.000010) wd: 0.041994 (0.041943)\n",
            "current epoch is 37\n",
            "Training time 3:05:40\n",
            "Epoch: [38/800] [  0/722] eta: 0:20:45 loss: nan (nan) lr: 0.000010 (0.000010) wd: 0.041995 (0.041995) time: 1.724833 data: 1.484667 max mem: 3610\n",
            "Epoch: [38/800] [100/722] eta: 0:04:15 loss: nan (nan) lr: 0.000010 (0.000010) wd: 0.042009 (0.042003) time: 0.400401 data: 0.159609 max mem: 3610\n",
            "Epoch: [38/800] [200/722] eta: 0:03:32 loss: nan (nan) lr: 0.000010 (0.000010) wd: 0.042023 (0.042010) time: 0.406280 data: 0.166386 max mem: 3610\n",
            "Epoch: [38/800] [300/722] eta: 0:02:50 loss: nan (nan) lr: 0.000010 (0.000010) wd: 0.042038 (0.042017) time: 0.396912 data: 0.156454 max mem: 3610\n",
            "Epoch: [38/800] [400/722] eta: 0:02:09 loss: nan (nan) lr: 0.000010 (0.000010) wd: 0.042052 (0.042025) time: 0.391382 data: 0.151222 max mem: 3610\n",
            "Epoch: [38/800] [500/722] eta: 0:01:29 loss: nan (nan) lr: 0.000010 (0.000010) wd: 0.042067 (0.042032) time: 0.391786 data: 0.153413 max mem: 3610\n",
            "Epoch: [38/800] [600/722] eta: 0:00:48 loss: nan (nan) lr: 0.000010 (0.000010) wd: 0.042082 (0.042039) time: 0.398767 data: 0.157595 max mem: 3610\n",
            "Epoch: [38/800] [700/722] eta: 0:00:08 loss: nan (nan) lr: 0.000010 (0.000010) wd: 0.042097 (0.042047) time: 0.394180 data: 0.153904 max mem: 3610\n",
            "Epoch: [38/800] [721/722] eta: 0:00:00 loss: nan (nan) lr: 0.000010 (0.000010) wd: 0.042100 (0.042048) time: 0.384116 data: 0.150089 max mem: 3610\n",
            "Epoch: [38/800] Total time: 0:04:49 (0.400478 s / it)\n",
            "Averaged stats: loss: nan (nan) lr: 0.000010 (0.000010) wd: 0.042100 (0.042048)\n",
            "current epoch is 38\n",
            "Training time 3:10:30\n",
            "Epoch: [39/800] [  0/722] eta: 0:08:55 loss: nan (nan) lr: 0.000010 (0.000010) wd: 0.042102 (0.042102) time: 0.741945 data: 0.503437 max mem: 3610\n",
            "Epoch: [39/800] [100/722] eta: 0:04:09 loss: nan (nan) lr: 0.000010 (0.000010) wd: 0.042115 (0.042109) time: 0.393794 data: 0.153711 max mem: 3610\n",
            "Epoch: [39/800] [200/722] eta: 0:03:29 loss: nan (nan) lr: 0.000010 (0.000010) wd: 0.042130 (0.042117) time: 0.400533 data: 0.160721 max mem: 3610\n",
            "Epoch: [39/800] [300/722] eta: 0:02:49 loss: nan (nan) lr: 0.000010 (0.000010) wd: 0.042145 (0.042124) time: 0.396217 data: 0.158449 max mem: 3610\n",
            "Epoch: [39/800] [400/722] eta: 0:02:08 loss: nan (nan) lr: 0.000010 (0.000010) wd: 0.042160 (0.042132) time: 0.395255 data: 0.155525 max mem: 3610\n",
            "Epoch: [39/800] [500/722] eta: 0:01:28 loss: nan (nan) lr: 0.000010 (0.000010) wd: 0.042175 (0.042139) time: 0.405949 data: 0.166054 max mem: 3610\n",
            "Epoch: [39/800] [600/722] eta: 0:00:48 loss: nan (nan) lr: 0.000010 (0.000010) wd: 0.042190 (0.042147) time: 0.394534 data: 0.156568 max mem: 3610\n",
            "Epoch: [39/800] [700/722] eta: 0:00:08 loss: nan (nan) lr: 0.000010 (0.000010) wd: 0.042206 (0.042154) time: 0.405180 data: 0.166937 max mem: 3610\n",
            "Epoch: [39/800] [721/722] eta: 0:00:00 loss: nan (nan) lr: 0.000010 (0.000010) wd: 0.042209 (0.042156) time: 0.373386 data: 0.141828 max mem: 3610\n",
            "Epoch: [39/800] Total time: 0:04:48 (0.399876 s / it)\n",
            "Averaged stats: loss: nan (nan) lr: 0.000010 (0.000010) wd: 0.042209 (0.042156)\n",
            "current epoch is 39\n",
            "Training time 3:15:19\n",
            "Epoch: [40/800] [  0/722] eta: 0:12:54 loss: nan (nan) lr: 0.000010 (0.000010) wd: 0.042211 (0.042211) time: 1.073388 data: 0.510219 max mem: 3610\n",
            "Epoch: [40/800] [100/722] eta: 0:04:50 loss: nan (nan) lr: 0.000010 (0.000010) wd: 0.042224 (0.042218) time: 0.459183 data: 0.000168 max mem: 3610\n",
            "Epoch: [40/800] [200/722] eta: 0:04:00 loss: nan (nan) lr: 0.000010 (0.000010) wd: 0.042240 (0.042226) time: 0.458219 data: 0.000137 max mem: 3610\n",
            "Epoch: [40/800] [300/722] eta: 0:03:13 loss: nan (nan) lr: 0.000010 (0.000010) wd: 0.042255 (0.042234) time: 0.454880 data: 0.000139 max mem: 3610\n",
            "Epoch: [40/800] [400/722] eta: 0:02:27 loss: nan (nan) lr: 0.000010 (0.000010) wd: 0.042271 (0.042241) time: 0.456174 data: 0.000160 max mem: 3610\n",
            "Epoch: [40/800] [500/722] eta: 0:01:41 loss: nan (nan) lr: 0.000010 (0.000010) wd: 0.042286 (0.042249) time: 0.454351 data: 0.000147 max mem: 3610\n",
            "Epoch: [40/800] [600/722] eta: 0:00:56 loss: nan (nan) lr: 0.000010 (0.000010) wd: 0.042302 (0.042257) time: 0.458819 data: 0.000142 max mem: 3610\n",
            "Epoch: [40/800] [700/722] eta: 0:00:10 loss: nan (nan) lr: 0.000010 (0.000010) wd: 0.042317 (0.042264) time: 0.455984 data: 0.000158 max mem: 3610\n",
            "Epoch: [40/800] [721/722] eta: 0:00:00 loss: nan (nan) lr: 0.000010 (0.000010) wd: 0.042321 (0.042266) time: 0.445445 data: 0.000542 max mem: 3610\n",
            "Epoch: [40/800] Total time: 0:05:31 (0.458618 s / it)\n",
            "Averaged stats: loss: nan (nan) lr: 0.000010 (0.000010) wd: 0.042321 (0.042266)\n",
            "current epoch is 40\n",
            "Training time 3:20:52\n",
            "Epoch: [41/800] [  0/722] eta: 0:08:54 loss: nan (nan) lr: 0.000010 (0.000010) wd: 0.042322 (0.042322) time: 0.739958 data: 0.503601 max mem: 3610\n",
            "Epoch: [41/800] [100/722] eta: 0:04:10 loss: nan (nan) lr: 0.000010 (0.000010) wd: 0.042336 (0.042330) time: 0.396666 data: 0.156322 max mem: 3610\n",
            "Epoch: [41/800] [200/722] eta: 0:03:29 loss: nan (nan) lr: 0.000010 (0.000010) wd: 0.042352 (0.042338) time: 0.400804 data: 0.160484 max mem: 3610\n",
            "Epoch: [41/800] [300/722] eta: 0:02:48 loss: nan (nan) lr: 0.000010 (0.000010) wd: 0.042368 (0.042346) time: 0.397409 data: 0.155664 max mem: 3610\n",
            "Epoch: [41/800] [400/722] eta: 0:02:08 loss: nan (nan) lr: 0.000010 (0.000010) wd: 0.042384 (0.042354) time: 0.395193 data: 0.153657 max mem: 3610\n",
            "Epoch: [41/800] [500/722] eta: 0:01:28 loss: nan (nan) lr: 0.000010 (0.000010) wd: 0.042400 (0.042362) time: 0.414756 data: 0.174745 max mem: 3610\n",
            "Epoch: [41/800] [600/722] eta: 0:00:48 loss: nan (nan) lr: 0.000010 (0.000010) wd: 0.042416 (0.042370) time: 0.400783 data: 0.164245 max mem: 3610\n",
            "Epoch: [41/800] [700/722] eta: 0:00:08 loss: nan (nan) lr: 0.000010 (0.000010) wd: 0.042432 (0.042377) time: 0.399883 data: 0.160358 max mem: 3610\n",
            "Epoch: [41/800] [721/722] eta: 0:00:00 loss: nan (nan) lr: 0.000010 (0.000010) wd: 0.042435 (0.042379) time: 0.382036 data: 0.151564 max mem: 3610\n",
            "Epoch: [41/800] Total time: 0:04:47 (0.398524 s / it)\n",
            "Averaged stats: loss: nan (nan) lr: 0.000010 (0.000010) wd: 0.042435 (0.042379)\n",
            "current epoch is 41\n",
            "Training time 3:25:40\n",
            "Epoch: [42/800] [  0/722] eta: 0:08:37 loss: nan (nan) lr: 0.000010 (0.000010) wd: 0.042437 (0.042437) time: 0.716809 data: 0.483971 max mem: 3610\n",
            "Epoch: [42/800] [100/722] eta: 0:04:11 loss: nan (nan) lr: 0.000010 (0.000010) wd: 0.042451 (0.042445) time: 0.403398 data: 0.162787 max mem: 3610\n",
            "Epoch: [42/800] [200/722] eta: 0:03:30 loss: nan (nan) lr: 0.000010 (0.000010) wd: 0.042467 (0.042453) time: 0.401768 data: 0.161665 max mem: 3610\n",
            "Epoch: [42/800] [300/722] eta: 0:02:49 loss: nan (nan) lr: 0.000010 (0.000010) wd: 0.042483 (0.042461) time: 0.402258 data: 0.160751 max mem: 3610\n",
            "Epoch: [42/800] [400/722] eta: 0:02:09 loss: nan (nan) lr: 0.000010 (0.000010) wd: 0.042500 (0.042469) time: 0.394588 data: 0.158494 max mem: 3610\n",
            "Epoch: [42/800] [500/722] eta: 0:01:28 loss: nan (nan) lr: 0.000010 (0.000010) wd: 0.042516 (0.042477) time: 0.401507 data: 0.164764 max mem: 3610\n",
            "Epoch: [42/800] [600/722] eta: 0:00:48 loss: nan (nan) lr: 0.000010 (0.000010) wd: 0.042532 (0.042485) time: 0.405492 data: 0.167209 max mem: 3610\n",
            "Epoch: [42/800] [700/722] eta: 0:00:08 loss: nan (nan) lr: 0.000010 (0.000010) wd: 0.042549 (0.042493) time: 0.399304 data: 0.158391 max mem: 3610\n",
            "Epoch: [42/800] [721/722] eta: 0:00:00 loss: nan (nan) lr: 0.000010 (0.000010) wd: 0.042552 (0.042495) time: 0.391079 data: 0.162178 max mem: 3610\n",
            "Epoch: [42/800] Total time: 0:04:49 (0.400699 s / it)\n",
            "Averaged stats: loss: nan (nan) lr: 0.000010 (0.000010) wd: 0.042552 (0.042495)\n",
            "current epoch is 42\n",
            "Training time 3:30:30\n",
            "Epoch: [43/800] [  0/722] eta: 0:09:21 loss: nan (nan) lr: 0.000010 (0.000010) wd: 0.042554 (0.042554) time: 0.777477 data: 0.519610 max mem: 3610\n",
            "Epoch: [43/800] [100/722] eta: 0:04:08 loss: nan (nan) lr: 0.000010 (0.000010) wd: 0.042569 (0.042562) time: 0.396418 data: 0.155863 max mem: 3610\n",
            "Epoch: [43/800] [200/722] eta: 0:03:26 loss: nan (nan) lr: 0.000010 (0.000010) wd: 0.042585 (0.042570) time: 0.392626 data: 0.153501 max mem: 3610\n",
            "Epoch: [43/800] [300/722] eta: 0:02:46 loss: nan (nan) lr: 0.000010 (0.000010) wd: 0.042602 (0.042578) time: 0.387572 data: 0.147060 max mem: 3610\n",
            "Epoch: [43/800] [400/722] eta: 0:02:07 loss: nan (nan) lr: 0.000010 (0.000010) wd: 0.042618 (0.042587) time: 0.394696 data: 0.155542 max mem: 3610\n",
            "Epoch: [43/800] [500/722] eta: 0:01:27 loss: nan (nan) lr: 0.000010 (0.000010) wd: 0.042635 (0.042595) time: 0.395511 data: 0.155113 max mem: 3610\n",
            "Epoch: [43/800] [600/722] eta: 0:00:48 loss: nan (nan) lr: 0.000010 (0.000010) wd: 0.042652 (0.042603) time: 0.393744 data: 0.152653 max mem: 3610\n",
            "Epoch: [43/800] [700/722] eta: 0:00:08 loss: nan (nan) lr: 0.000010 (0.000010) wd: 0.042668 (0.042612) time: 0.400115 data: 0.158414 max mem: 3610\n",
            "Epoch: [43/800] [721/722] eta: 0:00:00 loss: nan (nan) lr: 0.000010 (0.000010) wd: 0.042672 (0.042613) time: 0.387647 data: 0.154447 max mem: 3610\n",
            "Epoch: [43/800] Total time: 0:04:45 (0.395323 s / it)\n",
            "Averaged stats: loss: nan (nan) lr: 0.000010 (0.000010) wd: 0.042672 (0.042613)\n",
            "current epoch is 43\n",
            "Training time 3:35:16\n",
            "Epoch: [44/800] [  0/722] eta: 0:08:48 loss: nan (nan) lr: 0.000010 (0.000010) wd: 0.042674 (0.042674) time: 0.732367 data: 0.489347 max mem: 3610\n",
            "Epoch: [44/800] [100/722] eta: 0:04:07 loss: nan (nan) lr: 0.000010 (0.000010) wd: 0.042689 (0.042682) time: 0.394844 data: 0.155253 max mem: 3610\n",
            "Epoch: [44/800] [200/722] eta: 0:03:26 loss: nan (nan) lr: 0.000010 (0.000010) wd: 0.042706 (0.042690) time: 0.392491 data: 0.153223 max mem: 3610\n",
            "Epoch: [44/800] [300/722] eta: 0:02:47 loss: nan (nan) lr: 0.000010 (0.000010) wd: 0.042723 (0.042699) time: 0.401303 data: 0.160668 max mem: 3610\n",
            "Epoch: [44/800] [400/722] eta: 0:02:07 loss: nan (nan) lr: 0.000010 (0.000010) wd: 0.042740 (0.042707) time: 0.400934 data: 0.160721 max mem: 3610\n",
            "Epoch: [44/800] [500/722] eta: 0:01:28 loss: nan (nan) lr: 0.000010 (0.000010) wd: 0.042757 (0.042716) time: 0.389649 data: 0.149512 max mem: 3610\n",
            "Epoch: [44/800] [600/722] eta: 0:00:48 loss: nan (nan) lr: 0.000010 (0.000010) wd: 0.042774 (0.042724) time: 0.388615 data: 0.149675 max mem: 3610\n",
            "Epoch: [44/800] [700/722] eta: 0:00:08 loss: nan (nan) lr: 0.000010 (0.000010) wd: 0.042791 (0.042733) time: 0.400172 data: 0.161343 max mem: 3610\n",
            "Epoch: [44/800] [721/722] eta: 0:00:00 loss: nan (nan) lr: 0.000010 (0.000010) wd: 0.042794 (0.042735) time: 0.381287 data: 0.150970 max mem: 3610\n",
            "Epoch: [44/800] Total time: 0:04:45 (0.395996 s / it)\n",
            "Averaged stats: loss: nan (nan) lr: 0.000010 (0.000010) wd: 0.042794 (0.042735)\n",
            "current epoch is 44\n",
            "Training time 3:40:02\n",
            "Epoch: [45/800] [  0/722] eta: 0:08:46 loss: nan (nan) lr: 0.000010 (0.000010) wd: 0.042796 (0.042796) time: 0.729638 data: 0.485154 max mem: 3610\n",
            "Epoch: [45/800] [100/722] eta: 0:04:08 loss: nan (nan) lr: 0.000010 (0.000010) wd: 0.042812 (0.042805) time: 0.391070 data: 0.152469 max mem: 3610\n",
            "Epoch: [45/800] [200/722] eta: 0:03:27 loss: nan (nan) lr: 0.000010 (0.000010) wd: 0.042829 (0.042813) time: 0.397668 data: 0.156555 max mem: 3610\n",
            "Epoch: [45/800] [300/722] eta: 0:02:47 loss: nan (nan) lr: 0.000010 (0.000010) wd: 0.042846 (0.042822) time: 0.392033 data: 0.152127 max mem: 3610\n",
            "Epoch: [45/800] [400/722] eta: 0:02:07 loss: nan (nan) lr: 0.000010 (0.000010) wd: 0.042864 (0.042831) time: 0.401452 data: 0.161905 max mem: 3610\n",
            "Epoch: [45/800] [500/722] eta: 0:01:27 loss: nan (nan) lr: 0.000010 (0.000010) wd: 0.042881 (0.042839) time: 0.404693 data: 0.162758 max mem: 3610\n",
            "Epoch: [45/800] [600/722] eta: 0:00:48 loss: nan (nan) lr: 0.000010 (0.000010) wd: 0.042898 (0.042848) time: 0.395136 data: 0.158188 max mem: 3610\n",
            "Epoch: [45/800] [700/722] eta: 0:00:08 loss: nan (nan) lr: 0.000010 (0.000010) wd: 0.042916 (0.042857) time: 0.396411 data: 0.156892 max mem: 3610\n",
            "Epoch: [45/800] [721/722] eta: 0:00:00 loss: nan (nan) lr: 0.000010 (0.000010) wd: 0.042920 (0.042859) time: 0.373540 data: 0.142562 max mem: 3610\n",
            "Epoch: [45/800] Total time: 0:04:45 (0.395321 s / it)\n",
            "Averaged stats: loss: nan (nan) lr: 0.000010 (0.000010) wd: 0.042920 (0.042859)\n",
            "current epoch is 45\n",
            "Training time 3:44:50\n",
            "Epoch: [46/800] [  0/722] eta: 0:09:11 loss: nan (nan) lr: 0.000010 (0.000010) wd: 0.042922 (0.042922) time: 0.763855 data: 0.509356 max mem: 3610\n",
            "Epoch: [46/800] [100/722] eta: 0:04:10 loss: nan (nan) lr: 0.000010 (0.000010) wd: 0.042937 (0.042930) time: 0.396776 data: 0.157133 max mem: 3610\n",
            "Epoch: [46/800] [200/722] eta: 0:03:28 loss: nan (nan) lr: 0.000010 (0.000010) wd: 0.042955 (0.042939) time: 0.382179 data: 0.143147 max mem: 3610\n",
            "Epoch: [46/800] [300/722] eta: 0:02:47 loss: nan (nan) lr: 0.000010 (0.000010) wd: 0.042973 (0.042948) time: 0.396381 data: 0.155983 max mem: 3610\n",
            "Epoch: [46/800] [400/722] eta: 0:02:07 loss: nan (nan) lr: 0.000010 (0.000010) wd: 0.042990 (0.042957) time: 0.391866 data: 0.152103 max mem: 3610\n",
            "Epoch: [46/800] [500/722] eta: 0:01:28 loss: nan (nan) lr: 0.000010 (0.000010) wd: 0.043008 (0.042966) time: 0.399986 data: 0.161669 max mem: 3610\n",
            "Epoch: [46/800] [600/722] eta: 0:00:48 loss: nan (nan) lr: 0.000010 (0.000010) wd: 0.043026 (0.042975) time: 0.397305 data: 0.156751 max mem: 3610\n",
            "Epoch: [46/800] [700/722] eta: 0:00:08 loss: nan (nan) lr: 0.000010 (0.000010) wd: 0.043044 (0.042983) time: 0.400443 data: 0.160653 max mem: 3610\n",
            "Epoch: [46/800] [721/722] eta: 0:00:00 loss: nan (nan) lr: 0.000010 (0.000010) wd: 0.043048 (0.042985) time: 0.381695 data: 0.149967 max mem: 3610\n",
            "Epoch: [46/800] Total time: 0:04:46 (0.396336 s / it)\n",
            "Averaged stats: loss: nan (nan) lr: 0.000010 (0.000010) wd: 0.043048 (0.042985)\n",
            "current epoch is 46\n",
            "Training time 3:49:37\n",
            "Epoch: [47/800] [  0/722] eta: 0:08:58 loss: nan (nan) lr: 0.000010 (0.000010) wd: 0.043050 (0.043050) time: 0.745282 data: 0.495533 max mem: 3610\n",
            "Epoch: [47/800] [100/722] eta: 0:04:11 loss: nan (nan) lr: 0.000010 (0.000010) wd: 0.043066 (0.043059) time: 0.398197 data: 0.157591 max mem: 3610\n",
            "Epoch: [47/800] [200/722] eta: 0:03:29 loss: nan (nan) lr: 0.000010 (0.000010) wd: 0.043084 (0.043068) time: 0.398907 data: 0.159341 max mem: 3610\n",
            "Epoch: [47/800] [300/722] eta: 0:02:48 loss: nan (nan) lr: 0.000010 (0.000010) wd: 0.043102 (0.043077) time: 0.399309 data: 0.159074 max mem: 3610\n",
            "Epoch: [47/800] [400/722] eta: 0:02:08 loss: nan (nan) lr: 0.000010 (0.000010) wd: 0.043120 (0.043086) time: 0.398716 data: 0.161028 max mem: 3610\n",
            "Epoch: [47/800] [500/722] eta: 0:01:28 loss: nan (nan) lr: 0.000010 (0.000010) wd: 0.043138 (0.043095) time: 0.395911 data: 0.156968 max mem: 3610\n",
            "Epoch: [47/800] [600/722] eta: 0:00:48 loss: nan (nan) lr: 0.000010 (0.000010) wd: 0.043156 (0.043104) time: 0.401408 data: 0.160105 max mem: 3610\n",
            "Epoch: [47/800] [700/722] eta: 0:00:08 loss: nan (nan) lr: 0.000010 (0.000010) wd: 0.043175 (0.043113) time: 0.398232 data: 0.158139 max mem: 3610\n",
            "Epoch: [47/800] [721/722] eta: 0:00:00 loss: nan (nan) lr: 0.000010 (0.000010) wd: 0.043178 (0.043115) time: 0.380363 data: 0.147390 max mem: 3610\n",
            "Epoch: [47/800] Total time: 0:04:47 (0.398725 s / it)\n",
            "Averaged stats: loss: nan (nan) lr: 0.000010 (0.000010) wd: 0.043178 (0.043115)\n",
            "current epoch is 47\n",
            "Training time 3:54:26\n",
            "Epoch: [48/800] [  0/722] eta: 0:08:26 loss: nan (nan) lr: 0.000010 (0.000010) wd: 0.043180 (0.043180) time: 0.701635 data: 0.464180 max mem: 3610\n",
            "Epoch: [48/800] [100/722] eta: 0:04:09 loss: nan (nan) lr: 0.000010 (0.000010) wd: 0.043197 (0.043190) time: 0.402674 data: 0.161152 max mem: 3610\n",
            "Epoch: [48/800] [200/722] eta: 0:03:29 loss: nan (nan) lr: 0.000010 (0.000010) wd: 0.043215 (0.043199) time: 0.395475 data: 0.156818 max mem: 3610\n",
            "Epoch: [48/800] [300/722] eta: 0:02:49 loss: nan (nan) lr: 0.000010 (0.000010) wd: 0.043234 (0.043208) time: 0.403794 data: 0.166726 max mem: 3610\n",
            "Epoch: [48/800] [400/722] eta: 0:02:08 loss: nan (nan) lr: 0.000010 (0.000010) wd: 0.043252 (0.043217) time: 0.397505 data: 0.160519 max mem: 3610\n",
            "Epoch: [48/800] [500/722] eta: 0:01:28 loss: nan (nan) lr: 0.000010 (0.000010) wd: 0.043271 (0.043226) time: 0.398753 data: 0.156574 max mem: 3610\n",
            "Epoch: [48/800] [600/722] eta: 0:00:48 loss: nan (nan) lr: 0.000010 (0.000010) wd: 0.043289 (0.043236) time: 0.402952 data: 0.165348 max mem: 3610\n",
            "Epoch: [48/800] [700/722] eta: 0:00:08 loss: nan (nan) lr: 0.000010 (0.000010) wd: 0.043308 (0.043245) time: 0.405450 data: 0.168891 max mem: 3610\n",
            "Epoch: [48/800] [721/722] eta: 0:00:00 loss: nan (nan) lr: 0.000010 (0.000010) wd: 0.043312 (0.043247) time: 0.386449 data: 0.156945 max mem: 3610\n",
            "Epoch: [48/800] Total time: 0:04:48 (0.399726 s / it)\n",
            "Averaged stats: loss: nan (nan) lr: 0.000010 (0.000010) wd: 0.043312 (0.043247)\n",
            "current epoch is 48\n",
            "Training time 3:59:15\n",
            "Epoch: [49/800] [  0/722] eta: 0:09:04 loss: nan (nan) lr: 0.000010 (0.000010) wd: 0.043314 (0.043314) time: 0.753628 data: 0.511586 max mem: 3610\n",
            "Epoch: [49/800] [100/722] eta: 0:04:11 loss: nan (nan) lr: 0.000010 (0.000010) wd: 0.043331 (0.043323) time: 0.405094 data: 0.166445 max mem: 3610\n",
            "Epoch: [49/800] [200/722] eta: 0:03:30 loss: nan (nan) lr: 0.000010 (0.000010) wd: 0.043349 (0.043333) time: 0.401955 data: 0.162574 max mem: 3610\n",
            "Epoch: [49/800] [300/722] eta: 0:02:49 loss: nan (nan) lr: 0.000010 (0.000010) wd: 0.043368 (0.043342) time: 0.395037 data: 0.156621 max mem: 3610\n",
            "Epoch: [49/800] [400/722] eta: 0:02:09 loss: nan (nan) lr: 0.000010 (0.000010) wd: 0.043387 (0.043351) time: 0.413531 data: 0.174499 max mem: 3610\n",
            "Epoch: [49/800] [500/722] eta: 0:01:29 loss: nan (nan) lr: 0.000010 (0.000010) wd: 0.043406 (0.043361) time: 0.415796 data: 0.173528 max mem: 3610\n",
            "Epoch: [49/800] [600/722] eta: 0:00:49 loss: nan (nan) lr: 0.000010 (0.000010) wd: 0.043425 (0.043370) time: 0.394147 data: 0.155316 max mem: 3610\n",
            "Epoch: [49/800] [700/722] eta: 0:00:08 loss: nan (nan) lr: 0.000010 (0.000010) wd: 0.043444 (0.043380) time: 0.400956 data: 0.164103 max mem: 3610\n",
            "Epoch: [49/800] [721/722] eta: 0:00:00 loss: nan (nan) lr: 0.000010 (0.000010) wd: 0.043448 (0.043382) time: 0.382267 data: 0.151183 max mem: 3610\n",
            "Epoch: [49/800] Total time: 0:04:50 (0.401994 s / it)\n",
            "Averaged stats: loss: nan (nan) lr: 0.000010 (0.000010) wd: 0.043448 (0.043382)\n",
            "current epoch is 49\n",
            "Training time 4:04:06\n",
            "Epoch: [50/800] [  0/722] eta: 0:13:08 loss: nan (nan) lr: 0.000010 (0.000010) wd: 0.043450 (0.043450) time: 1.091414 data: 0.506965 max mem: 3610\n",
            "Epoch: [50/800] [100/722] eta: 0:04:49 loss: nan (nan) lr: 0.000010 (0.000010) wd: 0.043467 (0.043460) time: 0.459993 data: 0.000482 max mem: 3610\n",
            "Epoch: [50/800] [200/722] eta: 0:04:00 loss: nan (nan) lr: 0.000010 (0.000010) wd: 0.043486 (0.043469) time: 0.458114 data: 0.000149 max mem: 3610\n",
            "Epoch: [50/800] [300/722] eta: 0:03:14 loss: nan (nan) lr: 0.000010 (0.000010) wd: 0.043506 (0.043479) time: 0.455030 data: 0.000480 max mem: 3610\n",
            "Epoch: [50/800] [400/722] eta: 0:02:28 loss: nan (nan) lr: 0.000010 (0.000010) wd: 0.043525 (0.043488) time: 0.459156 data: 0.000165 max mem: 3610\n",
            "Epoch: [50/800] [500/722] eta: 0:01:42 loss: nan (nan) lr: 0.000010 (0.000010) wd: 0.043544 (0.043498) time: 0.461636 data: 0.000158 max mem: 3610\n",
            "Epoch: [50/800] [600/722] eta: 0:00:56 loss: nan (nan) lr: 0.000010 (0.000010) wd: 0.043563 (0.043508) time: 0.456986 data: 0.000152 max mem: 3610\n",
            "Epoch: [50/800] [700/722] eta: 0:00:10 loss: nan (nan) lr: 0.000010 (0.000010) wd: 0.043583 (0.043517) time: 0.458118 data: 0.000161 max mem: 3610\n",
            "Epoch: [50/800] [721/722] eta: 0:00:00 loss: nan (nan) lr: 0.000010 (0.000010) wd: 0.043587 (0.043519) time: 0.445684 data: 0.000147 max mem: 3610\n",
            "Epoch: [50/800] Total time: 0:05:31 (0.459200 s / it)\n",
            "Averaged stats: loss: nan (nan) lr: 0.000010 (0.000010) wd: 0.043587 (0.043519)\n",
            "current epoch is 50\n",
            "Training time 4:09:39\n",
            "Epoch: [51/800] [  0/722] eta: 0:09:01 loss: nan (nan) lr: 0.000010 (0.000010) wd: 0.043589 (0.043589) time: 0.749927 data: 0.504400 max mem: 3610\n",
            "Epoch: [51/800] [100/722] eta: 0:04:19 loss: nan (nan) lr: 0.000010 (0.000010) wd: 0.043606 (0.043599) time: 0.425056 data: 0.181814 max mem: 3610\n",
            "Epoch: [51/800] [200/722] eta: 0:03:34 loss: nan (nan) lr: 0.000010 (0.000010) wd: 0.043626 (0.043608) time: 0.396172 data: 0.158837 max mem: 3610\n",
            "Epoch: [51/800] [300/722] eta: 0:02:51 loss: nan (nan) lr: 0.000010 (0.000010) wd: 0.043646 (0.043618) time: 0.402990 data: 0.161214 max mem: 3610\n",
            "Epoch: [51/800] [400/722] eta: 0:02:10 loss: nan (nan) lr: 0.000010 (0.000010) wd: 0.043665 (0.043628) time: 0.403200 data: 0.165080 max mem: 3610\n",
            "Epoch: [51/800] [500/722] eta: 0:01:29 loss: nan (nan) lr: 0.000010 (0.000010) wd: 0.043685 (0.043638) time: 0.395244 data: 0.157064 max mem: 3610\n",
            "Epoch: [51/800] [600/722] eta: 0:00:49 loss: nan (nan) lr: 0.000010 (0.000010) wd: 0.043704 (0.043648) time: 0.397209 data: 0.158251 max mem: 3610\n",
            "Epoch: [51/800] [700/722] eta: 0:00:08 loss: nan (nan) lr: 0.000010 (0.000010) wd: 0.043724 (0.043657) time: 0.398873 data: 0.158095 max mem: 3610\n",
            "Epoch: [51/800] [721/722] eta: 0:00:00 loss: nan (nan) lr: 0.000010 (0.000010) wd: 0.043728 (0.043659) time: 0.378943 data: 0.151017 max mem: 3610\n",
            "Epoch: [51/800] Total time: 0:04:48 (0.400163 s / it)\n",
            "Averaged stats: loss: nan (nan) lr: 0.000010 (0.000010) wd: 0.043728 (0.043659)\n",
            "current epoch is 51\n",
            "Training time 4:14:28\n",
            "Epoch: [52/800] [  0/722] eta: 0:09:03 loss: nan (nan) lr: 0.000010 (0.000010) wd: 0.043731 (0.043731) time: 0.752111 data: 0.507584 max mem: 3610\n",
            "Epoch: [52/800] [100/722] eta: 0:04:11 loss: nan (nan) lr: 0.000010 (0.000010) wd: 0.043748 (0.043741) time: 0.395164 data: 0.155893 max mem: 3610\n",
            "Epoch: [52/800] [200/722] eta: 0:03:31 loss: nan (nan) lr: 0.000010 (0.000010) wd: 0.043768 (0.043750) time: 0.404376 data: 0.166176 max mem: 3610\n",
            "Epoch: [52/800] [300/722] eta: 0:02:50 loss: nan (nan) lr: 0.000010 (0.000010) wd: 0.043788 (0.043760) time: 0.406436 data: 0.167125 max mem: 3610\n",
            "Epoch: [52/800] [400/722] eta: 0:02:09 loss: nan (nan) lr: 0.000010 (0.000010) wd: 0.043808 (0.043770) time: 0.390149 data: 0.151375 max mem: 3610\n",
            "Epoch: [52/800] [500/722] eta: 0:01:29 loss: nan (nan) lr: 0.000010 (0.000010) wd: 0.043828 (0.043780) time: 0.409766 data: 0.169436 max mem: 3610\n",
            "Epoch: [52/800] [600/722] eta: 0:00:49 loss: nan (nan) lr: 0.000010 (0.000010) wd: 0.043848 (0.043790) time: 0.399193 data: 0.159735 max mem: 3610\n",
            "Epoch: [52/800] [700/722] eta: 0:00:08 loss: nan (nan) lr: 0.000010 (0.000010) wd: 0.043868 (0.043800) time: 0.405736 data: 0.162679 max mem: 3610\n",
            "Epoch: [52/800] [721/722] eta: 0:00:00 loss: nan (nan) lr: 0.000010 (0.000010) wd: 0.043873 (0.043802) time: 0.391037 data: 0.158345 max mem: 3610\n",
            "Epoch: [52/800] Total time: 0:04:49 (0.401240 s / it)\n",
            "Averaged stats: loss: nan (nan) lr: 0.000010 (0.000010) wd: 0.043873 (0.043802)\n",
            "current epoch is 52\n",
            "Training time 4:19:19\n",
            "Epoch: [53/800] [  0/722] eta: 0:09:12 loss: nan (nan) lr: 0.000010 (0.000010) wd: 0.043875 (0.043875) time: 0.765838 data: 0.524708 max mem: 3610\n",
            "Epoch: [53/800] [100/722] eta: 0:04:11 loss: nan (nan) lr: 0.000010 (0.000010) wd: 0.043893 (0.043885) time: 0.407044 data: 0.167317 max mem: 3610\n",
            "Epoch: [53/800] [200/722] eta: 0:03:29 loss: nan (nan) lr: 0.000010 (0.000010) wd: 0.043913 (0.043895) time: 0.403882 data: 0.163509 max mem: 3610\n",
            "Epoch: [53/800] [300/722] eta: 0:02:49 loss: nan (nan) lr: 0.000010 (0.000010) wd: 0.043934 (0.043905) time: 0.392817 data: 0.152525 max mem: 3610\n",
            "Epoch: [53/800] [400/722] eta: 0:02:09 loss: nan (nan) lr: 0.000010 (0.000010) wd: 0.043954 (0.043915) time: 0.402597 data: 0.160319 max mem: 3610\n",
            "Epoch: [53/800] [500/722] eta: 0:01:29 loss: nan (nan) lr: 0.000010 (0.000010) wd: 0.043974 (0.043926) time: 0.398168 data: 0.159790 max mem: 3610\n",
            "Epoch: [53/800] [600/722] eta: 0:00:48 loss: nan (nan) lr: 0.000010 (0.000010) wd: 0.043995 (0.043936) time: 0.398765 data: 0.161590 max mem: 3610\n",
            "Epoch: [53/800] [700/722] eta: 0:00:08 loss: nan (nan) lr: 0.000010 (0.000010) wd: 0.044015 (0.043946) time: 0.393640 data: 0.154775 max mem: 3610\n",
            "Epoch: [53/800] [721/722] eta: 0:00:00 loss: nan (nan) lr: 0.000010 (0.000010) wd: 0.044020 (0.043948) time: 0.379342 data: 0.148121 max mem: 3610\n",
            "Epoch: [53/800] Total time: 0:04:48 (0.400196 s / it)\n",
            "Averaged stats: loss: nan (nan) lr: 0.000010 (0.000010) wd: 0.044020 (0.043948)\n",
            "current epoch is 53\n",
            "Training time 4:24:08\n",
            "Epoch: [54/800] [  0/722] eta: 0:09:06 loss: nan (nan) lr: 0.000010 (0.000010) wd: 0.044022 (0.044022) time: 0.757428 data: 0.508764 max mem: 3610\n",
            "Epoch: [54/800] [100/722] eta: 0:04:12 loss: nan (nan) lr: 0.000010 (0.000010) wd: 0.044041 (0.044032) time: 0.408983 data: 0.169484 max mem: 3610\n",
            "Epoch: [54/800] [200/722] eta: 0:03:30 loss: nan (nan) lr: 0.000010 (0.000010) wd: 0.044061 (0.044043) time: 0.399388 data: 0.159767 max mem: 3610\n",
            "Epoch: [54/800] [300/722] eta: 0:02:49 loss: nan (nan) lr: 0.000010 (0.000010) wd: 0.044082 (0.044053) time: 0.405396 data: 0.163740 max mem: 3610\n",
            "Epoch: [54/800] [400/722] eta: 0:02:09 loss: nan (nan) lr: 0.000010 (0.000010) wd: 0.044103 (0.044063) time: 0.404254 data: 0.160832 max mem: 3610\n",
            "Epoch: [54/800] [500/722] eta: 0:01:29 loss: nan (nan) lr: 0.000010 (0.000010) wd: 0.044123 (0.044074) time: 0.414797 data: 0.173702 max mem: 3610\n",
            "Epoch: [54/800] [600/722] eta: 0:00:49 loss: nan (nan) lr: 0.000010 (0.000010) wd: 0.044144 (0.044084) time: 0.396230 data: 0.156872 max mem: 3610\n",
            "Epoch: [54/800] [700/722] eta: 0:00:08 loss: nan (nan) lr: 0.000010 (0.000010) wd: 0.044165 (0.044094) time: 0.403214 data: 0.162425 max mem: 3610\n",
            "Epoch: [54/800] [721/722] eta: 0:00:00 loss: nan (nan) lr: 0.000010 (0.000010) wd: 0.044169 (0.044097) time: 0.390210 data: 0.159386 max mem: 3610\n",
            "Epoch: [54/800] Total time: 0:04:51 (0.403463 s / it)\n",
            "Averaged stats: loss: nan (nan) lr: 0.000010 (0.000010) wd: 0.044169 (0.044097)\n",
            "current epoch is 54\n",
            "Training time 4:29:00\n",
            "Epoch: [55/800] [  0/722] eta: 0:08:55 loss: nan (nan) lr: 0.000010 (0.000010) wd: 0.044172 (0.044172) time: 0.741436 data: 0.499510 max mem: 3610\n",
            "Epoch: [55/800] [100/722] eta: 0:04:09 loss: nan (nan) lr: 0.000010 (0.000010) wd: 0.044191 (0.044182) time: 0.396740 data: 0.156512 max mem: 3610\n",
            "Epoch: [55/800] [200/722] eta: 0:03:30 loss: nan (nan) lr: 0.000010 (0.000010) wd: 0.044212 (0.044193) time: 0.406886 data: 0.164831 max mem: 3610\n",
            "Epoch: [55/800] [300/722] eta: 0:02:49 loss: nan (nan) lr: 0.000010 (0.000010) wd: 0.044233 (0.044203) time: 0.404362 data: 0.161293 max mem: 3610\n",
            "Epoch: [55/800] [400/722] eta: 0:02:09 loss: nan (nan) lr: 0.000010 (0.000010) wd: 0.044254 (0.044214) time: 0.399989 data: 0.162051 max mem: 3610\n",
            "Epoch: [55/800] [500/722] eta: 0:01:29 loss: nan (nan) lr: 0.000010 (0.000010) wd: 0.044275 (0.044224) time: 0.394884 data: 0.156887 max mem: 3610\n",
            "Epoch: [55/800] [600/722] eta: 0:00:48 loss: nan (nan) lr: 0.000010 (0.000010) wd: 0.044296 (0.044235) time: 0.398861 data: 0.160098 max mem: 3610\n",
            "Epoch: [55/800] [700/722] eta: 0:00:08 loss: nan (nan) lr: 0.000010 (0.000010) wd: 0.044317 (0.044245) time: 0.397131 data: 0.158102 max mem: 3610\n",
            "Epoch: [55/800] [721/722] eta: 0:00:00 loss: nan (nan) lr: 0.000010 (0.000010) wd: 0.044322 (0.044248) time: 0.380126 data: 0.146787 max mem: 3610\n",
            "Epoch: [55/800] Total time: 0:04:49 (0.400848 s / it)\n",
            "Averaged stats: loss: nan (nan) lr: 0.000010 (0.000010) wd: 0.044322 (0.044248)\n",
            "current epoch is 55\n",
            "Training time 4:33:51\n",
            "Epoch: [56/800] [  0/722] eta: 0:08:56 loss: nan (nan) lr: 0.000010 (0.000010) wd: 0.044324 (0.044324) time: 0.742630 data: 0.502726 max mem: 3610\n",
            "Epoch: [56/800] [100/722] eta: 0:04:10 loss: nan (nan) lr: 0.000010 (0.000010) wd: 0.044343 (0.044335) time: 0.399711 data: 0.160368 max mem: 3610\n",
            "Epoch: [56/800] [200/722] eta: 0:03:28 loss: nan (nan) lr: 0.000010 (0.000010) wd: 0.044365 (0.044346) time: 0.388632 data: 0.151549 max mem: 3610\n",
            "Epoch: [56/800] [300/722] eta: 0:02:48 loss: nan (nan) lr: 0.000010 (0.000010) wd: 0.044386 (0.044356) time: 0.402996 data: 0.165358 max mem: 3610\n",
            "Epoch: [56/800] [400/722] eta: 0:02:08 loss: nan (nan) lr: 0.000010 (0.000010) wd: 0.044408 (0.044367) time: 0.394516 data: 0.157825 max mem: 3610\n",
            "Epoch: [56/800] [500/722] eta: 0:01:28 loss: nan (nan) lr: 0.000010 (0.000010) wd: 0.044429 (0.044378) time: 0.392331 data: 0.153177 max mem: 3610\n",
            "Epoch: [56/800] [600/722] eta: 0:00:48 loss: nan (nan) lr: 0.000010 (0.000010) wd: 0.044451 (0.044388) time: 0.393676 data: 0.152542 max mem: 3610\n",
            "Epoch: [56/800] [700/722] eta: 0:00:08 loss: nan (nan) lr: 0.000010 (0.000010) wd: 0.044472 (0.044399) time: 0.396691 data: 0.159374 max mem: 3610\n",
            "Epoch: [56/800] [721/722] eta: 0:00:00 loss: nan (nan) lr: 0.000010 (0.000010) wd: 0.044477 (0.044401) time: 0.385071 data: 0.151745 max mem: 3610\n",
            "Epoch: [56/800] Total time: 0:04:47 (0.397633 s / it)\n",
            "Averaged stats: loss: nan (nan) lr: 0.000010 (0.000010) wd: 0.044477 (0.044401)\n",
            "current epoch is 56\n",
            "Training time 4:38:39\n",
            "Epoch: [57/800] [  0/722] eta: 0:09:15 loss: nan (nan) lr: 0.000010 (0.000010) wd: 0.044479 (0.044479) time: 0.769222 data: 0.519216 max mem: 3610\n",
            "Epoch: [57/800] [100/722] eta: 0:04:11 loss: nan (nan) lr: 0.000010 (0.000010) wd: 0.044499 (0.044490) time: 0.393950 data: 0.151853 max mem: 3610\n",
            "Epoch: [57/800] [200/722] eta: 0:03:29 loss: nan (nan) lr: 0.000010 (0.000010) wd: 0.044521 (0.044501) time: 0.403796 data: 0.160118 max mem: 3610\n",
            "Epoch: [57/800] [300/722] eta: 0:02:48 loss: nan (nan) lr: 0.000010 (0.000010) wd: 0.044542 (0.044512) time: 0.398890 data: 0.160454 max mem: 3610\n",
            "Epoch: [57/800] [400/722] eta: 0:02:08 loss: nan (nan) lr: 0.000010 (0.000010) wd: 0.044564 (0.044523) time: 0.402026 data: 0.163158 max mem: 3610\n",
            "Epoch: [57/800] [500/722] eta: 0:01:29 loss: nan (nan) lr: 0.000010 (0.000010) wd: 0.044586 (0.044534) time: 0.399481 data: 0.159132 max mem: 3610\n",
            "Epoch: [57/800] [600/722] eta: 0:00:48 loss: nan (nan) lr: 0.000010 (0.000010) wd: 0.044608 (0.044545) time: 0.400674 data: 0.162556 max mem: 3610\n",
            "Epoch: [57/800] [700/722] eta: 0:00:08 loss: nan (nan) lr: 0.000010 (0.000010) wd: 0.044630 (0.044556) time: 0.393639 data: 0.155929 max mem: 3610\n",
            "Epoch: [57/800] [721/722] eta: 0:00:00 loss: nan (nan) lr: 0.000010 (0.000010) wd: 0.044635 (0.044558) time: 0.383004 data: 0.153491 max mem: 3610\n",
            "Epoch: [57/800] Total time: 0:04:49 (0.400658 s / it)\n",
            "Averaged stats: loss: nan (nan) lr: 0.000010 (0.000010) wd: 0.044635 (0.044558)\n",
            "current epoch is 57\n",
            "Training time 4:43:29\n",
            "Epoch: [58/800] [  0/722] eta: 0:08:55 loss: nan (nan) lr: 0.000010 (0.000010) wd: 0.044637 (0.044637) time: 0.742343 data: 0.512017 max mem: 3610\n",
            "Epoch: [58/800] [100/722] eta: 0:04:12 loss: nan (nan) lr: 0.000010 (0.000010) wd: 0.044657 (0.044648) time: 0.403371 data: 0.163886 max mem: 3610\n",
            "Epoch: [58/800] [200/722] eta: 0:03:30 loss: nan (nan) lr: 0.000010 (0.000010) wd: 0.044679 (0.044659) time: 0.395841 data: 0.153486 max mem: 3610\n",
            "Epoch: [58/800] [300/722] eta: 0:02:49 loss: nan (nan) lr: 0.000010 (0.000010) wd: 0.044701 (0.044670) time: 0.401181 data: 0.162441 max mem: 3610\n",
            "Epoch: [58/800] [400/722] eta: 0:02:09 loss: nan (nan) lr: 0.000010 (0.000010) wd: 0.044724 (0.044681) time: 0.399642 data: 0.159033 max mem: 3610\n",
            "Epoch: [58/800] [500/722] eta: 0:01:29 loss: nan (nan) lr: 0.000010 (0.000010) wd: 0.044746 (0.044693) time: 0.401915 data: 0.162174 max mem: 3610\n",
            "Epoch: [58/800] [600/722] eta: 0:00:49 loss: nan (nan) lr: 0.000010 (0.000010) wd: 0.044768 (0.044704) time: 0.402491 data: 0.163244 max mem: 3610\n",
            "Epoch: [58/800] [700/722] eta: 0:00:08 loss: nan (nan) lr: 0.000010 (0.000010) wd: 0.044791 (0.044715) time: 0.394477 data: 0.155895 max mem: 3610\n",
            "Epoch: [58/800] [721/722] eta: 0:00:00 loss: nan (nan) lr: 0.000010 (0.000010) wd: 0.044795 (0.044717) time: 0.387648 data: 0.156871 max mem: 3610\n",
            "Epoch: [58/800] Total time: 0:04:50 (0.401726 s / it)\n",
            "Averaged stats: loss: nan (nan) lr: 0.000010 (0.000010) wd: 0.044795 (0.044717)\n",
            "current epoch is 58\n",
            "Training time 4:48:20\n",
            "Epoch: [59/800] [  0/722] eta: 0:09:20 loss: nan (nan) lr: 0.000010 (0.000010) wd: 0.044798 (0.044798) time: 0.775713 data: 0.520578 max mem: 3610\n",
            "Epoch: [59/800] [100/722] eta: 0:04:12 loss: nan (nan) lr: 0.000010 (0.000010) wd: 0.044818 (0.044809) time: 0.401821 data: 0.162881 max mem: 3610\n",
            "Epoch: [59/800] [200/722] eta: 0:03:29 loss: nan (nan) lr: 0.000010 (0.000010) wd: 0.044841 (0.044820) time: 0.408997 data: 0.169196 max mem: 3610\n",
            "Epoch: [59/800] [300/722] eta: 0:02:49 loss: nan (nan) lr: 0.000010 (0.000010) wd: 0.044863 (0.044832) time: 0.399313 data: 0.158203 max mem: 3610\n",
            "Epoch: [59/800] [400/722] eta: 0:02:08 loss: nan (nan) lr: 0.000010 (0.000010) wd: 0.044886 (0.044843) time: 0.398182 data: 0.157563 max mem: 3610\n",
            "Epoch: [59/800] [500/722] eta: 0:01:29 loss: nan (nan) lr: 0.000010 (0.000010) wd: 0.044908 (0.044854) time: 0.413747 data: 0.171404 max mem: 3610\n",
            "Epoch: [59/800] [600/722] eta: 0:00:48 loss: nan (nan) lr: 0.000010 (0.000010) wd: 0.044931 (0.044865) time: 0.394311 data: 0.154257 max mem: 3610\n",
            "Epoch: [59/800] [700/722] eta: 0:00:08 loss: nan (nan) lr: 0.000010 (0.000010) wd: 0.044954 (0.044877) time: 0.410168 data: 0.171704 max mem: 3610\n",
            "Epoch: [59/800] [721/722] eta: 0:00:00 loss: nan (nan) lr: 0.000010 (0.000010) wd: 0.044959 (0.044879) time: 0.381910 data: 0.151488 max mem: 3610\n",
            "Epoch: [59/800] Total time: 0:04:49 (0.400586 s / it)\n",
            "Averaged stats: loss: nan (nan) lr: 0.000010 (0.000010) wd: 0.044959 (0.044879)\n",
            "current epoch is 59\n",
            "Training time 4:53:10\n",
            "Epoch: [60/800] [  0/722] eta: 0:13:27 loss: nan (nan) lr: 0.000010 (0.000010) wd: 0.044961 (0.044961) time: 1.117744 data: 0.527925 max mem: 3610\n",
            "Epoch: [60/800] [100/722] eta: 0:04:49 loss: nan (nan) lr: 0.000010 (0.000010) wd: 0.044982 (0.044972) time: 0.456219 data: 0.000169 max mem: 3610\n",
            "Epoch: [60/800] [200/722] eta: 0:04:00 loss: nan (nan) lr: 0.000010 (0.000010) wd: 0.045004 (0.044984) time: 0.456755 data: 0.000140 max mem: 3610\n",
            "Epoch: [60/800] [300/722] eta: 0:03:14 loss: nan (nan) lr: 0.000010 (0.000010) wd: 0.045027 (0.044995) time: 0.454604 data: 0.000159 max mem: 3610\n",
            "Epoch: [60/800] [400/722] eta: 0:02:28 loss: nan (nan) lr: 0.000010 (0.000010) wd: 0.045050 (0.045007) time: 0.456471 data: 0.000149 max mem: 3610\n",
            "Epoch: [60/800] [500/722] eta: 0:01:42 loss: nan (nan) lr: 0.000010 (0.000010) wd: 0.045073 (0.045018) time: 0.462094 data: 0.000150 max mem: 3610\n",
            "Epoch: [60/800] [600/722] eta: 0:00:56 loss: nan (nan) lr: 0.000010 (0.000010) wd: 0.045096 (0.045030) time: 0.456922 data: 0.000141 max mem: 3610\n",
            "Epoch: [60/800] [700/722] eta: 0:00:10 loss: nan (nan) lr: 0.000010 (0.000010) wd: 0.045120 (0.045041) time: 0.457118 data: 0.000177 max mem: 3610\n",
            "Epoch: [60/800] [721/722] eta: 0:00:00 loss: nan (nan) lr: 0.000010 (0.000010) wd: 0.045124 (0.045044) time: 0.439763 data: 0.000168 max mem: 3610\n",
            "Epoch: [60/800] Total time: 0:05:31 (0.458737 s / it)\n",
            "Averaged stats: loss: nan (nan) lr: 0.000010 (0.000010) wd: 0.045124 (0.045044)\n",
            "current epoch is 60\n",
            "Training time 4:58:42\n",
            "Epoch: [61/800] [  0/722] eta: 0:09:10 loss: nan (nan) lr: 0.000010 (0.000010) wd: 0.045127 (0.045127) time: 0.762154 data: 0.520144 max mem: 3610\n",
            "Epoch: [61/800] [100/722] eta: 0:04:11 loss: nan (nan) lr: 0.000010 (0.000010) wd: 0.045148 (0.045139) time: 0.397675 data: 0.158425 max mem: 3610\n",
            "Epoch: [61/800] [200/722] eta: 0:03:27 loss: nan (nan) lr: 0.000010 (0.000010) wd: 0.045171 (0.045150) time: 0.396029 data: 0.157225 max mem: 3610\n",
            "Epoch: [61/800] [300/722] eta: 0:02:47 loss: nan (nan) lr: 0.000010 (0.000010) wd: 0.045194 (0.045162) time: 0.394248 data: 0.153733 max mem: 3610\n",
            "Epoch: [61/800] [400/722] eta: 0:02:08 loss: nan (nan) lr: 0.000010 (0.000010) wd: 0.045218 (0.045173) time: 0.396079 data: 0.153669 max mem: 3610\n",
            "Epoch: [61/800] [500/722] eta: 0:01:28 loss: nan (nan) lr: 0.000010 (0.000010) wd: 0.045241 (0.045185) time: 0.395415 data: 0.154894 max mem: 3610\n",
            "Epoch: [61/800] [600/722] eta: 0:00:48 loss: nan (nan) lr: 0.000010 (0.000010) wd: 0.045265 (0.045197) time: 0.392536 data: 0.152328 max mem: 3610\n",
            "Epoch: [61/800] [700/722] eta: 0:00:08 loss: nan (nan) lr: 0.000010 (0.000010) wd: 0.045288 (0.045209) time: 0.396660 data: 0.154775 max mem: 3610\n",
            "Epoch: [61/800] [721/722] eta: 0:00:00 loss: nan (nan) lr: 0.000010 (0.000010) wd: 0.045293 (0.045211) time: 0.375895 data: 0.145576 max mem: 3610\n",
            "Epoch: [61/800] Total time: 0:04:46 (0.397107 s / it)\n",
            "Averaged stats: loss: nan (nan) lr: 0.000010 (0.000010) wd: 0.045293 (0.045211)\n",
            "current epoch is 61\n",
            "Training time 5:03:30\n",
            "Epoch: [62/800] [  0/722] eta: 0:09:03 loss: nan (nan) lr: 0.000010 (0.000010) wd: 0.045296 (0.045296) time: 0.752805 data: 0.509209 max mem: 3610\n",
            "Epoch: [62/800] [100/722] eta: 0:04:08 loss: nan (nan) lr: 0.000010 (0.000010) wd: 0.045317 (0.045307) time: 0.396697 data: 0.156179 max mem: 3610\n",
            "Epoch: [62/800] [200/722] eta: 0:03:28 loss: nan (nan) lr: 0.000010 (0.000010) wd: 0.045340 (0.045319) time: 0.398053 data: 0.158963 max mem: 3610\n",
            "Epoch: [62/800] [300/722] eta: 0:02:47 loss: nan (nan) lr: 0.000010 (0.000010) wd: 0.045364 (0.045331) time: 0.389454 data: 0.152315 max mem: 3610\n",
            "Epoch: [62/800] [400/722] eta: 0:02:07 loss: nan (nan) lr: 0.000010 (0.000010) wd: 0.045388 (0.045343) time: 0.397338 data: 0.161323 max mem: 3610\n",
            "Epoch: [62/800] [500/722] eta: 0:01:27 loss: nan (nan) lr: 0.000010 (0.000010) wd: 0.045412 (0.045355) time: 0.397389 data: 0.158109 max mem: 3610\n",
            "Epoch: [62/800] [600/722] eta: 0:00:48 loss: nan (nan) lr: 0.000010 (0.000010) wd: 0.045435 (0.045367) time: 0.402180 data: 0.162473 max mem: 3610\n",
            "Epoch: [62/800] [700/722] eta: 0:00:08 loss: nan (nan) lr: 0.000010 (0.000010) wd: 0.045459 (0.045378) time: 0.407070 data: 0.167209 max mem: 3610\n",
            "Epoch: [62/800] [721/722] eta: 0:00:00 loss: nan (nan) lr: 0.000010 (0.000010) wd: 0.045464 (0.045381) time: 0.384359 data: 0.153584 max mem: 3610\n",
            "Epoch: [62/800] Total time: 0:04:46 (0.396932 s / it)\n",
            "Averaged stats: loss: nan (nan) lr: 0.000010 (0.000010) wd: 0.045464 (0.045381)\n",
            "current epoch is 62\n",
            "Training time 5:08:17\n",
            "Epoch: [63/800] [  0/722] eta: 0:09:23 loss: nan (nan) lr: 0.000010 (0.000010) wd: 0.045467 (0.045467) time: 0.779791 data: 0.516605 max mem: 3610\n",
            "Epoch: [63/800] [100/722] eta: 0:04:07 loss: nan (nan) lr: 0.000010 (0.000010) wd: 0.045489 (0.045479) time: 0.393660 data: 0.154374 max mem: 3610\n",
            "Epoch: [63/800] [200/722] eta: 0:03:27 loss: nan (nan) lr: 0.000010 (0.000010) wd: 0.045513 (0.045491) time: 0.394269 data: 0.153289 max mem: 3610\n"
          ]
        }
      ],
      "source": [
        "train(epochs,recons_blocks,drop_per,drop_type,drop_align,drop_replace,img_size,batch_size,json_file_path=json_file_path,check_path=mc_ssl,epoch_load=epoch_load,use_fp16=use_fp16)#,check_path=epoch_31"
      ]
    },
    {
      "cell_type": "code",
      "execution_count": null,
      "metadata": {
        "id": "ctY1c5CblBiZ"
      },
      "outputs": [],
      "source": [
        "params_groups=get_params_groups(model)\n",
        "optimizer = torch.optim.AdamW(params_groups)\n"
      ]
    },
    {
      "cell_type": "code",
      "execution_count": null,
      "metadata": {
        "id": "Sm6duoM3nucp"
      },
      "outputs": [],
      "source": [
        "#for x, y in torch.load(mc_ssl, map_location='cpu')['optimizer'].items():\n",
        "  #for e,r in y.items():\n",
        "    #for g,w in r.items():\n",
        "      #if isinstance(w, torch.Tensor):\n",
        "        #print(w.size())"
      ]
    },
    {
      "cell_type": "code",
      "execution_count": null,
      "metadata": {
        "id": "O6rDW28_lL4-"
      },
      "outputs": [],
      "source": [
        "#for x, y in optimizer.state_dict().items():\n",
        " # for e,r in y.items():\n",
        "  #  for g,w in r.items():\n",
        "   #   if isinstance(w, torch.Tensor):\n",
        "    #    print(w.size())"
      ]
    },
    {
      "cell_type": "code",
      "execution_count": null,
      "metadata": {
        "id": "xCXXTdsyldip"
      },
      "outputs": [],
      "source": [
        "#for x,y in torch.load(mc_ssl,map_location='cpu')['optimizer'].items():\n",
        "  #print(y.items())"
      ]
    },
    {
      "cell_type": "code",
      "execution_count": null,
      "metadata": {
        "colab": {
          "base_uri": "https://localhost:8080/"
        },
        "id": "PWVr5SHvhCoc",
        "outputId": "88385936-a5a0-437c-e4e9-ed276f150cf1"
      },
      "outputs": [
        {
          "name": "stdout",
          "output_type": "stream",
          "text": [
            "state\n",
            "param_groups\n"
          ]
        }
      ],
      "source": [
        "for x, y in optimizer.state_dict().items():\n",
        "  print(x)"
      ]
    },
    {
      "cell_type": "code",
      "execution_count": null,
      "metadata": {
        "id": "R-Co9_PFItkC"
      },
      "outputs": [],
      "source": [
        "for name, child in encoder.blocks.named_children():\n",
        "  if name=='11':\n",
        "    for param in child.parameters():\n",
        "      param.requires_grad=True\n",
        "    else:\n",
        "      for param in child.parameters():\n",
        "        param.requires_grad=False"
      ]
    },
    {
      "cell_type": "code",
      "execution_count": null,
      "metadata": {
        "id": "70QUFLzsF3ls"
      },
      "outputs": [],
      "source": [
        "encoder=vit()\n",
        "\n",
        "  "
      ]
    },
    {
      "cell_type": "code",
      "execution_count": null,
      "metadata": {
        "id": "wTTFF2EiF3Dq"
      },
      "outputs": [],
      "source": [
        ""
      ]
    },
    {
      "cell_type": "code",
      "execution_count": null,
      "metadata": {
        "colab": {
          "base_uri": "https://localhost:8080/",
          "height": 356
        },
        "id": "o2rtwlPgf1Iv",
        "outputId": "779439ec-d67f-4097-94cc-b92a23816e5d"
      },
      "outputs": [
        {
          "name": "stdout",
          "output_type": "stream",
          "text": [
            "state\n",
            "param_groups\n"
          ]
        },
        {
          "ename": "KeyError",
          "evalue": "ignored",
          "output_type": "error",
          "traceback": [
            "\u001b[0;31m---------------------------------------------------------------------------\u001b[0m",
            "\u001b[0;31mKeyError\u001b[0m                                  Traceback (most recent call last)",
            "\u001b[0;32m<ipython-input-91-b10874218810>\u001b[0m in \u001b[0;36m<module>\u001b[0;34m()\u001b[0m\n\u001b[1;32m      2\u001b[0m   \u001b[0mprint\u001b[0m\u001b[0;34m(\u001b[0m\u001b[0mk\u001b[0m\u001b[0;34m)\u001b[0m\u001b[0;34m\u001b[0m\u001b[0;34m\u001b[0m\u001b[0m\n\u001b[1;32m      3\u001b[0m \u001b[0;34m\u001b[0m\u001b[0m\n\u001b[0;32m----> 4\u001b[0;31m \u001b[0moptimizer\u001b[0m\u001b[0;34m.\u001b[0m\u001b[0mload_state_dict\u001b[0m\u001b[0;34m(\u001b[0m\u001b[0mck_gmml\u001b[0m\u001b[0;34m[\u001b[0m\u001b[0;34m'optimizer'\u001b[0m\u001b[0;34m]\u001b[0m\u001b[0;34m[\u001b[0m\u001b[0;34m'state'\u001b[0m\u001b[0;34m]\u001b[0m\u001b[0;34m)\u001b[0m\u001b[0;34m\u001b[0m\u001b[0;34m\u001b[0m\u001b[0m\n\u001b[0m",
            "\u001b[0;32m/usr/local/lib/python3.7/dist-packages/torch/optim/optimizer.py\u001b[0m in \u001b[0;36mload_state_dict\u001b[0;34m(self, state_dict)\u001b[0m\n\u001b[1;32m    136\u001b[0m         \u001b[0;31m# Validate the state_dict\u001b[0m\u001b[0;34m\u001b[0m\u001b[0;34m\u001b[0m\u001b[0;34m\u001b[0m\u001b[0m\n\u001b[1;32m    137\u001b[0m         \u001b[0mgroups\u001b[0m \u001b[0;34m=\u001b[0m \u001b[0mself\u001b[0m\u001b[0;34m.\u001b[0m\u001b[0mparam_groups\u001b[0m\u001b[0;34m\u001b[0m\u001b[0;34m\u001b[0m\u001b[0m\n\u001b[0;32m--> 138\u001b[0;31m         \u001b[0msaved_groups\u001b[0m \u001b[0;34m=\u001b[0m \u001b[0mstate_dict\u001b[0m\u001b[0;34m[\u001b[0m\u001b[0;34m'param_groups'\u001b[0m\u001b[0;34m]\u001b[0m\u001b[0;34m\u001b[0m\u001b[0;34m\u001b[0m\u001b[0m\n\u001b[0m\u001b[1;32m    139\u001b[0m \u001b[0;34m\u001b[0m\u001b[0m\n\u001b[1;32m    140\u001b[0m         \u001b[0;32mif\u001b[0m \u001b[0mlen\u001b[0m\u001b[0;34m(\u001b[0m\u001b[0mgroups\u001b[0m\u001b[0;34m)\u001b[0m \u001b[0;34m!=\u001b[0m \u001b[0mlen\u001b[0m\u001b[0;34m(\u001b[0m\u001b[0msaved_groups\u001b[0m\u001b[0;34m)\u001b[0m\u001b[0;34m:\u001b[0m\u001b[0;34m\u001b[0m\u001b[0;34m\u001b[0m\u001b[0m\n",
            "\u001b[0;31mKeyError\u001b[0m: 'param_groups'"
          ]
        }
      ],
      "source": [
        "for k, v in torch.load['optimizer'].items():\n",
        "  print(k)\n",
        "\n",
        "optimizer.load_state_dict(ck_gmml['optimizer']['state'])"
      ]
    },
    {
      "cell_type": "code",
      "execution_count": null,
      "metadata": {
        "id": "pm_OofzZadgv"
      },
      "outputs": [],
      "source": [
        "optim_state=check_point['optimizer']['state']"
      ]
    },
    {
      "cell_type": "code",
      "execution_count": null,
      "metadata": {
        "id": "N9xU1_adakAW"
      },
      "outputs": [],
      "source": [
        "#optimizer.load_state_dict(check_point['optimizer'])"
      ]
    },
    {
      "cell_type": "code",
      "execution_count": null,
      "metadata": {
        "id": "TGvYBw1AZ5ud"
      },
      "outputs": [],
      "source": [
        "#ck_gmml['optimizer']['state']"
      ]
    },
    {
      "cell_type": "code",
      "execution_count": null,
      "metadata": {
        "id": "yEFYGzcFXN73"
      },
      "outputs": [],
      "source": [
        "#for x, y in ck_gmml['optimizer']['state'].items():\n",
        "  #    for r,f in y.items():\n",
        "   #     print(r)"
      ]
    },
    {
      "cell_type": "code",
      "execution_count": null,
      "metadata": {
        "id": "voUqiFBpvI_B"
      },
      "outputs": [],
      "source": [
        "state={'model':model}\n",
        "from collections import OrderedDict\n",
        "\n"
      ]
    },
    {
      "cell_type": "code",
      "execution_count": null,
      "metadata": {
        "id": "v8O_glmty2y5"
      },
      "outputs": [],
      "source": [
        ""
      ]
    },
    {
      "cell_type": "code",
      "execution_count": null,
      "metadata": {
        "id": "pUu-vgUryWKo"
      },
      "outputs": [],
      "source": [
        "#model.load_state_dict(ck_gmml['SiT_model'])"
      ]
    },
    {
      "cell_type": "code",
      "execution_count": null,
      "metadata": {
        "id": "donQnX74v6_I"
      },
      "outputs": [],
      "source": [
        "from collections import OrderedDict\n",
        "\n",
        "def get_updated_dic(dic):\n",
        "  new_dic= OrderedDict()\n",
        "  for k,v in dic['student'].items():\n",
        "      name=k.replace('module.backbone.','encoder.')\n",
        "      new_dic[name]=v\n",
        "      return new_dic\n",
        "\n",
        "def restore_model(check_path,model,run_variables,epoch_load=True):\n",
        "  check_point=check_path=torch.load(check_path,map_location='cpu')\n",
        "  updated_dic=get_updated_dic(check_point)\n",
        "  model.load_state_dict(updated_dic,strict=False)\n",
        "  \n",
        "  if epoch_load==True:\n",
        "     run_variables['epoch'] = check_point['epoch']\n",
        "ck='/content/gdrive/MyDrive/Colab/Pascal_2007/VOCdevkit/VOC2007/checkpoint.pth'\n",
        "to_restore={'epoch':0}\n",
        "run_variables=to_restore\n",
        "restore_model(ck,model,run_variables,epoch_load=True)"
      ]
    },
    {
      "cell_type": "code",
      "execution_count": null,
      "metadata": {
        "id": "7Iy5KN2wzHeJ"
      },
      "outputs": [],
      "source": [
        "#model.load_state_dict(new_dic,strict=False)"
      ]
    },
    {
      "cell_type": "code",
      "execution_count": null,
      "metadata": {
        "colab": {
          "base_uri": "https://localhost:8080/"
        },
        "id": "BqSRh-bQzKNa",
        "outputId": "ca2fd985-5b35-474b-db06-3767935304fa"
      },
      "outputs": [
        {
          "data": {
            "text/plain": [
              "6"
            ]
          },
          "execution_count": 132,
          "metadata": {},
          "output_type": "execute_result"
        }
      ],
      "source": [
        "ck_gmml['epoch']"
      ]
    },
    {
      "cell_type": "code",
      "execution_count": null,
      "metadata": {
        "colab": {
          "base_uri": "https://localhost:8080/"
        },
        "id": "q5WNvRwzu6PI",
        "outputId": "4ad6bab4-1298-46b0-e287-0c827f5d7acd"
      },
      "outputs": [
        {
          "name": "stdout",
          "output_type": "stream",
          "text": [
            "Will run the code on one GPU.\n",
            "| distributed init (rank 0): env://\n"
          ]
        }
      ],
      "source": [
        "init_distributed_mode()\n",
        "model.cuda()\n",
        "model = nn.parallel.DistributedDataParallel(model, device_ids=[0],find_unused_parameters=True)"
      ]
    },
    {
      "cell_type": "code",
      "execution_count": null,
      "metadata": {
        "id": "xRmJgKUQ2PME"
      },
      "outputs": [],
      "source": [
        ""
      ]
    },
    {
      "cell_type": "code",
      "execution_count": null,
      "metadata": {
        "id": "NeGYH3aIDu8M"
      },
      "outputs": [],
      "source": [
        "model.stae"
      ]
    },
    {
      "cell_type": "code",
      "execution_count": null,
      "metadata": {
        "colab": {
          "base_uri": "https://localhost:8080/"
        },
        "id": "3JUmrs12-u4M",
        "outputId": "b9abc201-85fe-4866-dbc0-cdd9d3ba1d31"
      },
      "outputs": [
        {
          "data": {
            "text/plain": [
              "_IncompatibleKeys(missing_keys=['module.decoder.mlp1.weight', 'module.decoder.mlp1.bias', 'module.decoder.mlp2.weight', 'module.decoder.mlp2.bias', 'module.decoder.mlp3.weight', 'module.decoder.mlp3.bias', 'module.decoder.convtrans.weight', 'module.decoder.convtrans.bias'], unexpected_keys=['module.head.mlp.0.weight', 'module.head.mlp.0.bias', 'module.head.mlp.2.weight', 'module.head.mlp.2.bias', 'module.head.mlp.4.weight', 'module.head.mlp.4.bias', 'module.head.last_layer.weight_g', 'module.head.last_layer.weight_v', 'module.head_patch.mlp.0.weight', 'module.head_patch.mlp.0.bias', 'module.head_patch.mlp.2.weight', 'module.head_patch.mlp.2.bias', 'module.head_patch.mlp.4.weight', 'module.head_patch.mlp.4.bias', 'module.head_patch.last_layer.weight_g', 'module.head_patch.last_layer.weight_v', 'module.head_recons.mlp.0.weight', 'module.head_recons.mlp.0.bias', 'module.head_recons.mlp.2.weight', 'module.head_recons.mlp.2.bias', 'module.head_recons.convTrans.weight', 'module.head_recons.convTrans.bias', 'module.encoder.norm_rec.weight', 'module.encoder.norm_rec.bias'])"
            ]
          },
          "execution_count": 32,
          "metadata": {},
          "output_type": "execute_result"
        }
      ],
      "source": [
        "new_dic= OrderedDict()\n",
        "check_point=check_path=torch.load(ck,map_location='cpu')\n",
        "\n",
        "for k,v in check_point['student'].items():\n",
        "    name=k.replace('module.backbone.','module.encoder.')\n",
        "    new_dic[name]=v\n",
        "model.load_state_dict(new_dic,strict=False)\n"
      ]
    },
    {
      "cell_type": "code",
      "execution_count": null,
      "metadata": {
        "colab": {
          "base_uri": "https://localhost:8080/",
          "height": 183
        },
        "id": "4S0iU8SjAiDc",
        "outputId": "255a742a-5f06-4c0c-b284-13c64a863848"
      },
      "outputs": [
        {
          "ename": "AttributeError",
          "evalue": "ignored",
          "output_type": "error",
          "traceback": [
            "\u001b[0;31m---------------------------------------------------------------------------\u001b[0m",
            "\u001b[0;31mAttributeError\u001b[0m                            Traceback (most recent call last)",
            "\u001b[0;32m<ipython-input-188-f5c286ef6d92>\u001b[0m in \u001b[0;36m<module>\u001b[0;34m()\u001b[0m\n\u001b[1;32m      1\u001b[0m \u001b[0;32mfor\u001b[0m \u001b[0mparam_tensor\u001b[0m \u001b[0;32min\u001b[0m \u001b[0moptimizer\u001b[0m\u001b[0;34m.\u001b[0m\u001b[0mstate_dict\u001b[0m\u001b[0;34m(\u001b[0m\u001b[0;34m)\u001b[0m\u001b[0;34m:\u001b[0m\u001b[0;34m\u001b[0m\u001b[0;34m\u001b[0m\u001b[0m\n\u001b[0;32m----> 2\u001b[0;31m     \u001b[0mprint\u001b[0m\u001b[0;34m(\u001b[0m\u001b[0mparam_tensor\u001b[0m\u001b[0;34m,\u001b[0m \u001b[0;34m\"\\t\"\u001b[0m\u001b[0;34m,\u001b[0m \u001b[0moptimizer\u001b[0m\u001b[0;34m.\u001b[0m\u001b[0mstate_dict\u001b[0m\u001b[0;34m(\u001b[0m\u001b[0;34m)\u001b[0m\u001b[0;34m[\u001b[0m\u001b[0mparam_tensor\u001b[0m\u001b[0;34m]\u001b[0m\u001b[0;34m.\u001b[0m\u001b[0msize\u001b[0m\u001b[0;34m(\u001b[0m\u001b[0;34m)\u001b[0m\u001b[0;34m)\u001b[0m\u001b[0;34m\u001b[0m\u001b[0;34m\u001b[0m\u001b[0m\n\u001b[0m",
            "\u001b[0;31mAttributeError\u001b[0m: 'dict' object has no attribute 'size'"
          ]
        }
      ],
      "source": [
        ""
      ]
    },
    {
      "cell_type": "markdown",
      "metadata": {
        "id": "_0WcCHzrki4-"
      },
      "source": [
        "MOdel loading"
      ]
    },
    {
      "cell_type": "code",
      "execution_count": null,
      "metadata": {
        "colab": {
          "base_uri": "https://localhost:8080/",
          "height": 130
        },
        "id": "hjiVeohn8-ff",
        "outputId": "e181fbd8-753c-4045-f8c3-48cb7e3a59ac"
      },
      "outputs": [
        {
          "ename": "SyntaxError",
          "evalue": "ignored",
          "output_type": "error",
          "traceback": [
            "\u001b[0;36m  File \u001b[0;32m\"<ipython-input-113-0223ad6b5408>\"\u001b[0;36m, line \u001b[0;32m12\u001b[0m\n\u001b[0;31m    }\u001b[0m\n\u001b[0m    ^\u001b[0m\n\u001b[0;31mSyntaxError\u001b[0m\u001b[0;31m:\u001b[0m invalid syntax\n"
          ]
        }
      ],
      "source": [
        "torch.save(model.state_dict(), filepath)\n",
        "\n",
        "#Later to restore:\n",
        "model.load_state_dict(torch.load(filepath))\n",
        "model.eval()\n",
        "\n",
        "state = {\n",
        "    'epoch': epoch,\n",
        "    'state_dict': model.state_dict(),\n",
        "    'optimizer': optimizer.state_dict(),\n",
        "    ...\n",
        "}\n",
        "torch.save(state, filepath)\n",
        "\n",
        "for param_tensor in model.state_dict():\n",
        "    print(param_tensor, \"\\t\", model.state_dict()[param_tensor].size())\n",
        "\n",
        "for name, child in model.named_children():\n",
        "    print(name)\n",
        "\n",
        "for name, child in model.named_children():\n",
        "   if name in ['layer3', 'layer4']:\n",
        "       print(name + ' is unfrozen')\n",
        "       for param in child.parameters():\n",
        "           param.requires_grad = True\n",
        "   else:\n",
        "       print(name + ' is frozen')\n",
        "       for param in child.parameters():\n",
        "           param.requires_grad = False\n",
        "\n",
        "\n",
        "optimizer = torch.optim.SGD(filter(lambda p: p.requires_grad, model.parameters()), lr=0.0006, momentum=0.9)\n"
      ]
    },
    {
      "cell_type": "code",
      "execution_count": null,
      "metadata": {
        "id": "-T7uct5cfQKy"
      },
      "outputs": [],
      "source": [
        ""
      ]
    },
    {
      "cell_type": "code",
      "execution_count": null,
      "metadata": {
        "id": "H6t_W6BCqZpv"
      },
      "outputs": [],
      "source": [
        "for parm in child.parameters():\n",
        "  parm.requires_grad=True"
      ]
    },
    {
      "cell_type": "code",
      "execution_count": null,
      "metadata": {
        "colab": {
          "base_uri": "https://localhost:8080/"
        },
        "id": "j1tz507LqE_R",
        "outputId": "8b1216e0-e73d-4180-b558-a48c4af471f8"
      },
      "outputs": [
        {
          "data": {
            "text/plain": [
              "0"
            ]
          },
          "execution_count": 152,
          "metadata": {},
          "output_type": "execute_result"
        }
      ],
      "source": [
        ""
      ]
    },
    {
      "cell_type": "code",
      "execution_count": null,
      "metadata": {
        "id": "Sc56Z6Zagiud"
      },
      "outputs": [],
      "source": [
        "for it, v in enumerate(data_loader):\n",
        "    ##v(dim1 contains clean, corrupet and mask img), dim 2 contains 2 glolab crops for same image and dim 3 contains total images in the batch\n",
        "    # Clean is list containg two 4d tensors each have batch of 32X3X224X224 images\n",
        "    clean, corrupt, mask= v[0],v[1],v[2]\n",
        "    break"
      ]
    },
    {
      "cell_type": "code",
      "execution_count": null,
      "metadata": {
        "id": "--HQ-CAMQ4yA"
      },
      "outputs": [],
      "source": [
        "corrupt,mask=GMML_replace_list(clean, corrupt,mask, drop_type=drop_type, max_replace=drop_per,align=drop_align)"
      ]
    },
    {
      "cell_type": "code",
      "execution_count": null,
      "metadata": {
        "id": "Iqo5fzfCwpMg"
      },
      "outputs": [],
      "source": [
        "one_img=[clean[0][1].unsqueeze(0),clean[1][1].unsqueeze(0)]#both global"
      ]
    },
    {
      "cell_type": "code",
      "execution_count": null,
      "metadata": {
        "id": "Qr8G9LQhxLhJ"
      },
      "outputs": [],
      "source": [
        "gloabl_recon=model(corrupt,recons_blocks='5-6-7')"
      ]
    },
    {
      "cell_type": "code",
      "execution_count": null,
      "metadata": {
        "id": "dk9I0Afx1Rvg"
      },
      "outputs": [],
      "source": [
        "recloss = F.l1_loss(gloabl_recon, torch.cat(clean[0:2]), reduction='none')"
      ]
    },
    {
      "cell_type": "code",
      "execution_count": null,
      "metadata": {
        "colab": {
          "base_uri": "https://localhost:8080/"
        },
        "id": "Ym2uGH2A0zqD",
        "outputId": "e55b2b32-e0d1-4fad-909b-1ed63381b7b5"
      },
      "outputs": [
        {
          "data": {
            "text/plain": [
              "torch.Size([32, 3, 224, 224])"
            ]
          },
          "execution_count": 93,
          "metadata": {},
          "output_type": "execute_result"
        }
      ],
      "source": [
        ""
      ]
    },
    {
      "cell_type": "code",
      "execution_count": null,
      "metadata": {
        "colab": {
          "base_uri": "https://localhost:8080/"
        },
        "id": "WpgsZrXiy1mN",
        "outputId": "c8f42439-5575-4c0a-f143-2194d4170bcd"
      },
      "outputs": [
        {
          "data": {
            "text/plain": [
              "2"
            ]
          },
          "execution_count": 60,
          "metadata": {},
          "output_type": "execute_result"
        }
      ],
      "source": [
        "len(gloabl_recon)"
      ]
    },
    {
      "cell_type": "code",
      "execution_count": null,
      "metadata": {
        "id": "BAqSEdVPzWbv"
      },
      "outputs": [],
      "source": [
        "y=gloabl_recon[1].cpu().detach().clone()"
      ]
    },
    {
      "cell_type": "code",
      "execution_count": null,
      "metadata": {
        "colab": {
          "base_uri": "https://localhost:8080/",
          "height": 304
        },
        "id": "aMp5wReyzE-O",
        "outputId": "0fcabea7-a1b9-42ea-8115-5b61b5b9b3a4"
      },
      "outputs": [
        {
          "name": "stderr",
          "output_type": "stream",
          "text": [
            "Clipping input data to the valid range for imshow with RGB data ([0..1] for floats or [0..255] for integers).\n"
          ]
        },
        {
          "data": {
            "text/plain": [
              "<matplotlib.image.AxesImage at 0x7fb0e4aafd90>"
            ]
          },
          "execution_count": 83,
          "metadata": {},
          "output_type": "execute_result"
        },
        {
          "data": {
            "image/png": "[encoded data removed]",
            "text/plain": [
              "<Figure size 432x288 with 1 Axes>"
            ]
          },
          "metadata": {},
          "output_type": "display_data"
        }
      ],
      "source": [
        "plt.imshow(y.permute(1,2,0)) "
      ]
    },
    {
      "cell_type": "code",
      "execution_count": null,
      "metadata": {
        "colab": {
          "base_uri": "https://localhost:8080/"
        },
        "id": "_bu8llhQpvI8",
        "outputId": "d7330d0a-43b9-49ab-c517-d3e730b1d931"
      },
      "outputs": [
        {
          "data": {
            "text/plain": [
              "2"
            ]
          },
          "execution_count": 33,
          "metadata": {},
          "output_type": "execute_result"
        }
      ],
      "source": [
        "corrupt_list=[corrupt[0][1],corrupt[1][1]]\n",
        "len(corrupt)\n"
      ]
    },
    {
      "cell_type": "code",
      "execution_count": null,
      "metadata": {
        "id": "jUXUGqDVgQx7"
      },
      "outputs": [],
      "source": [
        "global_recon=model(corrupt, recons_blocks='5-6-7').shape"
      ]
    },
    {
      "cell_type": "code",
      "execution_count": null,
      "metadata": {
        "colab": {
          "base_uri": "https://localhost:8080/",
          "height": 304
        },
        "id": "g6ZEEL56fqmq",
        "outputId": "526dcbef-1cda-4732-9675-2099a645f92d"
      },
      "outputs": [
        {
          "name": "stderr",
          "output_type": "stream",
          "text": [
            "Clipping input data to the valid range for imshow with RGB data ([0..1] for floats or [0..255] for integers).\n"
          ]
        },
        {
          "data": {
            "text/plain": [
              "<matplotlib.image.AxesImage at 0x7efce1df1310>"
            ]
          },
          "execution_count": 99,
          "metadata": {},
          "output_type": "execute_result"
        },
        {
          "data": {
            "image/png": "[encoded data removed]",
            "text/plain": [
              "<Figure size 432x288 with 1 Axes>"
            ]
          },
          "metadata": {},
          "output_type": "display_data"
        }
      ],
      "source": [
        "plt.imshow(clean[0][1].permute(1,2,0))"
      ]
    },
    {
      "cell_type": "code",
      "execution_count": null,
      "metadata": {
        "colab": {
          "base_uri": "https://localhost:8080/",
          "height": 304
        },
        "id": "zqcJ7nboSRd1",
        "outputId": "f17e4a1a-f9b0-4212-c82d-0b60f1797375"
      },
      "outputs": [
        {
          "name": "stderr",
          "output_type": "stream",
          "text": [
            "Clipping input data to the valid range for imshow with RGB data ([0..1] for floats or [0..255] for integers).\n"
          ]
        },
        {
          "data": {
            "text/plain": [
              "<matplotlib.image.AxesImage at 0x7efce62bad10>"
            ]
          },
          "execution_count": 62,
          "metadata": {},
          "output_type": "execute_result"
        },
        {
          "data": {
            "image/png": "[encoded data removed]",
            "text/plain": [
              "<Figure size 432x288 with 1 Axes>"
            ]
          },
          "metadata": {},
          "output_type": "display_data"
        }
      ],
      "source": [
        "plt.imshow(clean[0][31].permute(1,2,0))"
      ]
    },
    {
      "cell_type": "code",
      "execution_count": null,
      "metadata": {
        "colab": {
          "base_uri": "https://localhost:8080/",
          "height": 304
        },
        "id": "fsSmPqI0SxBa",
        "outputId": "e3cedbfb-4f18-483b-d537-a12afc1f5922"
      },
      "outputs": [
        {
          "name": "stderr",
          "output_type": "stream",
          "text": [
            "Clipping input data to the valid range for imshow with RGB data ([0..1] for floats or [0..255] for integers).\n"
          ]
        },
        {
          "data": {
            "text/plain": [
              "<matplotlib.image.AxesImage at 0x7efce62b4250>"
            ]
          },
          "execution_count": 63,
          "metadata": {},
          "output_type": "execute_result"
        },
        {
          "data": {
            "image/png": "[encoded data removed]",
            "text/plain": [
              "<Figure size 432x288 with 1 Axes>"
            ]
          },
          "metadata": {},
          "output_type": "display_data"
        }
      ],
      "source": [
        "plt.imshow(corrupt[0][8].permute(1,2,0))"
      ]
    },
    {
      "cell_type": "code",
      "execution_count": null,
      "metadata": {
        "colab": {
          "base_uri": "https://localhost:8080/",
          "height": 304
        },
        "id": "yt-2EAljS-Ja",
        "outputId": "1e08327e-1e3b-4947-f602-169e8471941a"
      },
      "outputs": [
        {
          "name": "stderr",
          "output_type": "stream",
          "text": [
            "Clipping input data to the valid range for imshow with RGB data ([0..1] for floats or [0..255] for integers).\n"
          ]
        },
        {
          "data": {
            "text/plain": [
              "<matplotlib.image.AxesImage at 0x7efce6224590>"
            ]
          },
          "execution_count": 65,
          "metadata": {},
          "output_type": "execute_result"
        },
        {
          "data": {
            "image/png": "[encoded data removed]",
            "text/plain": [
              "<Figure size 432x288 with 1 Axes>"
            ]
          },
          "metadata": {},
          "output_type": "display_data"
        }
      ],
      "source": [
        "plt.imshow(aug.permute(1,2,0))"
      ]
    },
    {
      "cell_type": "code",
      "execution_count": null,
      "metadata": {
        "colab": {
          "base_uri": "https://localhost:8080/",
          "height": 286
        },
        "id": "mCgCZv5TTaeU",
        "outputId": "a00bd905-91c2-4ab2-a5fa-b56b443cb548"
      },
      "outputs": [
        {
          "data": {
            "text/plain": [
              "<matplotlib.image.AxesImage at 0x7efce6191910>"
            ]
          },
          "execution_count": 66,
          "metadata": {},
          "output_type": "execute_result"
        },
        {
          "data": {
            "image/png": "[encoded data removed]",
            "text/plain": [
              "<Figure size 432x288 with 1 Axes>"
            ]
          },
          "metadata": {},
          "output_type": "display_data"
        }
      ],
      "source": [
        "plt.imshow(aft_mask.permute(1,2,0))\n"
      ]
    },
    {
      "cell_type": "code",
      "execution_count": null,
      "metadata": {
        "colab": {
          "base_uri": "https://localhost:8080/"
        },
        "id": "XE75rgRMQIxG",
        "outputId": "81e42838-0bc9-4146-98c0-2883915c2be5"
      },
      "outputs": [
        {
          "data": {
            "text/plain": [
              "0.16666666666666666"
            ]
          },
          "execution_count": 39,
          "metadata": {},
          "output_type": "execute_result"
        }
      ],
      "source": [
        "drop_type='noise'\n",
        "( 1 / ( len(drop_type.split('-')) + 1 ) )"
      ]
    },
    {
      "cell_type": "code",
      "execution_count": null,
      "metadata": {
        "id": "yWQULdeRp_xP"
      },
      "outputs": [],
      "source": [
        "clean=v[1]\n",
        "corrupt=v[2]\n"
      ]
    },
    {
      "cell_type": "code",
      "execution_count": null,
      "metadata": {
        "id": "cdnu-GUtJJle"
      },
      "outputs": [],
      "source": [
        "for x,y in enumerate(clean):\n",
        "  break\n"
      ]
    },
    {
      "cell_type": "code",
      "execution_count": null,
      "metadata": {
        "colab": {
          "base_uri": "https://localhost:8080/"
        },
        "id": "SFN0f12QJU7k",
        "outputId": "745ccf0f-e539-40f2-b3f8-cebf0ee5a0bb"
      },
      "outputs": [
        {
          "data": {
            "text/plain": [
              "torch.Size([3, 224, 224])"
            ]
          },
          "execution_count": 35,
          "metadata": {},
          "output_type": "execute_result"
        }
      ],
      "source": [
        "y[1].shape"
      ]
    },
    {
      "cell_type": "code",
      "execution_count": null,
      "metadata": {
        "colab": {
          "base_uri": "https://localhost:8080/"
        },
        "id": "RWJgH5zkE4KE",
        "outputId": "711b8ebe-3b16-4315-c6dc-22a4cfbed009"
      },
      "outputs": [
        {
          "data": {
            "text/plain": [
              "torch.Size([3, 224, 224])"
            ]
          },
          "execution_count": 31,
          "metadata": {},
          "output_type": "execute_result"
        }
      ],
      "source": [
        "clean[1][4].shape"
      ]
    },
    {
      "cell_type": "code",
      "execution_count": null,
      "metadata": {
        "colab": {
          "base_uri": "https://localhost:8080/"
        },
        "id": "cwbYod-AjW1n",
        "outputId": "7e248a2c-ac46-4b71-9876-10bd309a6e2d"
      },
      "outputs": [
        {
          "data": {
            "text/plain": [
              "32"
            ]
          },
          "execution_count": 40,
          "metadata": {},
          "output_type": "execute_result"
        }
      ],
      "source": [
        "for si,s in enumerate(clean \n",
        "                      )"
      ]
    },
    {
      "cell_type": "code",
      "execution_count": null,
      "metadata": {
        "colab": {
          "base_uri": "https://localhost:8080/"
        },
        "id": "tursaF0MPXnQ",
        "outputId": "8dff036b-b51c-4964-8ae4-88796f202555"
      },
      "outputs": [
        {
          "data": {
            "text/plain": [
              "5.0239234449760764e-05"
            ]
          },
          "execution_count": 30,
          "metadata": {},
          "output_type": "execute_result"
        }
      ],
      "source": [
        "it=1*len(data_loader)+0\n",
        "lr_schedule[]"
      ]
    },
    {
      "cell_type": "code",
      "execution_count": null,
      "metadata": {
        "id": "rI_wIyxHR-LB"
      },
      "outputs": [],
      "source": [
        "optimizer.par"
      ]
    },
    {
      "cell_type": "code",
      "execution_count": null,
      "metadata": {
        "id": "LTRyoeQtDB4B"
      },
      "outputs": [],
      "source": [
        "to_restore={'epoch':0}\n",
        "### info for starting the trainig from check point\n",
        "\n",
        "start_epoch=to_restore['epoch']\n",
        "\n",
        "start_time=time.time()\n",
        "print(f\"==> Start training from epoch {start_epoch}\")\n",
        "for epoch in range(start_epoch,epochs):\n",
        "  train_one_epoch()"
      ]
    },
    {
      "cell_type": "code",
      "execution_count": null,
      "metadata": {
        "id": "wEhCJASHEE_q"
      },
      "outputs": [],
      "source": [
        "for it, v in enumerate(data_loader):\n",
        "  clean, corrupt, mask=v[0],v[1],v[2]##v(dim1 contains clean, corrupet and mask img), dim 2 contains 2 glolab crops for same image and dim 3 contains total images in the batch  \n",
        "  break"
      ]
    },
    {
      "cell_type": "code",
      "execution_count": null,
      "metadata": {
        "colab": {
          "base_uri": "https://localhost:8080/"
        },
        "id": "Oj-wVuSwpqr9",
        "outputId": "31148510-ebe5-4696-f498-d59e834e0270"
      },
      "outputs": [
        {
          "data": {
            "text/plain": [
              "19891200"
            ]
          },
          "execution_count": 36,
          "metadata": {},
          "output_type": "execute_result"
        }
      ],
      "source": [
        "#encoder=vit()\n"
      ]
    },
    {
      "cell_type": "code",
      "execution_count": null,
      "metadata": {
        "id": "GyNM_iY836Mb"
      },
      "outputs": [],
      "source": [
        "warmup_epoch=10\n",
        "warmup_iter=warmup_epoch*len(data_loader)\n",
        "1e-6"
      ]
    },
    {
      "cell_type": "code",
      "execution_count": null,
      "metadata": {
        "colab": {
          "base_uri": "https://localhost:8080/"
        },
        "id": "c-jAVAdYqNq6",
        "outputId": "2336a9fe-2be1-46fc-8850-9e579afd4777"
      },
      "outputs": [
        {
          "data": {
            "text/plain": [
              "array([    0,     1,     2, ..., 16587, 16588, 16589])"
            ]
          },
          "execution_count": 35,
          "metadata": {},
          "output_type": "execute_result"
        }
      ],
      "source": [
        "ff=np.arange(800 * 21 - 210)\n",
        "ff"
      ]
    },
    {
      "cell_type": "code",
      "execution_count": null,
      "metadata": {
        "id": "_onRSOMqxuTd"
      },
      "outputs": [],
      "source": [
        "#for img, v in enumerate(data_loader):\n",
        " # print(img)\n",
        "for it, v in enumerate(data_loader):\n",
        "  clean, corrupt, mask=v[0],v[1],v[2]\n",
        "  break\n",
        "\n"
      ]
    },
    {
      "cell_type": "code",
      "execution_count": null,
      "metadata": {
        "id": "gYYHDL6LTTE5"
      },
      "outputs": [],
      "source": [
        "from collections import defaultdict, deque\n",
        "defaultdict(SmoothedValue)"
      ]
    },
    {
      "cell_type": "code",
      "execution_count": null,
      "metadata": {
        "colab": {
          "base_uri": "https://localhost:8080/",
          "height": 200
        },
        "id": "nWDhZGpMFOUG",
        "outputId": "bce97fce-1707-4627-a337-418167aa8d4a"
      },
      "outputs": [
        {
          "ename": "IndexError",
          "evalue": "ignored",
          "output_type": "error",
          "traceback": [
            "\u001b[0;31m---------------------------------------------------------------------------\u001b[0m",
            "\u001b[0;31mIndexError\u001b[0m                                Traceback (most recent call last)",
            "\u001b[0;32m<ipython-input-171-3755b326473d>\u001b[0m in \u001b[0;36m<module>\u001b[0;34m()\u001b[0m\n\u001b[1;32m      1\u001b[0m \u001b[0;31m#v[2][1][1]\u001b[0m\u001b[0;34m\u001b[0m\u001b[0;34m\u001b[0m\u001b[0;34m\u001b[0m\u001b[0m\n\u001b[0;32m----> 2\u001b[0;31m \u001b[0mplt\u001b[0m\u001b[0;34m.\u001b[0m\u001b[0mimshow\u001b[0m\u001b[0;34m(\u001b[0m\u001b[0mv\u001b[0m\u001b[0;34m[\u001b[0m\u001b[0;36m3\u001b[0m\u001b[0;34m]\u001b[0m\u001b[0;34m[\u001b[0m\u001b[0;36m1\u001b[0m\u001b[0;34m]\u001b[0m\u001b[0;34m[\u001b[0m\u001b[0;36m24\u001b[0m\u001b[0;34m]\u001b[0m\u001b[0;34m.\u001b[0m\u001b[0mpermute\u001b[0m\u001b[0;34m(\u001b[0m\u001b[0;36m1\u001b[0m\u001b[0;34m,\u001b[0m\u001b[0;36m2\u001b[0m\u001b[0;34m,\u001b[0m\u001b[0;36m0\u001b[0m\u001b[0;34m)\u001b[0m\u001b[0;34m)\u001b[0m\u001b[0;31m##v(dim1 contains clean, corrupet and mask img), dim 2 contains 2 glolab crops for same image and dim 3 contains total images in the batch\u001b[0m\u001b[0;34m\u001b[0m\u001b[0;34m\u001b[0m\u001b[0m\n\u001b[0m",
            "\u001b[0;31mIndexError\u001b[0m: list index out of range"
          ]
        }
      ],
      "source": [
        "#v[2][1][1]\n",
        "plt.imshow(v[2][1][24].permute(1,2,0))"
      ]
    },
    {
      "cell_type": "code",
      "execution_count": null,
      "metadata": {
        "colab": {
          "base_uri": "https://localhost:8080/",
          "height": 287
        },
        "id": "3AyLPb7Q-xiX",
        "outputId": "0678b381-4a6d-4b40-9f8f-19a6f644e2df"
      },
      "outputs": [
        {
          "ename": "UnidentifiedImageError",
          "evalue": "ignored",
          "output_type": "error",
          "traceback": [
            "\u001b[0;31m---------------------------------------------------------------------------\u001b[0m",
            "\u001b[0;31mUnidentifiedImageError\u001b[0m                    Traceback (most recent call last)",
            "\u001b[0;32m<ipython-input-108-1cfefe68afd2>\u001b[0m in \u001b[0;36m<module>\u001b[0;34m()\u001b[0m\n\u001b[0;32m----> 1\u001b[0;31m \u001b[0mImage\u001b[0m\u001b[0;34m.\u001b[0m\u001b[0mopen\u001b[0m\u001b[0;34m(\u001b[0m\u001b[0;34m'/content/gdrive/MyDrive/Colab/Images/VOCdevkit/VOC2007/JPEGImages/000954.jpg'\u001b[0m\u001b[0;34m)\u001b[0m\u001b[0;34m\u001b[0m\u001b[0;34m\u001b[0m\u001b[0m\n\u001b[0m",
            "\u001b[0;32m/usr/local/lib/python3.7/dist-packages/PIL/Image.py\u001b[0m in \u001b[0;36mopen\u001b[0;34m(fp, mode)\u001b[0m\n\u001b[1;32m   2894\u001b[0m         \u001b[0mwarnings\u001b[0m\u001b[0;34m.\u001b[0m\u001b[0mwarn\u001b[0m\u001b[0;34m(\u001b[0m\u001b[0mmessage\u001b[0m\u001b[0;34m)\u001b[0m\u001b[0;34m\u001b[0m\u001b[0;34m\u001b[0m\u001b[0m\n\u001b[1;32m   2895\u001b[0m     raise UnidentifiedImageError(\n\u001b[0;32m-> 2896\u001b[0;31m         \u001b[0;34m\"cannot identify image file %r\"\u001b[0m \u001b[0;34m%\u001b[0m \u001b[0;34m(\u001b[0m\u001b[0mfilename\u001b[0m \u001b[0;32mif\u001b[0m \u001b[0mfilename\u001b[0m \u001b[0;32melse\u001b[0m \u001b[0mfp\u001b[0m\u001b[0;34m)\u001b[0m\u001b[0;34m\u001b[0m\u001b[0;34m\u001b[0m\u001b[0m\n\u001b[0m\u001b[1;32m   2897\u001b[0m     )\n\u001b[1;32m   2898\u001b[0m \u001b[0;34m\u001b[0m\u001b[0m\n",
            "\u001b[0;31mUnidentifiedImageError\u001b[0m: cannot identify image file '/content/gdrive/MyDrive/Colab/Images/VOCdevkit/VOC2007/JPEGImages/000954.jpg'"
          ]
        }
      ],
      "source": [
        "Image.open('/content/gdrive/MyDrive/Colab/Images/VOCdevkit/VOC2007/JPEGImages/000954.jpg')"
      ]
    },
    {
      "cell_type": "code",
      "execution_count": null,
      "metadata": {
        "colab": {
          "base_uri": "https://localhost:8080/",
          "height": 397
        },
        "id": "K3RGlNjOIuxx",
        "outputId": "14902f62-1660-4ba8-ffe1-b54e5e682d9e"
      },
      "outputs": [
        {
          "ename": "TypeError",
          "evalue": "ignored",
          "output_type": "error",
          "traceback": [
            "\u001b[0;31m---------------------------------------------------------------------------\u001b[0m",
            "\u001b[0;31mTypeError\u001b[0m                                 Traceback (most recent call last)",
            "\u001b[0;32m<ipython-input-93-1ba135663da5>\u001b[0m in \u001b[0;36m<module>\u001b[0;34m()\u001b[0m\n\u001b[0;32m----> 1\u001b[0;31m \u001b[0;32mfor\u001b[0m \u001b[0mx\u001b[0m\u001b[0;34m,\u001b[0m \u001b[0my\u001b[0m \u001b[0;32min\u001b[0m \u001b[0menumerate\u001b[0m\u001b[0;34m(\u001b[0m\u001b[0mdata_loader\u001b[0m\u001b[0;34m)\u001b[0m\u001b[0;34m:\u001b[0m\u001b[0;34m\u001b[0m\u001b[0;34m\u001b[0m\u001b[0m\n\u001b[0m\u001b[1;32m      2\u001b[0m   \u001b[0mprint\u001b[0m\u001b[0;34m(\u001b[0m\u001b[0mx\u001b[0m\u001b[0;34m)\u001b[0m\u001b[0;34m\u001b[0m\u001b[0;34m\u001b[0m\u001b[0m\n\u001b[1;32m      3\u001b[0m   \u001b[0mprint\u001b[0m\u001b[0;34m(\u001b[0m\u001b[0my\u001b[0m\u001b[0;34m)\u001b[0m\u001b[0;34m\u001b[0m\u001b[0;34m\u001b[0m\u001b[0m\n\u001b[1;32m      4\u001b[0m   \u001b[0;32mbreak\u001b[0m\u001b[0;34m\u001b[0m\u001b[0;34m\u001b[0m\u001b[0m\n",
            "\u001b[0;32m/usr/local/lib/python3.7/dist-packages/torch/utils/data/dataloader.py\u001b[0m in \u001b[0;36m__next__\u001b[0;34m(self)\u001b[0m\n\u001b[1;32m    528\u001b[0m     \u001b[0;31m#\u001b[0m\u001b[0;34m\u001b[0m\u001b[0;34m\u001b[0m\u001b[0;34m\u001b[0m\u001b[0m\n\u001b[1;32m    529\u001b[0m     \u001b[0;31m#        b. A process won't hang when putting into a queue;\u001b[0m\u001b[0;34m\u001b[0m\u001b[0;34m\u001b[0m\u001b[0;34m\u001b[0m\u001b[0m\n\u001b[0;32m--> 530\u001b[0;31m     \u001b[0;31m#\u001b[0m\u001b[0;34m\u001b[0m\u001b[0;34m\u001b[0m\u001b[0;34m\u001b[0m\u001b[0m\n\u001b[0m\u001b[1;32m    531\u001b[0m     \u001b[0;31m#           We use `mp.Queue` which has a separate background thread to put\u001b[0m\u001b[0;34m\u001b[0m\u001b[0;34m\u001b[0m\u001b[0;34m\u001b[0m\u001b[0m\n\u001b[1;32m    532\u001b[0m     \u001b[0;31m#           objects from an unbounded buffer array. The background thread is\u001b[0m\u001b[0;34m\u001b[0m\u001b[0;34m\u001b[0m\u001b[0;34m\u001b[0m\u001b[0m\n",
            "\u001b[0;32m/usr/local/lib/python3.7/dist-packages/torch/utils/data/dataloader.py\u001b[0m in \u001b[0;36m_next_data\u001b[0;34m(self)\u001b[0m\n",
            "\u001b[0;32m/usr/local/lib/python3.7/dist-packages/torch/utils/data/dataloader.py\u001b[0m in \u001b[0;36m_process_data\u001b[0;34m(self, data)\u001b[0m\n",
            "\u001b[0;32m/usr/local/lib/python3.7/dist-packages/torch/_utils.py\u001b[0m in \u001b[0;36mreraise\u001b[0;34m(self)\u001b[0m\n",
            "\u001b[0;31mTypeError\u001b[0m: Caught TypeError in DataLoader worker process 0.\nOriginal Traceback (most recent call last):\n  File \"/usr/local/lib/python3.7/dist-packages/torch/utils/data/_utils/worker.py\", line 287, in _worker_loop\n  File \"/usr/local/lib/python3.7/dist-packages/torch/utils/data/_utils/fetch.py\", line 49, in fetch\n  File \"/usr/local/lib/python3.7/dist-packages/torch/utils/data/_utils/fetch.py\", line 49, in <listcomp>\n  File \"<ipython-input-75-12a7ce20fbf0>\", line 29, in __getitem__\n    image,classes = self.transform(image,classes)\nTypeError: __call__() takes 2 positional arguments but 3 were given\n"
          ]
        }
      ],
      "source": [
        "for x, y in enumerate(data_loader):\n",
        "  print(x)\n",
        "  print(y)\n",
        "  break"
      ]
    },
    {
      "cell_type": "code",
      "execution_count": null,
      "metadata": {
        "colab": {
          "base_uri": "https://localhost:8080/",
          "height": 350
        },
        "id": "84GVUEKMWD3r",
        "outputId": "23ad1cc8-5a68-43a7-86b4-b7bf09e5202f"
      },
      "outputs": [
        {
          "data": {
            "image/png": "[encoded data removed]",
            "text/plain": [
              "<PIL.PngImagePlugin.PngImageFile image mode=P size=500x333 at 0x7F13EC98BD90>"
            ]
          },
          "execution_count": 51,
          "metadata": {},
          "output_type": "execute_result"
        }
      ],
      "source": [
        "with open('/content/gdrive/MyDrive/Colab/Images/VOCdevkit/trainval.json') as f:\n",
        "  data=json.load(f)\n",
        "torch.LongTensor(data[1]['classes'])\n",
        "Image.open('/content/gdrive/MyDrive/Colab/Images/VOCdevkit/VOC2007/SegmentationClass/003195.png')"
      ]
    },
    {
      "cell_type": "code",
      "execution_count": null,
      "metadata": {
        "id": "hrM1GhWYZEXT"
      },
      "outputs": [],
      "source": [
        "def collate_fn(batch):\n",
        "    images, boxes, classes, difficulties = zip(*batch)\n",
        "    images = torch.stack(images, axis=0)\n",
        "    return images, boxes, classes, difficulties"
      ]
    },
    {
      "cell_type": "code",
      "execution_count": null,
      "metadata": {
        "id": "GY_cvUCjCoUq"
      },
      "outputs": [],
      "source": [
        ""
      ]
    },
    {
      "cell_type": "code",
      "execution_count": null,
      "metadata": {
        "id": "Fo7UapiNB-Mh"
      },
      "outputs": [],
      "source": [
        "def create_dataloader(json_file, batch_size, image_size, image_mean,\n",
        "                      image_stddev, augment=False, shuffle=False, seed=None,\n",
        "                      num_workers=0):\n",
        "    dataset = Custom_Voc(json_file,_get_transform(image_size, augment, image_mean, image_stddev)\n",
        "    )\n",
        "\n",
        "    if seed is not None:\n",
        "        g = torch.Generator()\n",
        "        g.manual_seed(seed)\n",
        "    else:\n",
        "        g = None\n",
        "\n",
        "    dataloader = DataLoader(dataset,\n",
        "                            batch_size=batch_size,\n",
        "                            collate_fn=dataset.collate_fn,\n",
        "                            shuffle=shuffle,\n",
        "                            num_workers=num_workers,\n",
        "                            pin_memory=True,\n",
        "                            generator=g)\n",
        "    return dataloader"
      ]
    },
    {
      "cell_type": "code",
      "execution_count": null,
      "metadata": {
        "colab": {
          "base_uri": "https://localhost:8080/"
        },
        "id": "LLR4p4PkHC0c",
        "outputId": "65c919a9-1ef8-4a0c-f87e-926a15ff0caf"
      },
      "outputs": [
        {
          "name": "stdout",
          "output_type": "stream",
          "text": [
            "2007\n",
            "VOCdevkit/VOC2007/\n"
          ]
        }
      ],
      "source": [
        "paths = {2007:  'VOCdevkit/VOC2007/'}\n",
        "for year , path in paths.items():\n",
        "  print(year)\n",
        "  print(path)"
      ]
    },
    {
      "cell_type": "code",
      "execution_count": null,
      "metadata": {
        "colab": {
          "base_uri": "https://localhost:8080/",
          "height": 130
        },
        "id": "PlnnS8QsEuZP",
        "outputId": "4649b625-bad2-44fb-b16c-07f5b638892b"
      },
      "outputs": [
        {
          "ename": "SyntaxError",
          "evalue": "ignored",
          "output_type": "error",
          "traceback": [
            "\u001b[0;36m  File \u001b[0;32m\"<ipython-input-59-c510e059a7e2>\"\u001b[0;36m, line \u001b[0;32m3\u001b[0m\n\u001b[0;31m    #print(id)\u001b[0m\n\u001b[0m              ^\u001b[0m\n\u001b[0;31mSyntaxError\u001b[0m\u001b[0;31m:\u001b[0m unexpected EOF while parsing\n"
          ]
        }
      ],
      "source": [
        "from tqdm import tqdm\n",
        "for id in ids:\n",
        "  #print(id)\n"
      ]
    },
    {
      "cell_type": "code",
      "execution_count": null,
      "metadata": {
        "id": "enqEsseuWXum"
      },
      "outputs": [],
      "source": [
        ""
      ]
    },
    {
      "cell_type": "code",
      "execution_count": null,
      "metadata": {
        "id": "0Rzmij04AyPf"
      },
      "outputs": [],
      "source": [
        "train_dataset = []\n",
        "    for year, path in paths.items():\n",
        "        with open(os.path.join(path, 'ImageSets/Main/trainval.txt')) as f:\n",
        "            ids = [line.strip() for line in f.readlines()]\n",
        "        for id in tqdm(ids, desc=\"train %d\" % year):\n",
        "            image_path = os.path.join(path, 'JPEGImages', id + '.jpg')\n",
        "            annotation_path = os.path.join(path, 'Annotations', id + '.xml')\n",
        "            boxes, classes, difficulties = parse_annotation(annotation_path)\n",
        "            classes = [class_names.index(c) for c in classes]\n",
        "            train_dataset.append(\n",
        "                {\n",
        "                    'image': os.path.abspath(image_path),\n",
        "                    'boxes': boxes,\n",
        "                    'classes': classes,\n",
        "                    'difficulties': difficulties\n",
        "                }\n",
        "            )\n",
        "    save_as_json('train.json', train_dataset)"
      ]
    },
    {
      "cell_type": "code",
      "execution_count": null,
      "metadata": {
        "colab": {
          "base_uri": "https://localhost:8080/",
          "height": 165
        },
        "id": "LlOcohByE0Js",
        "outputId": "2f1c585b-a570-4150-f4fd-cadd58cccbfd"
      },
      "outputs": [
        {
          "ename": "TypeError",
          "evalue": "ignored",
          "output_type": "error",
          "traceback": [
            "\u001b[0;31m---------------------------------------------------------------------------\u001b[0m",
            "\u001b[0;31mTypeError\u001b[0m                                 Traceback (most recent call last)",
            "\u001b[0;32m<ipython-input-31-99d683bf117c>\u001b[0m in \u001b[0;36m<module>\u001b[0;34m()\u001b[0m\n\u001b[0;32m----> 1\u001b[0;31m \u001b[0mtqdm\u001b[0m\u001b[0;34m(\u001b[0m\u001b[0mids\u001b[0m\u001b[0;34m,\u001b[0m\u001b[0mdesc\u001b[0m\u001b[0;34m=\u001b[0m\u001b[0;34m'train %d'\u001b[0m \u001b[0;34m%\u001b[0m \u001b[0;36m2007\u001b[0m\u001b[0;34m)\u001b[0m\u001b[0;34m\u001b[0m\u001b[0;34m\u001b[0m\u001b[0m\n\u001b[0m",
            "\u001b[0;31mTypeError\u001b[0m: 'module' object is not callable"
          ]
        }
      ],
      "source": [
        "tqdm(ids,desc='train %d' % 2007)"
      ]
    },
    {
      "cell_type": "code",
      "execution_count": null,
      "metadata": {
        "id": "AsfU2WKB9zH4"
      },
      "outputs": [],
      "source": [
        "file_root='/content/gdrive/MyDrive/Colab/Images/VOCdevkit/VOC2007/'\n",
        "datafiles='trainval.txt'\n",
        "nb_classes=20\n",
        "\n",
        "# USe pytorch 1.5.0 other error regarding the element size will occur\n",
        "data_loader = torch.utils.data.DataLoader(dataset,shuffle=True, batch_size=32,\n",
        "        num_workers=2, pin_memory=True, drop_last=True)\n",
        "\n",
        "for data, target in data_loader:\n",
        "  data,target\n",
        "  break\n",
        "  \n",
        "## Build data set and then send to loader\n",
        "   elif args.data_set == 'PASCALVOC':\n",
        "        file_root = os.path.join(args.data_location, 'VOCdevkit/VOC2007/')\n",
        "        if is_train:\n",
        "            datafiles = 'trainval.txt'\n",
        "        else:\n",
        "            datafiles ='test.txt'\n",
        "\n",
        "        dataset = VocDataset(file_root, anno_path=datafiles, transform=trnsfrm)\n",
        "\n",
        "        nb_classes = 20"
      ]
    },
    {
      "cell_type": "code",
      "execution_count": null,
      "metadata": {
        "id": "xGbRo5YO7fNF"
      },
      "outputs": [],
      "source": [
        "from torch.utils.data import Dataset \n",
        "from torchvision import datasets\n",
        "import pandas as pd \n",
        "from torchvision.io import read_image\n",
        "\n",
        "class CustomImageDataset(Dataset):\n",
        "    def __init__(self, annotations_file, img_dir, transform=None, target_transform=None):\n",
        "        self.img_labels = pd.read_csv(annotations_file)\n",
        "        self.img_dir = img_dir\n",
        "        self.transform = transform\n",
        "        self.target_transform = target_transform\n",
        "\n",
        "    def __len__(self):\n",
        "        return len(self.img_labels)\n",
        "\n",
        "    def __getitem__(self, idx):\n",
        "        img_path = os.path.join(self.img_dir, self.img_labels.iloc[idx, 0])\n",
        "        image = read_image(img_path)\n",
        "        label = self.img_labels.iloc[idx, 1]\n",
        "        if self.transform:\n",
        "            image = self.transform(image)\n",
        "        if self.target_transform:\n",
        "            label = self.target_transform(label)\n",
        "        return image, label"
      ]
    },
    {
      "cell_type": "code",
      "execution_count": null,
      "metadata": {
        "id": "7itJVQ9_bwDK"
      },
      "outputs": [],
      "source": [
        ""
      ]
    },
    {
      "cell_type": "code",
      "execution_count": null,
      "metadata": {
        "id": "DdJL8BXCbwAn"
      },
      "outputs": [],
      "source": [
        ""
      ]
    },
    {
      "cell_type": "code",
      "execution_count": null,
      "metadata": {
        "id": "_C1b2-u6bv-E"
      },
      "outputs": [],
      "source": [
        ""
      ]
    },
    {
      "cell_type": "code",
      "execution_count": null,
      "metadata": {
        "id": "wX15vcd-bv7k"
      },
      "outputs": [],
      "source": [
        ""
      ]
    },
    {
      "cell_type": "code",
      "execution_count": null,
      "metadata": {
        "id": "GxOgwJKIbv5C"
      },
      "outputs": [],
      "source": [
        ""
      ]
    },
    {
      "cell_type": "code",
      "execution_count": null,
      "metadata": {
        "id": "CIlJ4a83or2w"
      },
      "outputs": [],
      "source": [
        ""
      ]
    }
  ],
  "metadata": {
    "accelerator": "GPU",
    "colab": {
      "collapsed_sections": [],
      "machine_shape": "hm",
      "name": "GMML.ipynb",
      "provenance": [],
      "include_colab_link": true
    },
    "gpuClass": "standard",
    "kernelspec": {
      "display_name": "Python 3",
      "name": "python3"
    },
    "language_info": {
      "name": "python"
    }
  },
  "nbformat": 4,
  "nbformat_minor": 0
}